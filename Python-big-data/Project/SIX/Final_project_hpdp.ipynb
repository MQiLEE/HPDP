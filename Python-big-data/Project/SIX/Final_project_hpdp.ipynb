{
  "cells": [
    {
      "cell_type": "markdown",
      "metadata": {
        "id": "view-in-github",
        "colab_type": "text"
      },
      "source": [
        "<a href=\"https://colab.research.google.com/github/MQiLEE/HPDP/blob/main/Python-big-data/Project/SIX/Final_project_hpdp.ipynb\" target=\"_parent\"><img src=\"https://colab.research.google.com/assets/colab-badge.svg\" alt=\"Open In Colab\"/></a>"
      ]
    },
    {
      "cell_type": "markdown",
      "metadata": {
        "id": "8HfAIXrNdOBt"
      },
      "source": [
        "# **NYC Parking Ticket Analysis Using 3 Different Libraries.**"
      ]
    },
    {
      "cell_type": "markdown",
      "metadata": {
        "id": "KZa3Yh9yHtj0"
      },
      "source": [
        "**Group Members:**\n",
        "\n",
        "<table>\n",
        "  <tr>\n",
        "    <th>Name</th>\n",
        "    <th>Matric</th>\n",
        "  </tr>\n",
        "  <tr>\n",
        "    <th>LEE MING QI</th>\n",
        "    <th>A20EC0064</th>\n",
        "  </tr>\n",
        "\n",
        "  <tr>\n",
        "    <th>AMIRAH RAIHANAH BINTI ABDUL RAHIM</th>\n",
        "    <th>A20EC0182</th>\n",
        "  </tr>\n",
        "    <tr>\n",
        "    <th>SINGTHAI SRISOI</th>\n",
        "    <th>A20EC0147</th>\n",
        "  </tr>\n",
        "    <tr>\n",
        "    <th>NUR IRDINA ALIAH BINTI ABDUL WAHAB</th>\n",
        "    <th>A20EC0115</th>\n",
        "  </tr>\n",
        "</table>\n"
      ]
    },
    {
      "cell_type": "markdown",
      "metadata": {
        "id": "zoYgPcVS0awB"
      },
      "source": [
        "**About Project:**\n",
        "\n",
        "In this project, we will analyze NYC Parking Ticket dataset by performing EDA using 3 different libraries. The libraries that will be use are Dask, Pyspark and Koalas.The dataset used can be retrieve from [Kaggle](https://www.kaggle.com/datasets/new-york-city/nyc-parking-tickets). This is a large dataset that contains 10 million rows and 51 columns with the size of 2GB. We will show each operation by using the 3 libraries stated and provide time taken needed to perform it. This will help you to evaluate which library can do it more effectively. \n",
        "This project is divided to 4 parts;\n",
        "\n",
        "\n",
        "1.   Downloading Dataset\n",
        "2.   Data Cleaning\n",
        "3.   Data Visualization\n",
        "4.   Data Questions and Answers\n",
        "5.   Findings and Analysis\n",
        "\n",
        "\n"
      ]
    },
    {
      "cell_type": "markdown",
      "metadata": {
        "id": "l1auve99Tdxz"
      },
      "source": [
        "\n",
        "\n",
        "---\n",
        "\n",
        "\n",
        "## **`Downloading the Dataset`**\n",
        "\n",
        "The NYC Department of Finance collects data on every parking ticket issued in NYC. This data is made publicly available to aid in ticket resolution and to guide policymakers. Now, we will perform EDA by first downloading the dataset from Kaggle [here](https://www.kaggle.com/datasets/new-york-city/nyc-parking-tickets).\n",
        "\n",
        "Download steps:\n",
        "1. Open [dataset link](https://www.kaggle.com/datasets/new-york-city/nyc-parking-tickets) that will be directed to the NYC Parking Ticket dataset.\n",
        "2. Download the dataset.\n",
        "3. Upload dataset into Google Drive.\n",
        "4. Get link of the dataset file in Google Drive.\n",
        "5. Import the dataset retrieve from Google Drive."
      ]
    },
    {
      "cell_type": "code",
      "execution_count": 3,
      "metadata": {
        "id": "Irz-XIEctley"
      },
      "outputs": [],
      "source": [
        "# # Pull dataset from google drive\n",
        "# !pip install -U -q PyDrive\n",
        "# from pydrive.auth import GoogleAuth\n",
        "# from pydrive.drive import GoogleDrive\n",
        "# from google.colab import auth\n",
        "# from oauth2client.client import GoogleCredentials\n",
        "\n",
        "# # Authenticate and create the PyDrive client.\n",
        "# auth.authenticate_user()\n",
        "# gauth = GoogleAuth()\n",
        "# gauth.credentials = GoogleCredentials.get_application_default()\n",
        "# drive = GoogleDrive(gauth)\n",
        "# link = 'https://drive.google.com/file/d/1TSEOGseOzszVn342YESVHk7LyjX1Qmbd/view?usp=sharing'\n",
        "# # to get the id part of the file\n",
        "# id = link.split(\"/\")[-2]\n",
        " \n",
        "# downloaded = drive.CreateFile({'id':id})\n",
        "# downloaded.GetContentFile('NYC_Parking_Ticket.csv') "
      ]
    },
    {
      "cell_type": "markdown",
      "metadata": {
        "id": "8scOwO3NfNjs"
      },
      "source": [
        "\n",
        "\n",
        "---\n",
        "\n",
        "# **`Read Dataset Into Dataframe Of Each Library`**\n",
        "Steps:\n",
        "1. Install library using pip.\n",
        "2. Import the library installed.\n",
        "3. Read the csv file into dataframe."
      ]
    },
    {
      "cell_type": "code",
      "execution_count": 4,
      "metadata": {
        "id": "eRdQNGqdhzE5"
      },
      "outputs": [],
      "source": [
        "import pandas as pd\n",
        "import numpy as np"
      ]
    },
    {
      "cell_type": "markdown",
      "metadata": {
        "id": "8gAN8OgXfyx-"
      },
      "source": [
        "**1. Dask**"
      ]
    },
    {
      "cell_type": "code",
      "execution_count": 5,
      "metadata": {
        "colab": {
          "base_uri": "https://localhost:8080/"
        },
        "id": "LP0enrrlursp",
        "outputId": "d625621a-b8fd-484a-d66c-aab36b4b78d9"
      },
      "outputs": [
        {
          "output_type": "stream",
          "name": "stdout",
          "text": [
            "Looking in indexes: https://pypi.org/simple, https://us-python.pkg.dev/colab-wheels/public/simple/\n",
            "Requirement already satisfied: dask[complete] in /usr/local/lib/python3.8/dist-packages (2022.2.1)\n",
            "Requirement already satisfied: fsspec>=0.6.0 in /usr/local/lib/python3.8/dist-packages (from dask[complete]) (2022.11.0)\n",
            "Requirement already satisfied: toolz>=0.8.2 in /usr/local/lib/python3.8/dist-packages (from dask[complete]) (0.12.0)\n",
            "Requirement already satisfied: packaging>=20.0 in /usr/local/lib/python3.8/dist-packages (from dask[complete]) (21.3)\n",
            "Requirement already satisfied: pyyaml>=5.3.1 in /usr/local/lib/python3.8/dist-packages (from dask[complete]) (6.0)\n",
            "Requirement already satisfied: cloudpickle>=1.1.1 in /usr/local/lib/python3.8/dist-packages (from dask[complete]) (2.2.0)\n",
            "Requirement already satisfied: partd>=0.3.10 in /usr/local/lib/python3.8/dist-packages (from dask[complete]) (1.3.0)\n",
            "Requirement already satisfied: distributed==2022.02.1 in /usr/local/lib/python3.8/dist-packages (from dask[complete]) (2022.2.1)\n",
            "Requirement already satisfied: jinja2 in /usr/local/lib/python3.8/dist-packages (from dask[complete]) (2.11.3)\n",
            "Requirement already satisfied: bokeh>=2.1.1 in /usr/local/lib/python3.8/dist-packages (from dask[complete]) (2.3.3)\n",
            "Requirement already satisfied: numpy>=1.18 in /usr/local/lib/python3.8/dist-packages (from dask[complete]) (1.21.6)\n",
            "Requirement already satisfied: pandas>=1.0 in /usr/local/lib/python3.8/dist-packages (from dask[complete]) (1.3.5)\n",
            "Requirement already satisfied: sortedcontainers!=2.0.0,!=2.0.1 in /usr/local/lib/python3.8/dist-packages (from distributed==2022.02.1->dask[complete]) (2.4.0)\n",
            "Requirement already satisfied: click>=6.6 in /usr/local/lib/python3.8/dist-packages (from distributed==2022.02.1->dask[complete]) (7.1.2)\n",
            "Requirement already satisfied: psutil>=5.0 in /usr/local/lib/python3.8/dist-packages (from distributed==2022.02.1->dask[complete]) (5.4.8)\n",
            "Requirement already satisfied: zict>=0.1.3 in /usr/local/lib/python3.8/dist-packages (from distributed==2022.02.1->dask[complete]) (2.2.0)\n",
            "Requirement already satisfied: tornado>=6.0.3 in /usr/local/lib/python3.8/dist-packages (from distributed==2022.02.1->dask[complete]) (6.0.4)\n",
            "Requirement already satisfied: setuptools in /usr/local/lib/python3.8/dist-packages (from distributed==2022.02.1->dask[complete]) (57.4.0)\n",
            "Requirement already satisfied: tblib>=1.6.0 in /usr/local/lib/python3.8/dist-packages (from distributed==2022.02.1->dask[complete]) (1.7.0)\n",
            "Requirement already satisfied: msgpack>=0.6.0 in /usr/local/lib/python3.8/dist-packages (from distributed==2022.02.1->dask[complete]) (1.0.4)\n",
            "Requirement already satisfied: python-dateutil>=2.1 in /usr/local/lib/python3.8/dist-packages (from bokeh>=2.1.1->dask[complete]) (2.8.2)\n",
            "Requirement already satisfied: pillow>=7.1.0 in /usr/local/lib/python3.8/dist-packages (from bokeh>=2.1.1->dask[complete]) (7.1.2)\n",
            "Requirement already satisfied: typing-extensions>=3.7.4 in /usr/local/lib/python3.8/dist-packages (from bokeh>=2.1.1->dask[complete]) (4.4.0)\n",
            "Requirement already satisfied: MarkupSafe>=0.23 in /usr/local/lib/python3.8/dist-packages (from jinja2->dask[complete]) (2.0.1)\n",
            "Requirement already satisfied: pyparsing!=3.0.5,>=2.0.2 in /usr/local/lib/python3.8/dist-packages (from packaging>=20.0->dask[complete]) (3.0.9)\n",
            "Requirement already satisfied: pytz>=2017.3 in /usr/local/lib/python3.8/dist-packages (from pandas>=1.0->dask[complete]) (2022.7)\n",
            "Requirement already satisfied: locket in /usr/local/lib/python3.8/dist-packages (from partd>=0.3.10->dask[complete]) (1.0.0)\n",
            "Requirement already satisfied: six>=1.5 in /usr/local/lib/python3.8/dist-packages (from python-dateutil>=2.1->bokeh>=2.1.1->dask[complete]) (1.15.0)\n",
            "Requirement already satisfied: heapdict in /usr/local/lib/python3.8/dist-packages (from zict>=0.1.3->distributed==2022.02.1->dask[complete]) (1.0.1)\n"
          ]
        }
      ],
      "source": [
        "!python -m pip install \"dask[complete]\" # Install everything"
      ]
    },
    {
      "cell_type": "code",
      "execution_count": 6,
      "metadata": {
        "id": "lPD3kUWlKaSi"
      },
      "outputs": [],
      "source": [
        " #specify dtypes to prevent errors because the dataset is messy.\n",
        " dtypes={'Date First Observed': str,\n",
        "    'Days Parking In Effect    ': str,\n",
        "    'Double Parking Violation': str,\n",
        "    'Feet From Curb': np.float32,\n",
        "    'From Hours In Effect': str,\n",
        "    'House Number': str,\n",
        "    'Hydrant Violation': str,\n",
        "    'Intersecting Street': str,\n",
        "    'Issue Date': str,\n",
        "    'Issuer Code': np.float32,\n",
        "    'Issuer Command': str,\n",
        "    'Issuer Precinct': np.float32,\n",
        "    'Issuer Squad': str,\n",
        "    'Issuing Agency': str,\n",
        "    'Law Section': np.float32,\n",
        "    'Meter Number': str,\n",
        "    'No Standing or Stopping Violation': str,\n",
        "    'Plate ID': str,\n",
        "    'Plate Type': str,\n",
        "    'Registration State': str,\n",
        "    'Street Code1': np.int32,\n",
        "    'Street Code2': np.int32,\n",
        "    'Street Code3': np.int32,\n",
        "    'Street Name': str,\n",
        "    'Sub Division': str,\n",
        "    'Summons Number': np.int32,\n",
        "    'Time First Observed': str,\n",
        "    'To Hours In Effect': str,\n",
        "    'Unregistered Vehicle?': str,\n",
        "    'Vehicle Body Type': str,\n",
        "    'Vehicle Color': str,\n",
        "    'Vehicle Expiration Date': str,\n",
        "    'Vehicle Make': str,\n",
        "    'Vehicle Year': np.float32,\n",
        "    'Violation Code': np.int16,\n",
        "    'Violation County': str,\n",
        "    'Violation Description': str,\n",
        "    'Violation In Front Of Or Opposite': str,\n",
        "    'Violation Legal Code': str,\n",
        "    'Violation Location': str,\n",
        "    'Violation Post Code': str,\n",
        "    'Violation Precinct': np.float32,\n",
        "    'Violation Time': str\n",
        "}"
      ]
    },
    {
      "cell_type": "code",
      "execution_count": 7,
      "metadata": {
        "id": "83QjBRMyKUV_"
      },
      "outputs": [],
      "source": [
        "import dask.dataframe as dd"
      ]
    },
    {
      "cell_type": "code",
      "execution_count": 8,
      "metadata": {
        "colab": {
          "base_uri": "https://localhost:8080/",
          "height": 370
        },
        "id": "rrtwlyqijIIK",
        "outputId": "34246e61-4734-42bf-8c70-796b0d86ff1c"
      },
      "outputs": [
        {
          "output_type": "stream",
          "name": "stdout",
          "text": [
            "CPU times: user 1.02 s, sys: 166 ms, total: 1.18 s\n",
            "Wall time: 1.33 s\n"
          ]
        },
        {
          "output_type": "execute_result",
          "data": {
            "text/plain": [
              "   Summons Number Plate ID Registration State Plate Type  Issue Date  \\\n",
              "0      1283294138  GBB9093                 NY        PAS  08/04/2013   \n",
              "1      1283294151  62416MB                 NY        COM  08/04/2013   \n",
              "2      1283294163  78755JZ                 NY        COM  08/05/2013   \n",
              "3      1283294175  63009MA                 NY        COM  08/05/2013   \n",
              "4      1283294187  91648MC                 NY        COM  08/08/2013   \n",
              "\n",
              "   Violation Code Vehicle Body Type Vehicle Make Issuing Agency  Street Code1  \\\n",
              "0              46              SUBN         AUDI              P         37250   \n",
              "1              46               VAN         FORD              P         37290   \n",
              "2              46               P-U        CHEVR              P         37030   \n",
              "3              46               VAN         FORD              P         37270   \n",
              "4              41              TRLR          GMC              P         37240   \n",
              "\n",
              "   ...  Hydrant Violation  Double Parking Violation Latitude Longitude  \\\n",
              "0  ...                NaN                       NaN      NaN       NaN   \n",
              "1  ...                NaN                       NaN      NaN       NaN   \n",
              "2  ...                NaN                       NaN      NaN       NaN   \n",
              "3  ...                NaN                       NaN      NaN       NaN   \n",
              "4  ...                NaN                       NaN      NaN       NaN   \n",
              "\n",
              "   Community Board  Community Council   Census Tract BIN BBL NTA  \n",
              "0              NaN                 NaN           NaN NaN NaN NaN  \n",
              "1              NaN                 NaN           NaN NaN NaN NaN  \n",
              "2              NaN                 NaN           NaN NaN NaN NaN  \n",
              "3              NaN                 NaN           NaN NaN NaN NaN  \n",
              "4              NaN                 NaN           NaN NaN NaN NaN  \n",
              "\n",
              "[5 rows x 51 columns]"
            ],
            "text/html": [
              "\n",
              "  <div id=\"df-46e6213d-e537-45c3-84a7-1aad73166a07\">\n",
              "    <div class=\"colab-df-container\">\n",
              "      <div>\n",
              "<style scoped>\n",
              "    .dataframe tbody tr th:only-of-type {\n",
              "        vertical-align: middle;\n",
              "    }\n",
              "\n",
              "    .dataframe tbody tr th {\n",
              "        vertical-align: top;\n",
              "    }\n",
              "\n",
              "    .dataframe thead th {\n",
              "        text-align: right;\n",
              "    }\n",
              "</style>\n",
              "<table border=\"1\" class=\"dataframe\">\n",
              "  <thead>\n",
              "    <tr style=\"text-align: right;\">\n",
              "      <th></th>\n",
              "      <th>Summons Number</th>\n",
              "      <th>Plate ID</th>\n",
              "      <th>Registration State</th>\n",
              "      <th>Plate Type</th>\n",
              "      <th>Issue Date</th>\n",
              "      <th>Violation Code</th>\n",
              "      <th>Vehicle Body Type</th>\n",
              "      <th>Vehicle Make</th>\n",
              "      <th>Issuing Agency</th>\n",
              "      <th>Street Code1</th>\n",
              "      <th>...</th>\n",
              "      <th>Hydrant Violation</th>\n",
              "      <th>Double Parking Violation</th>\n",
              "      <th>Latitude</th>\n",
              "      <th>Longitude</th>\n",
              "      <th>Community Board</th>\n",
              "      <th>Community Council</th>\n",
              "      <th>Census Tract</th>\n",
              "      <th>BIN</th>\n",
              "      <th>BBL</th>\n",
              "      <th>NTA</th>\n",
              "    </tr>\n",
              "  </thead>\n",
              "  <tbody>\n",
              "    <tr>\n",
              "      <th>0</th>\n",
              "      <td>1283294138</td>\n",
              "      <td>GBB9093</td>\n",
              "      <td>NY</td>\n",
              "      <td>PAS</td>\n",
              "      <td>08/04/2013</td>\n",
              "      <td>46</td>\n",
              "      <td>SUBN</td>\n",
              "      <td>AUDI</td>\n",
              "      <td>P</td>\n",
              "      <td>37250</td>\n",
              "      <td>...</td>\n",
              "      <td>NaN</td>\n",
              "      <td>NaN</td>\n",
              "      <td>NaN</td>\n",
              "      <td>NaN</td>\n",
              "      <td>NaN</td>\n",
              "      <td>NaN</td>\n",
              "      <td>NaN</td>\n",
              "      <td>NaN</td>\n",
              "      <td>NaN</td>\n",
              "      <td>NaN</td>\n",
              "    </tr>\n",
              "    <tr>\n",
              "      <th>1</th>\n",
              "      <td>1283294151</td>\n",
              "      <td>62416MB</td>\n",
              "      <td>NY</td>\n",
              "      <td>COM</td>\n",
              "      <td>08/04/2013</td>\n",
              "      <td>46</td>\n",
              "      <td>VAN</td>\n",
              "      <td>FORD</td>\n",
              "      <td>P</td>\n",
              "      <td>37290</td>\n",
              "      <td>...</td>\n",
              "      <td>NaN</td>\n",
              "      <td>NaN</td>\n",
              "      <td>NaN</td>\n",
              "      <td>NaN</td>\n",
              "      <td>NaN</td>\n",
              "      <td>NaN</td>\n",
              "      <td>NaN</td>\n",
              "      <td>NaN</td>\n",
              "      <td>NaN</td>\n",
              "      <td>NaN</td>\n",
              "    </tr>\n",
              "    <tr>\n",
              "      <th>2</th>\n",
              "      <td>1283294163</td>\n",
              "      <td>78755JZ</td>\n",
              "      <td>NY</td>\n",
              "      <td>COM</td>\n",
              "      <td>08/05/2013</td>\n",
              "      <td>46</td>\n",
              "      <td>P-U</td>\n",
              "      <td>CHEVR</td>\n",
              "      <td>P</td>\n",
              "      <td>37030</td>\n",
              "      <td>...</td>\n",
              "      <td>NaN</td>\n",
              "      <td>NaN</td>\n",
              "      <td>NaN</td>\n",
              "      <td>NaN</td>\n",
              "      <td>NaN</td>\n",
              "      <td>NaN</td>\n",
              "      <td>NaN</td>\n",
              "      <td>NaN</td>\n",
              "      <td>NaN</td>\n",
              "      <td>NaN</td>\n",
              "    </tr>\n",
              "    <tr>\n",
              "      <th>3</th>\n",
              "      <td>1283294175</td>\n",
              "      <td>63009MA</td>\n",
              "      <td>NY</td>\n",
              "      <td>COM</td>\n",
              "      <td>08/05/2013</td>\n",
              "      <td>46</td>\n",
              "      <td>VAN</td>\n",
              "      <td>FORD</td>\n",
              "      <td>P</td>\n",
              "      <td>37270</td>\n",
              "      <td>...</td>\n",
              "      <td>NaN</td>\n",
              "      <td>NaN</td>\n",
              "      <td>NaN</td>\n",
              "      <td>NaN</td>\n",
              "      <td>NaN</td>\n",
              "      <td>NaN</td>\n",
              "      <td>NaN</td>\n",
              "      <td>NaN</td>\n",
              "      <td>NaN</td>\n",
              "      <td>NaN</td>\n",
              "    </tr>\n",
              "    <tr>\n",
              "      <th>4</th>\n",
              "      <td>1283294187</td>\n",
              "      <td>91648MC</td>\n",
              "      <td>NY</td>\n",
              "      <td>COM</td>\n",
              "      <td>08/08/2013</td>\n",
              "      <td>41</td>\n",
              "      <td>TRLR</td>\n",
              "      <td>GMC</td>\n",
              "      <td>P</td>\n",
              "      <td>37240</td>\n",
              "      <td>...</td>\n",
              "      <td>NaN</td>\n",
              "      <td>NaN</td>\n",
              "      <td>NaN</td>\n",
              "      <td>NaN</td>\n",
              "      <td>NaN</td>\n",
              "      <td>NaN</td>\n",
              "      <td>NaN</td>\n",
              "      <td>NaN</td>\n",
              "      <td>NaN</td>\n",
              "      <td>NaN</td>\n",
              "    </tr>\n",
              "  </tbody>\n",
              "</table>\n",
              "<p>5 rows × 51 columns</p>\n",
              "</div>\n",
              "      <button class=\"colab-df-convert\" onclick=\"convertToInteractive('df-46e6213d-e537-45c3-84a7-1aad73166a07')\"\n",
              "              title=\"Convert this dataframe to an interactive table.\"\n",
              "              style=\"display:none;\">\n",
              "        \n",
              "  <svg xmlns=\"http://www.w3.org/2000/svg\" height=\"24px\"viewBox=\"0 0 24 24\"\n",
              "       width=\"24px\">\n",
              "    <path d=\"M0 0h24v24H0V0z\" fill=\"none\"/>\n",
              "    <path d=\"M18.56 5.44l.94 2.06.94-2.06 2.06-.94-2.06-.94-.94-2.06-.94 2.06-2.06.94zm-11 1L8.5 8.5l.94-2.06 2.06-.94-2.06-.94L8.5 2.5l-.94 2.06-2.06.94zm10 10l.94 2.06.94-2.06 2.06-.94-2.06-.94-.94-2.06-.94 2.06-2.06.94z\"/><path d=\"M17.41 7.96l-1.37-1.37c-.4-.4-.92-.59-1.43-.59-.52 0-1.04.2-1.43.59L10.3 9.45l-7.72 7.72c-.78.78-.78 2.05 0 2.83L4 21.41c.39.39.9.59 1.41.59.51 0 1.02-.2 1.41-.59l7.78-7.78 2.81-2.81c.8-.78.8-2.07 0-2.86zM5.41 20L4 18.59l7.72-7.72 1.47 1.35L5.41 20z\"/>\n",
              "  </svg>\n",
              "      </button>\n",
              "      \n",
              "  <style>\n",
              "    .colab-df-container {\n",
              "      display:flex;\n",
              "      flex-wrap:wrap;\n",
              "      gap: 12px;\n",
              "    }\n",
              "\n",
              "    .colab-df-convert {\n",
              "      background-color: #E8F0FE;\n",
              "      border: none;\n",
              "      border-radius: 50%;\n",
              "      cursor: pointer;\n",
              "      display: none;\n",
              "      fill: #1967D2;\n",
              "      height: 32px;\n",
              "      padding: 0 0 0 0;\n",
              "      width: 32px;\n",
              "    }\n",
              "\n",
              "    .colab-df-convert:hover {\n",
              "      background-color: #E2EBFA;\n",
              "      box-shadow: 0px 1px 2px rgba(60, 64, 67, 0.3), 0px 1px 3px 1px rgba(60, 64, 67, 0.15);\n",
              "      fill: #174EA6;\n",
              "    }\n",
              "\n",
              "    [theme=dark] .colab-df-convert {\n",
              "      background-color: #3B4455;\n",
              "      fill: #D2E3FC;\n",
              "    }\n",
              "\n",
              "    [theme=dark] .colab-df-convert:hover {\n",
              "      background-color: #434B5C;\n",
              "      box-shadow: 0px 1px 3px 1px rgba(0, 0, 0, 0.15);\n",
              "      filter: drop-shadow(0px 1px 2px rgba(0, 0, 0, 0.3));\n",
              "      fill: #FFFFFF;\n",
              "    }\n",
              "  </style>\n",
              "\n",
              "      <script>\n",
              "        const buttonEl =\n",
              "          document.querySelector('#df-46e6213d-e537-45c3-84a7-1aad73166a07 button.colab-df-convert');\n",
              "        buttonEl.style.display =\n",
              "          google.colab.kernel.accessAllowed ? 'block' : 'none';\n",
              "\n",
              "        async function convertToInteractive(key) {\n",
              "          const element = document.querySelector('#df-46e6213d-e537-45c3-84a7-1aad73166a07');\n",
              "          const dataTable =\n",
              "            await google.colab.kernel.invokeFunction('convertToInteractive',\n",
              "                                                     [key], {});\n",
              "          if (!dataTable) return;\n",
              "\n",
              "          const docLinkHtml = 'Like what you see? Visit the ' +\n",
              "            '<a target=\"_blank\" href=https://colab.research.google.com/notebooks/data_table.ipynb>data table notebook</a>'\n",
              "            + ' to learn more about interactive tables.';\n",
              "          element.innerHTML = '';\n",
              "          dataTable['output_type'] = 'display_data';\n",
              "          await google.colab.output.renderOutput(dataTable, element);\n",
              "          const docLink = document.createElement('div');\n",
              "          docLink.innerHTML = docLinkHtml;\n",
              "          element.appendChild(docLink);\n",
              "        }\n",
              "      </script>\n",
              "    </div>\n",
              "  </div>\n",
              "  "
            ]
          },
          "metadata": {},
          "execution_count": 8
        }
      ],
      "source": [
        "%%time\n",
        "dfdask = dd.read_csv('NYC_Parking_Ticket.csv',dtype=dtypes)\n",
        "dfdask.head()\n",
        "       "
      ]
    },
    {
      "cell_type": "markdown",
      "metadata": {
        "id": "oF1rpVAGf9wp"
      },
      "source": [
        "**2. PySpark**"
      ]
    },
    {
      "cell_type": "code",
      "execution_count": 9,
      "metadata": {
        "colab": {
          "base_uri": "https://localhost:8080/"
        },
        "id": "lSeH5NRku3xj",
        "outputId": "81f26654-eb3b-414d-84da-2bf20c586523"
      },
      "outputs": [
        {
          "output_type": "stream",
          "name": "stdout",
          "text": [
            "Looking in indexes: https://pypi.org/simple, https://us-python.pkg.dev/colab-wheels/public/simple/\n",
            "Requirement already satisfied: pyspark in /usr/local/lib/python3.8/dist-packages (3.3.1)\n",
            "Requirement already satisfied: py4j==0.10.9.5 in /usr/local/lib/python3.8/dist-packages (from pyspark) (0.10.9.5)\n"
          ]
        }
      ],
      "source": [
        "!pip install pyspark"
      ]
    },
    {
      "cell_type": "code",
      "execution_count": 10,
      "metadata": {
        "id": "0DP9nZxKKpK7"
      },
      "outputs": [],
      "source": [
        "from pyspark.sql import SparkSession\n",
        "import pyspark.sql.functions as func\n",
        "from pyspark.sql.types import StructType,StructField, StringType, IntegerType \n",
        "from pyspark.sql.types import ArrayType, DoubleType, BooleanType\n",
        "from pyspark.sql.functions import col,array_contains\n",
        "spark = SparkSession.builder.getOrCreate()"
      ]
    },
    {
      "cell_type": "code",
      "execution_count": 11,
      "metadata": {
        "colab": {
          "base_uri": "https://localhost:8080/"
        },
        "id": "5kXp9vdXSPXB",
        "outputId": "ad40184e-3580-4e27-96da-efc261efd605"
      },
      "outputs": [
        {
          "output_type": "stream",
          "name": "stdout",
          "text": [
            "+--------------+--------+------------------+----------+----------+--------------+-----------------+------------+--------------+------------+------------+------------+-----------------------+------------------+------------------+---------------+-----------+--------------+------------+--------------+-------------------+----------------+---------------------------------+------------+-----------+-------------------+-------------------+-----------+------------+--------------------+--------------------------+--------------------+------------------+-------------+---------------------+------------+------------+--------------+-------------------+---------------------+---------------------------------+-----------------+------------------------+--------+---------+---------------+------------------+------------+----+----+----+\n",
            "|Summons Number|Plate ID|Registration State|Plate Type|Issue Date|Violation Code|Vehicle Body Type|Vehicle Make|Issuing Agency|Street Code1|Street Code2|Street Code3|Vehicle Expiration Date|Violation Location|Violation Precinct|Issuer Precinct|Issuer Code|Issuer Command|Issuer Squad|Violation Time|Time First Observed|Violation County|Violation In Front Of Or Opposite|House Number|Street Name|Intersecting Street|Date First Observed|Law Section|Sub Division|Violation Legal Code|Days Parking In Effect    |From Hours In Effect|To Hours In Effect|Vehicle Color|Unregistered Vehicle?|Vehicle Year|Meter Number|Feet From Curb|Violation Post Code|Violation Description|No Standing or Stopping Violation|Hydrant Violation|Double Parking Violation|Latitude|Longitude|Community Board|Community Council |Census Tract| BIN| BBL| NTA|\n",
            "+--------------+--------+------------------+----------+----------+--------------+-----------------+------------+--------------+------------+------------+------------+-----------------------+------------------+------------------+---------------+-----------+--------------+------------+--------------+-------------------+----------------+---------------------------------+------------+-----------+-------------------+-------------------+-----------+------------+--------------------+--------------------------+--------------------+------------------+-------------+---------------------+------------+------------+--------------+-------------------+---------------------+---------------------------------+-----------------+------------------------+--------+---------+---------------+------------------+------------+----+----+----+\n",
            "|    1283294138| GBB9093|                NY|       PAS|08/04/2013|            46|             SUBN|        AUDI|             P|       37250|       13610|       21190|               20140831|                33|                33|             33|     921043|          0033|        0000|         0752A|               null|            null|                                F|         712|   W 175 ST|               null|                  0|        408|          F1|                null|                   BBBBBBB|                 ALL|               ALL|           GY|                    0|        2013|           -|             0|               null|                 null|                             null|             null|                    null|    null|     null|           null|              null|        null|null|null|null|\n",
            "|    1283294151| 62416MB|                NY|       COM|08/04/2013|            46|              VAN|        FORD|             P|       37290|       40404|       40404|               20140430|                33|                33|             33|     921043|          0033|        0000|         1240P|               null|              NY|                                O|         201|   W 177 ST|               null|                  0|        408|           C|                null|                   BBBBBBB|                 ALL|               ALL|           WH|                    0|        2012|           -|             0|               null|                 null|                             null|             null|                    null|    null|     null|           null|              null|        null|null|null|null|\n",
            "|    1283294163| 78755JZ|                NY|       COM|08/05/2013|            46|              P-U|       CHEVR|             P|       37030|       31190|       13610|               20140228|                33|                33|             33|     921043|          0033|        0000|         1243P|               null|              NY|                                O|         520|   W 163 ST|               null|                  0|        408|          F7|                null|                   BBBBBBB|                 ALL|               ALL|         null|                    0|           0|           -|             0|               null|                 null|                             null|             null|                    null|    null|     null|           null|              null|        null|null|null|null|\n",
            "|    1283294175| 63009MA|                NY|       COM|08/05/2013|            46|              VAN|        FORD|             P|       37270|       11710|       12010|               20141031|                33|                33|             33|     921043|          0033|        0000|         0232P|               null|              NY|                                O|         517|   W 176 ST|               null|                  0|        408|          F1|                null|                   BBBBBBB|                 ALL|               ALL|           WH|                    0|        2010|           -|             0|               null|                 null|                             null|             null|                    null|    null|     null|           null|              null|        null|null|null|null|\n",
            "|    1283294187| 91648MC|                NY|       COM|08/08/2013|            41|             TRLR|         GMC|             P|       37240|       12010|       31190|                      0|                33|                33|             33|     921043|          0033|        0000|         1239P|               null|              NY|                                F|         590|   W 174 ST|               null|                  0|        408|          E1|                null|                   BBBBBBB|                 ALL|               ALL|           BR|                    0|        2012|           -|             0|               null|                 null|                             null|             null|                    null|    null|     null|           null|              null|        null|null|null|null|\n",
            "+--------------+--------+------------------+----------+----------+--------------+-----------------+------------+--------------+------------+------------+------------+-----------------------+------------------+------------------+---------------+-----------+--------------+------------+--------------+-------------------+----------------+---------------------------------+------------+-----------+-------------------+-------------------+-----------+------------+--------------------+--------------------------+--------------------+------------------+-------------+---------------------+------------+------------+--------------+-------------------+---------------------+---------------------------------+-----------------+------------------------+--------+---------+---------------+------------------+------------+----+----+----+\n",
            "only showing top 5 rows\n",
            "\n",
            "CPU times: user 262 ms, sys: 33.7 ms, total: 295 ms\n",
            "Wall time: 53.2 s\n"
          ]
        }
      ],
      "source": [
        "%%time\n",
        "dfs = spark.read.options(header = \"true\", \\\n",
        "  inferSchema = \"true\",) \\\n",
        "     .csv(\"NYC_Parking_Ticket.csv\")\n",
        "dfs.show(5)"
      ]
    },
    {
      "cell_type": "markdown",
      "metadata": {
        "id": "oO4oj5u6gFUV"
      },
      "source": [
        "**3. Koalas**"
      ]
    },
    {
      "cell_type": "code",
      "execution_count": 12,
      "metadata": {
        "colab": {
          "base_uri": "https://localhost:8080/"
        },
        "id": "EJ4SuZlqYf77",
        "outputId": "146d7152-668a-4f08-98b6-8ec5747f4764"
      },
      "outputs": [
        {
          "output_type": "stream",
          "name": "stdout",
          "text": [
            "Looking in indexes: https://pypi.org/simple, https://us-python.pkg.dev/colab-wheels/public/simple/\n",
            "Requirement already satisfied: koalas in /usr/local/lib/python3.8/dist-packages (1.8.2)\n",
            "Requirement already satisfied: pyarrow>=0.10 in /usr/local/lib/python3.8/dist-packages (from koalas) (9.0.0)\n",
            "Requirement already satisfied: pandas>=0.23.2 in /usr/local/lib/python3.8/dist-packages (from koalas) (1.3.5)\n",
            "Requirement already satisfied: numpy>=1.14 in /usr/local/lib/python3.8/dist-packages (from koalas) (1.21.6)\n",
            "Requirement already satisfied: python-dateutil>=2.7.3 in /usr/local/lib/python3.8/dist-packages (from pandas>=0.23.2->koalas) (2.8.2)\n",
            "Requirement already satisfied: pytz>=2017.3 in /usr/local/lib/python3.8/dist-packages (from pandas>=0.23.2->koalas) (2022.7)\n",
            "Requirement already satisfied: six>=1.5 in /usr/local/lib/python3.8/dist-packages (from python-dateutil>=2.7.3->pandas>=0.23.2->koalas) (1.15.0)\n"
          ]
        }
      ],
      "source": [
        "!pip install koalas"
      ]
    },
    {
      "cell_type": "code",
      "execution_count": 13,
      "metadata": {
        "colab": {
          "base_uri": "https://localhost:8080/"
        },
        "id": "oiTZTZi7Yj0o",
        "outputId": "75162730-383d-4c83-cc70-6ff86323612d"
      },
      "outputs": [
        {
          "output_type": "stream",
          "name": "stderr",
          "text": [
            "WARNING:root:Found pyspark version \"3.3.1\" installed. The pyspark version 3.2 and above has a built-in \"pandas APIs on Spark\" module ported from Koalas. Try `import pyspark.pandas as ps` instead. \n",
            "WARNING:root:'PYARROW_IGNORE_TIMEZONE' environment variable was not set. It is required to set this environment variable to '1' in both driver and executor sides if you use pyarrow>=2.0.0. Koalas will set it for you but it does not work if there is a Spark context already launched.\n"
          ]
        }
      ],
      "source": [
        "import databricks.koalas as ks"
      ]
    },
    {
      "cell_type": "code",
      "execution_count": 14,
      "metadata": {
        "colab": {
          "base_uri": "https://localhost:8080/",
          "height": 418
        },
        "id": "Xp-gp1vGYqOY",
        "outputId": "f0de5526-c898-46ba-e7cb-fc08f2aec0e5"
      },
      "outputs": [
        {
          "output_type": "stream",
          "name": "stdout",
          "text": [
            "CPU times: user 3.72 s, sys: 649 ms, total: 4.37 s\n",
            "Wall time: 58.4 s\n"
          ]
        },
        {
          "output_type": "execute_result",
          "data": {
            "text/plain": [
              "   Summons Number Plate ID Registration State Plate Type  Issue Date  Violation Code Vehicle Body Type Vehicle Make Issuing Agency  Street Code1  Street Code2  Street Code3 Vehicle Expiration Date Violation Location  Violation Precinct  Issuer Precinct  Issuer Code Issuer Command Issuer Squad Violation Time Time First Observed Violation County Violation In Front Of Or Opposite House Number Street Name Intersecting Street Date First Observed  Law Section Sub Division Violation Legal Code Days Parking In Effect     From Hours In Effect To Hours In Effect Vehicle Color Unregistered Vehicle?  Vehicle Year Meter Number  Feet From Curb Violation Post Code Violation Description No Standing or Stopping Violation Hydrant Violation Double Parking Violation Latitude Longitude Community Board Community Council  Census Tract   BIN   BBL   NTA\n",
              "0      1283294138  GBB9093                 NY        PAS  08/04/2013              46              SUBN         AUDI              P         37250         13610         21190                20140831                 33                33.0             33.0     921043.0           0033         0000          0752A                None             None                                 F          712    W 175 ST                None                   0        408.0           F1                 None                    BBBBBBB                  ALL                ALL            GY                     0        2013.0            -             0.0                None                  None                              None              None                     None     None      None            None               None         None  None  None  None\n",
              "1      1283294151  62416MB                 NY        COM  08/04/2013              46               VAN         FORD              P         37290         40404         40404                20140430                 33                33.0             33.0     921043.0           0033         0000          1240P                None               NY                                 O          201    W 177 ST                None                   0        408.0            C                 None                    BBBBBBB                  ALL                ALL            WH                     0        2012.0            -             0.0                None                  None                              None              None                     None     None      None            None               None         None  None  None  None\n",
              "2      1283294163  78755JZ                 NY        COM  08/05/2013              46               P-U        CHEVR              P         37030         31190         13610                20140228                 33                33.0             33.0     921043.0           0033         0000          1243P                None               NY                                 O          520    W 163 ST                None                   0        408.0           F7                 None                    BBBBBBB                  ALL                ALL          None                     0           0.0            -             0.0                None                  None                              None              None                     None     None      None            None               None         None  None  None  None\n",
              "3      1283294175  63009MA                 NY        COM  08/05/2013              46               VAN         FORD              P         37270         11710         12010                20141031                 33                33.0             33.0     921043.0           0033         0000          0232P                None               NY                                 O          517    W 176 ST                None                   0        408.0           F1                 None                    BBBBBBB                  ALL                ALL            WH                     0        2010.0            -             0.0                None                  None                              None              None                     None     None      None            None               None         None  None  None  None\n",
              "4      1283294187  91648MC                 NY        COM  08/08/2013              41              TRLR          GMC              P         37240         12010         31190                       0                 33                33.0             33.0     921043.0           0033         0000          1239P                None               NY                                 F          590    W 174 ST                None                   0        408.0           E1                 None                    BBBBBBB                  ALL                ALL            BR                     0        2012.0            -             0.0                None                  None                              None              None                     None     None      None            None               None         None  None  None  None"
            ],
            "text/html": [
              "<div>\n",
              "<style scoped>\n",
              "    .dataframe tbody tr th:only-of-type {\n",
              "        vertical-align: middle;\n",
              "    }\n",
              "\n",
              "    .dataframe tbody tr th {\n",
              "        vertical-align: top;\n",
              "    }\n",
              "\n",
              "    .dataframe thead th {\n",
              "        text-align: right;\n",
              "    }\n",
              "</style>\n",
              "<table border=\"1\" class=\"dataframe\">\n",
              "  <thead>\n",
              "    <tr style=\"text-align: right;\">\n",
              "      <th></th>\n",
              "      <th>Summons Number</th>\n",
              "      <th>Plate ID</th>\n",
              "      <th>Registration State</th>\n",
              "      <th>Plate Type</th>\n",
              "      <th>Issue Date</th>\n",
              "      <th>Violation Code</th>\n",
              "      <th>Vehicle Body Type</th>\n",
              "      <th>Vehicle Make</th>\n",
              "      <th>Issuing Agency</th>\n",
              "      <th>Street Code1</th>\n",
              "      <th>Street Code2</th>\n",
              "      <th>Street Code3</th>\n",
              "      <th>Vehicle Expiration Date</th>\n",
              "      <th>Violation Location</th>\n",
              "      <th>Violation Precinct</th>\n",
              "      <th>Issuer Precinct</th>\n",
              "      <th>Issuer Code</th>\n",
              "      <th>Issuer Command</th>\n",
              "      <th>Issuer Squad</th>\n",
              "      <th>Violation Time</th>\n",
              "      <th>Time First Observed</th>\n",
              "      <th>Violation County</th>\n",
              "      <th>Violation In Front Of Or Opposite</th>\n",
              "      <th>House Number</th>\n",
              "      <th>Street Name</th>\n",
              "      <th>Intersecting Street</th>\n",
              "      <th>Date First Observed</th>\n",
              "      <th>Law Section</th>\n",
              "      <th>Sub Division</th>\n",
              "      <th>Violation Legal Code</th>\n",
              "      <th>Days Parking In Effect</th>\n",
              "      <th>From Hours In Effect</th>\n",
              "      <th>To Hours In Effect</th>\n",
              "      <th>Vehicle Color</th>\n",
              "      <th>Unregistered Vehicle?</th>\n",
              "      <th>Vehicle Year</th>\n",
              "      <th>Meter Number</th>\n",
              "      <th>Feet From Curb</th>\n",
              "      <th>Violation Post Code</th>\n",
              "      <th>Violation Description</th>\n",
              "      <th>No Standing or Stopping Violation</th>\n",
              "      <th>Hydrant Violation</th>\n",
              "      <th>Double Parking Violation</th>\n",
              "      <th>Latitude</th>\n",
              "      <th>Longitude</th>\n",
              "      <th>Community Board</th>\n",
              "      <th>Community Council</th>\n",
              "      <th>Census Tract</th>\n",
              "      <th>BIN</th>\n",
              "      <th>BBL</th>\n",
              "      <th>NTA</th>\n",
              "    </tr>\n",
              "  </thead>\n",
              "  <tbody>\n",
              "    <tr>\n",
              "      <th>0</th>\n",
              "      <td>1283294138</td>\n",
              "      <td>GBB9093</td>\n",
              "      <td>NY</td>\n",
              "      <td>PAS</td>\n",
              "      <td>08/04/2013</td>\n",
              "      <td>46</td>\n",
              "      <td>SUBN</td>\n",
              "      <td>AUDI</td>\n",
              "      <td>P</td>\n",
              "      <td>37250</td>\n",
              "      <td>13610</td>\n",
              "      <td>21190</td>\n",
              "      <td>20140831</td>\n",
              "      <td>33</td>\n",
              "      <td>33.0</td>\n",
              "      <td>33.0</td>\n",
              "      <td>921043.0</td>\n",
              "      <td>0033</td>\n",
              "      <td>0000</td>\n",
              "      <td>0752A</td>\n",
              "      <td>None</td>\n",
              "      <td>None</td>\n",
              "      <td>F</td>\n",
              "      <td>712</td>\n",
              "      <td>W 175 ST</td>\n",
              "      <td>None</td>\n",
              "      <td>0</td>\n",
              "      <td>408.0</td>\n",
              "      <td>F1</td>\n",
              "      <td>None</td>\n",
              "      <td>BBBBBBB</td>\n",
              "      <td>ALL</td>\n",
              "      <td>ALL</td>\n",
              "      <td>GY</td>\n",
              "      <td>0</td>\n",
              "      <td>2013.0</td>\n",
              "      <td>-</td>\n",
              "      <td>0.0</td>\n",
              "      <td>None</td>\n",
              "      <td>None</td>\n",
              "      <td>None</td>\n",
              "      <td>None</td>\n",
              "      <td>None</td>\n",
              "      <td>None</td>\n",
              "      <td>None</td>\n",
              "      <td>None</td>\n",
              "      <td>None</td>\n",
              "      <td>None</td>\n",
              "      <td>None</td>\n",
              "      <td>None</td>\n",
              "      <td>None</td>\n",
              "    </tr>\n",
              "    <tr>\n",
              "      <th>1</th>\n",
              "      <td>1283294151</td>\n",
              "      <td>62416MB</td>\n",
              "      <td>NY</td>\n",
              "      <td>COM</td>\n",
              "      <td>08/04/2013</td>\n",
              "      <td>46</td>\n",
              "      <td>VAN</td>\n",
              "      <td>FORD</td>\n",
              "      <td>P</td>\n",
              "      <td>37290</td>\n",
              "      <td>40404</td>\n",
              "      <td>40404</td>\n",
              "      <td>20140430</td>\n",
              "      <td>33</td>\n",
              "      <td>33.0</td>\n",
              "      <td>33.0</td>\n",
              "      <td>921043.0</td>\n",
              "      <td>0033</td>\n",
              "      <td>0000</td>\n",
              "      <td>1240P</td>\n",
              "      <td>None</td>\n",
              "      <td>NY</td>\n",
              "      <td>O</td>\n",
              "      <td>201</td>\n",
              "      <td>W 177 ST</td>\n",
              "      <td>None</td>\n",
              "      <td>0</td>\n",
              "      <td>408.0</td>\n",
              "      <td>C</td>\n",
              "      <td>None</td>\n",
              "      <td>BBBBBBB</td>\n",
              "      <td>ALL</td>\n",
              "      <td>ALL</td>\n",
              "      <td>WH</td>\n",
              "      <td>0</td>\n",
              "      <td>2012.0</td>\n",
              "      <td>-</td>\n",
              "      <td>0.0</td>\n",
              "      <td>None</td>\n",
              "      <td>None</td>\n",
              "      <td>None</td>\n",
              "      <td>None</td>\n",
              "      <td>None</td>\n",
              "      <td>None</td>\n",
              "      <td>None</td>\n",
              "      <td>None</td>\n",
              "      <td>None</td>\n",
              "      <td>None</td>\n",
              "      <td>None</td>\n",
              "      <td>None</td>\n",
              "      <td>None</td>\n",
              "    </tr>\n",
              "    <tr>\n",
              "      <th>2</th>\n",
              "      <td>1283294163</td>\n",
              "      <td>78755JZ</td>\n",
              "      <td>NY</td>\n",
              "      <td>COM</td>\n",
              "      <td>08/05/2013</td>\n",
              "      <td>46</td>\n",
              "      <td>P-U</td>\n",
              "      <td>CHEVR</td>\n",
              "      <td>P</td>\n",
              "      <td>37030</td>\n",
              "      <td>31190</td>\n",
              "      <td>13610</td>\n",
              "      <td>20140228</td>\n",
              "      <td>33</td>\n",
              "      <td>33.0</td>\n",
              "      <td>33.0</td>\n",
              "      <td>921043.0</td>\n",
              "      <td>0033</td>\n",
              "      <td>0000</td>\n",
              "      <td>1243P</td>\n",
              "      <td>None</td>\n",
              "      <td>NY</td>\n",
              "      <td>O</td>\n",
              "      <td>520</td>\n",
              "      <td>W 163 ST</td>\n",
              "      <td>None</td>\n",
              "      <td>0</td>\n",
              "      <td>408.0</td>\n",
              "      <td>F7</td>\n",
              "      <td>None</td>\n",
              "      <td>BBBBBBB</td>\n",
              "      <td>ALL</td>\n",
              "      <td>ALL</td>\n",
              "      <td>None</td>\n",
              "      <td>0</td>\n",
              "      <td>0.0</td>\n",
              "      <td>-</td>\n",
              "      <td>0.0</td>\n",
              "      <td>None</td>\n",
              "      <td>None</td>\n",
              "      <td>None</td>\n",
              "      <td>None</td>\n",
              "      <td>None</td>\n",
              "      <td>None</td>\n",
              "      <td>None</td>\n",
              "      <td>None</td>\n",
              "      <td>None</td>\n",
              "      <td>None</td>\n",
              "      <td>None</td>\n",
              "      <td>None</td>\n",
              "      <td>None</td>\n",
              "    </tr>\n",
              "    <tr>\n",
              "      <th>3</th>\n",
              "      <td>1283294175</td>\n",
              "      <td>63009MA</td>\n",
              "      <td>NY</td>\n",
              "      <td>COM</td>\n",
              "      <td>08/05/2013</td>\n",
              "      <td>46</td>\n",
              "      <td>VAN</td>\n",
              "      <td>FORD</td>\n",
              "      <td>P</td>\n",
              "      <td>37270</td>\n",
              "      <td>11710</td>\n",
              "      <td>12010</td>\n",
              "      <td>20141031</td>\n",
              "      <td>33</td>\n",
              "      <td>33.0</td>\n",
              "      <td>33.0</td>\n",
              "      <td>921043.0</td>\n",
              "      <td>0033</td>\n",
              "      <td>0000</td>\n",
              "      <td>0232P</td>\n",
              "      <td>None</td>\n",
              "      <td>NY</td>\n",
              "      <td>O</td>\n",
              "      <td>517</td>\n",
              "      <td>W 176 ST</td>\n",
              "      <td>None</td>\n",
              "      <td>0</td>\n",
              "      <td>408.0</td>\n",
              "      <td>F1</td>\n",
              "      <td>None</td>\n",
              "      <td>BBBBBBB</td>\n",
              "      <td>ALL</td>\n",
              "      <td>ALL</td>\n",
              "      <td>WH</td>\n",
              "      <td>0</td>\n",
              "      <td>2010.0</td>\n",
              "      <td>-</td>\n",
              "      <td>0.0</td>\n",
              "      <td>None</td>\n",
              "      <td>None</td>\n",
              "      <td>None</td>\n",
              "      <td>None</td>\n",
              "      <td>None</td>\n",
              "      <td>None</td>\n",
              "      <td>None</td>\n",
              "      <td>None</td>\n",
              "      <td>None</td>\n",
              "      <td>None</td>\n",
              "      <td>None</td>\n",
              "      <td>None</td>\n",
              "      <td>None</td>\n",
              "    </tr>\n",
              "    <tr>\n",
              "      <th>4</th>\n",
              "      <td>1283294187</td>\n",
              "      <td>91648MC</td>\n",
              "      <td>NY</td>\n",
              "      <td>COM</td>\n",
              "      <td>08/08/2013</td>\n",
              "      <td>41</td>\n",
              "      <td>TRLR</td>\n",
              "      <td>GMC</td>\n",
              "      <td>P</td>\n",
              "      <td>37240</td>\n",
              "      <td>12010</td>\n",
              "      <td>31190</td>\n",
              "      <td>0</td>\n",
              "      <td>33</td>\n",
              "      <td>33.0</td>\n",
              "      <td>33.0</td>\n",
              "      <td>921043.0</td>\n",
              "      <td>0033</td>\n",
              "      <td>0000</td>\n",
              "      <td>1239P</td>\n",
              "      <td>None</td>\n",
              "      <td>NY</td>\n",
              "      <td>F</td>\n",
              "      <td>590</td>\n",
              "      <td>W 174 ST</td>\n",
              "      <td>None</td>\n",
              "      <td>0</td>\n",
              "      <td>408.0</td>\n",
              "      <td>E1</td>\n",
              "      <td>None</td>\n",
              "      <td>BBBBBBB</td>\n",
              "      <td>ALL</td>\n",
              "      <td>ALL</td>\n",
              "      <td>BR</td>\n",
              "      <td>0</td>\n",
              "      <td>2012.0</td>\n",
              "      <td>-</td>\n",
              "      <td>0.0</td>\n",
              "      <td>None</td>\n",
              "      <td>None</td>\n",
              "      <td>None</td>\n",
              "      <td>None</td>\n",
              "      <td>None</td>\n",
              "      <td>None</td>\n",
              "      <td>None</td>\n",
              "      <td>None</td>\n",
              "      <td>None</td>\n",
              "      <td>None</td>\n",
              "      <td>None</td>\n",
              "      <td>None</td>\n",
              "      <td>None</td>\n",
              "    </tr>\n",
              "  </tbody>\n",
              "</table>\n",
              "</div>"
            ]
          },
          "metadata": {},
          "execution_count": 14
        }
      ],
      "source": [
        "%%time\n",
        "dfk = ks.read_csv('NYC_Parking_Ticket.csv',dtype=dtypes)\n",
        "dfk.head()"
      ]
    },
    {
      "cell_type": "markdown",
      "metadata": {
        "id": "ravLDg76gOKi"
      },
      "source": [
        ">**Findings ▶** \n",
        "All library has different way of importing the dataset and requires different functions to run it.\n",
        "1. Dask 🕔\n",
        "Dask is the fastest way to read the data by taking **1.33s** but we have to initialize its dtype. This is because there are a lot of mismatched data type in the dataset. It requires to import **dask.dataframe** in order to read it in dataframe. The function used is common like Pandas which is **read.csv()**.\n",
        "\n",
        ">2. PySpark 🕔\n",
        "Pyspark took a long time to read the dataset which is **53.2s**. In pyspark, there is no need to initialize dtype because we can set **inferSchema = True** and it will assign the correct dtype. The function used is different from common Pandas which is **spark.read.options.**\n",
        "\n",
        ">3. Koalas 🕔\n",
        "Koalas took the **longest time** compared to Dask and PySpark which is **58.4s**.\n",
        "Most of Koalas funtions are the same with common Pandas which in this case we use **read.csv()** to read the data into dataframe.\n"
      ]
    },
    {
      "cell_type": "markdown",
      "metadata": {
        "id": "GuRVZHYVkaH-"
      },
      "source": [
        "\n",
        "\n",
        "---\n",
        "\n",
        "\n",
        "\n",
        "---\n",
        "\n"
      ]
    },
    {
      "cell_type": "markdown",
      "metadata": {
        "id": "qK3CFwjATlIc"
      },
      "source": [
        "# **`Data Preparation and Cleaning`**"
      ]
    },
    {
      "cell_type": "markdown",
      "metadata": {
        "id": "ONd9mheRkfdT"
      },
      "source": [
        "The dataset contains 10 million rows and 51 columns of records which has a lot of missing data, mismatched data, unused columns and other mess that need to be clean. Before we can analyze the data, we must clean the data to obtain an accurate analysis. Now, we will perform data cleaning using 3 different libraries and evaluate which library does it more effectively."
      ]
    },
    {
      "cell_type": "markdown",
      "metadata": {
        "id": "lyPx7o7ioIeG"
      },
      "source": [
        "# **`Step 1: Checking dataframe size to ensure all libraries read the same number of records.`**"
      ]
    },
    {
      "cell_type": "markdown",
      "metadata": {
        "id": "QKXob7WFoVFB"
      },
      "source": [
        "**1. Dask**"
      ]
    },
    {
      "cell_type": "code",
      "execution_count": 15,
      "metadata": {
        "colab": {
          "base_uri": "https://localhost:8080/"
        },
        "id": "KcRRKBO49Iw4",
        "outputId": "c32dcdcd-f4f6-4dea-e403-70c26a302da4"
      },
      "outputs": [
        {
          "output_type": "stream",
          "name": "stdout",
          "text": [
            "CPU times: user 6.11 ms, sys: 0 ns, total: 6.11 ms\n",
            "Wall time: 6.16 ms\n"
          ]
        },
        {
          "output_type": "execute_result",
          "data": {
            "text/plain": [
              "(Delayed('int-beb222a0-3911-4f66-b1c1-e7f70f2151c4'), 51)"
            ]
          },
          "metadata": {},
          "execution_count": 15
        }
      ],
      "source": [
        "%%time\n",
        "dfdask.shape"
      ]
    },
    {
      "cell_type": "markdown",
      "metadata": {
        "id": "ZhbXkeeSoY9g"
      },
      "source": [
        "**2. PySpark**"
      ]
    },
    {
      "cell_type": "code",
      "execution_count": 16,
      "metadata": {
        "colab": {
          "base_uri": "https://localhost:8080/"
        },
        "id": "WNAc528t_MVx",
        "outputId": "a584862e-3e6b-4de3-a2f8-edee24c6d783"
      },
      "outputs": [
        {
          "output_type": "stream",
          "name": "stdout",
          "text": [
            "9100278 , 51\n",
            "CPU times: user 37.7 ms, sys: 5.78 ms, total: 43.5 ms\n",
            "Wall time: 4.58 s\n"
          ]
        }
      ],
      "source": [
        "%%time\n",
        "rows = dfs.count()\n",
        "cols = len(dfs.columns)\n",
        "print (rows, \",\" ,cols)\n"
      ]
    },
    {
      "cell_type": "markdown",
      "metadata": {
        "id": "5eYkoy20of6Y"
      },
      "source": [
        "**3. Koalas**"
      ]
    },
    {
      "cell_type": "code",
      "execution_count": 17,
      "metadata": {
        "id": "58MsbBOvjCPR",
        "colab": {
          "base_uri": "https://localhost:8080/"
        },
        "outputId": "0e99a9c2-e704-4a02-bc8c-8138861520ed"
      },
      "outputs": [
        {
          "output_type": "stream",
          "name": "stdout",
          "text": [
            "CPU times: user 63.9 ms, sys: 7.57 ms, total: 71.5 ms\n",
            "Wall time: 6.9 s\n"
          ]
        },
        {
          "output_type": "execute_result",
          "data": {
            "text/plain": [
              "(9100278, 51)"
            ]
          },
          "metadata": {},
          "execution_count": 17
        }
      ],
      "source": [
        "%%time\n",
        "dfk.shape"
      ]
    },
    {
      "cell_type": "markdown",
      "metadata": {
        "id": "V4FUbWm_lcri"
      },
      "source": [
        ">**Findings ▶** \n",
        "All libraries managed to read the same no of rows and columns which are **9100278 rows and 51 columns**. To find the number and columns read by all libraries, **Dask and Koalas** use the same method which is **dataframe.shape**. Meanwhile, **Pyspark** is different and it **uses count to find rows and cols for columns**.\n",
        "\n",
        ">1. PySpark 🕔\n",
        "PySpark is the fastest way to find number of rows and columns by taking **4.58s**.\n",
        "\n",
        ">2. Dask 🕔\n",
        "Dask comes next as it took **6.11ms** to find number of rows and columns.\n",
        "\n",
        ">3. Koalas 🕔\n",
        "Koalas took the **longest time** compared to Dask and PySpark which is **6.9s**.\n"
      ]
    },
    {
      "cell_type": "markdown",
      "metadata": {
        "id": "a5xZvll1j0_U"
      },
      "source": [
        "\n",
        "\n",
        "---\n",
        "\n",
        "\n",
        "\n",
        "---\n",
        "\n"
      ]
    },
    {
      "cell_type": "markdown",
      "metadata": {
        "id": "TdAoY3FL0QRY"
      },
      "source": [
        "# **`Step 2: Check and drop column that has more than 80% missing values.`**\n",
        "\n"
      ]
    },
    {
      "cell_type": "markdown",
      "metadata": {
        "id": "uYOeFJk4nThx"
      },
      "source": [
        "This dataset contains a lot of missing and null values and certain columns have no values at all. Anyhow, dropping all missing values is not recommended as it will lose a lot of records. Some null values can be change to 0, for example column `Feet From Curb` because the attribute may not be collected but the parking ticket is still valid.In order to get a clean data, we must drop the columns and change the null values to get consistent result for our analysis.\n",
        "\n",
        "Steps:\n",
        "1. Check number of Nan values.\n",
        "2. Drop columns that have more than 80% Nan values.\n",
        "3. Fill in the rest of Nan values with 0.\n",
        "4. Check if there is any Nan values left."
      ]
    },
    {
      "cell_type": "markdown",
      "metadata": {
        "id": "FtS_WpQW0bs7"
      },
      "source": [
        "**1. Dask**"
      ]
    },
    {
      "cell_type": "code",
      "execution_count": 18,
      "metadata": {
        "colab": {
          "base_uri": "https://localhost:8080/"
        },
        "id": "TqyLl5YSkpjq",
        "outputId": "2ef9a232-cc7b-4d3f-aa55-3f8d948d6947"
      },
      "outputs": [
        {
          "output_type": "stream",
          "name": "stdout",
          "text": [
            "CPU times: user 51.1 s, sys: 2.72 s, total: 53.8 s\n",
            "Wall time: 52.3 s\n"
          ]
        },
        {
          "output_type": "execute_result",
          "data": {
            "text/plain": [
              "Summons Number                             0\n",
              "Plate ID                                3612\n",
              "Registration State                         0\n",
              "Plate Type                                 0\n",
              "Issue Date                                 0\n",
              "Violation Code                             0\n",
              "Vehicle Body Type                     111377\n",
              "Vehicle Make                           63273\n",
              "Issuing Agency                             0\n",
              "Street Code1                               0\n",
              "Street Code2                               0\n",
              "Street Code3                               0\n",
              "Vehicle Expiration Date                    0\n",
              "Violation Location                    671170\n",
              "Violation Precinct                         0\n",
              "Issuer Precinct                            0\n",
              "Issuer Code                                0\n",
              "Issuer Command                        654437\n",
              "Issuer Squad                          654437\n",
              "Violation Time                          2074\n",
              "Time First Observed                  8080301\n",
              "Violation County                      705205\n",
              "Violation In Front Of Or Opposite     769191\n",
              "House Number                          856317\n",
              "Street Name                             4904\n",
              "Intersecting Street                  7217042\n",
              "Date First Observed                        1\n",
              "Law Section                                1\n",
              "Sub Division                             247\n",
              "Violation Legal Code                 8443774\n",
              "Days Parking In Effect               1415127\n",
              "From Hours In Effect                 3363269\n",
              "To Hours In Effect                   3363269\n",
              "Vehicle Color                          72460\n",
              "Unregistered Vehicle?                7868632\n",
              "Vehicle Year                               1\n",
              "Meter Number                         7053456\n",
              "Feet From Curb                             1\n",
              "Violation Post Code                  1884023\n",
              "Violation Description                1231653\n",
              "No Standing or Stopping Violation    9100278\n",
              "Hydrant Violation                    9100278\n",
              "Double Parking Violation             9100278\n",
              "Latitude                             9100278\n",
              "Longitude                            9100278\n",
              "Community Board                      9100278\n",
              "Community Council                    9100278\n",
              "Census Tract                         9100278\n",
              "BIN                                  9100278\n",
              "BBL                                  9100278\n",
              "NTA                                  9100278\n",
              "dtype: int64"
            ]
          },
          "metadata": {},
          "execution_count": 18
        }
      ],
      "source": [
        "%%time\n",
        "dfdask.isnull().sum().compute()\n"
      ]
    },
    {
      "cell_type": "code",
      "execution_count": 19,
      "metadata": {
        "colab": {
          "base_uri": "https://localhost:8080/",
          "height": 388
        },
        "id": "6upxXr544F4C",
        "outputId": "5c6d4201-edd4-4783-a181-9c3d90afe37d"
      },
      "outputs": [
        {
          "output_type": "stream",
          "name": "stdout",
          "text": [
            "CPU times: user 924 ms, sys: 20.5 ms, total: 945 ms\n",
            "Wall time: 951 ms\n"
          ]
        },
        {
          "output_type": "execute_result",
          "data": {
            "text/plain": [
              "   Summons Number Plate ID Registration State Plate Type  Issue Date  \\\n",
              "0      1283294138  GBB9093                 NY        PAS  08/04/2013   \n",
              "1      1283294151  62416MB                 NY        COM  08/04/2013   \n",
              "2      1283294163  78755JZ                 NY        COM  08/05/2013   \n",
              "3      1283294175  63009MA                 NY        COM  08/05/2013   \n",
              "4      1283294187  91648MC                 NY        COM  08/08/2013   \n",
              "\n",
              "   Violation Code Vehicle Body Type Vehicle Make Issuing Agency  Street Code1  \\\n",
              "0              46              SUBN         AUDI              P         37250   \n",
              "1              46               VAN         FORD              P         37290   \n",
              "2              46               P-U        CHEVR              P         37030   \n",
              "3              46               VAN         FORD              P         37270   \n",
              "4              41              TRLR          GMC              P         37240   \n",
              "\n",
              "   ...  Sub Division  Days Parking In Effect     From Hours In Effect  \\\n",
              "0  ...            F1                     BBBBBBB                  ALL   \n",
              "1  ...             C                     BBBBBBB                  ALL   \n",
              "2  ...            F7                     BBBBBBB                  ALL   \n",
              "3  ...            F1                     BBBBBBB                  ALL   \n",
              "4  ...            E1                     BBBBBBB                  ALL   \n",
              "\n",
              "  To Hours In Effect  Vehicle Color  Vehicle Year  Meter Number  \\\n",
              "0                ALL             GY        2013.0             -   \n",
              "1                ALL             WH        2012.0             -   \n",
              "2                ALL            NaN           0.0             -   \n",
              "3                ALL             WH        2010.0             -   \n",
              "4                ALL             BR        2012.0             -   \n",
              "\n",
              "  Feet From Curb Violation Post Code Violation Description  \n",
              "0            0.0                 NaN                   NaN  \n",
              "1            0.0                 NaN                   NaN  \n",
              "2            0.0                 NaN                   NaN  \n",
              "3            0.0                 NaN                   NaN  \n",
              "4            0.0                 NaN                   NaN  \n",
              "\n",
              "[5 rows x 37 columns]"
            ],
            "text/html": [
              "\n",
              "  <div id=\"df-17df12fc-ecde-488f-ae39-d79ca5c95eb3\">\n",
              "    <div class=\"colab-df-container\">\n",
              "      <div>\n",
              "<style scoped>\n",
              "    .dataframe tbody tr th:only-of-type {\n",
              "        vertical-align: middle;\n",
              "    }\n",
              "\n",
              "    .dataframe tbody tr th {\n",
              "        vertical-align: top;\n",
              "    }\n",
              "\n",
              "    .dataframe thead th {\n",
              "        text-align: right;\n",
              "    }\n",
              "</style>\n",
              "<table border=\"1\" class=\"dataframe\">\n",
              "  <thead>\n",
              "    <tr style=\"text-align: right;\">\n",
              "      <th></th>\n",
              "      <th>Summons Number</th>\n",
              "      <th>Plate ID</th>\n",
              "      <th>Registration State</th>\n",
              "      <th>Plate Type</th>\n",
              "      <th>Issue Date</th>\n",
              "      <th>Violation Code</th>\n",
              "      <th>Vehicle Body Type</th>\n",
              "      <th>Vehicle Make</th>\n",
              "      <th>Issuing Agency</th>\n",
              "      <th>Street Code1</th>\n",
              "      <th>...</th>\n",
              "      <th>Sub Division</th>\n",
              "      <th>Days Parking In Effect</th>\n",
              "      <th>From Hours In Effect</th>\n",
              "      <th>To Hours In Effect</th>\n",
              "      <th>Vehicle Color</th>\n",
              "      <th>Vehicle Year</th>\n",
              "      <th>Meter Number</th>\n",
              "      <th>Feet From Curb</th>\n",
              "      <th>Violation Post Code</th>\n",
              "      <th>Violation Description</th>\n",
              "    </tr>\n",
              "  </thead>\n",
              "  <tbody>\n",
              "    <tr>\n",
              "      <th>0</th>\n",
              "      <td>1283294138</td>\n",
              "      <td>GBB9093</td>\n",
              "      <td>NY</td>\n",
              "      <td>PAS</td>\n",
              "      <td>08/04/2013</td>\n",
              "      <td>46</td>\n",
              "      <td>SUBN</td>\n",
              "      <td>AUDI</td>\n",
              "      <td>P</td>\n",
              "      <td>37250</td>\n",
              "      <td>...</td>\n",
              "      <td>F1</td>\n",
              "      <td>BBBBBBB</td>\n",
              "      <td>ALL</td>\n",
              "      <td>ALL</td>\n",
              "      <td>GY</td>\n",
              "      <td>2013.0</td>\n",
              "      <td>-</td>\n",
              "      <td>0.0</td>\n",
              "      <td>NaN</td>\n",
              "      <td>NaN</td>\n",
              "    </tr>\n",
              "    <tr>\n",
              "      <th>1</th>\n",
              "      <td>1283294151</td>\n",
              "      <td>62416MB</td>\n",
              "      <td>NY</td>\n",
              "      <td>COM</td>\n",
              "      <td>08/04/2013</td>\n",
              "      <td>46</td>\n",
              "      <td>VAN</td>\n",
              "      <td>FORD</td>\n",
              "      <td>P</td>\n",
              "      <td>37290</td>\n",
              "      <td>...</td>\n",
              "      <td>C</td>\n",
              "      <td>BBBBBBB</td>\n",
              "      <td>ALL</td>\n",
              "      <td>ALL</td>\n",
              "      <td>WH</td>\n",
              "      <td>2012.0</td>\n",
              "      <td>-</td>\n",
              "      <td>0.0</td>\n",
              "      <td>NaN</td>\n",
              "      <td>NaN</td>\n",
              "    </tr>\n",
              "    <tr>\n",
              "      <th>2</th>\n",
              "      <td>1283294163</td>\n",
              "      <td>78755JZ</td>\n",
              "      <td>NY</td>\n",
              "      <td>COM</td>\n",
              "      <td>08/05/2013</td>\n",
              "      <td>46</td>\n",
              "      <td>P-U</td>\n",
              "      <td>CHEVR</td>\n",
              "      <td>P</td>\n",
              "      <td>37030</td>\n",
              "      <td>...</td>\n",
              "      <td>F7</td>\n",
              "      <td>BBBBBBB</td>\n",
              "      <td>ALL</td>\n",
              "      <td>ALL</td>\n",
              "      <td>NaN</td>\n",
              "      <td>0.0</td>\n",
              "      <td>-</td>\n",
              "      <td>0.0</td>\n",
              "      <td>NaN</td>\n",
              "      <td>NaN</td>\n",
              "    </tr>\n",
              "    <tr>\n",
              "      <th>3</th>\n",
              "      <td>1283294175</td>\n",
              "      <td>63009MA</td>\n",
              "      <td>NY</td>\n",
              "      <td>COM</td>\n",
              "      <td>08/05/2013</td>\n",
              "      <td>46</td>\n",
              "      <td>VAN</td>\n",
              "      <td>FORD</td>\n",
              "      <td>P</td>\n",
              "      <td>37270</td>\n",
              "      <td>...</td>\n",
              "      <td>F1</td>\n",
              "      <td>BBBBBBB</td>\n",
              "      <td>ALL</td>\n",
              "      <td>ALL</td>\n",
              "      <td>WH</td>\n",
              "      <td>2010.0</td>\n",
              "      <td>-</td>\n",
              "      <td>0.0</td>\n",
              "      <td>NaN</td>\n",
              "      <td>NaN</td>\n",
              "    </tr>\n",
              "    <tr>\n",
              "      <th>4</th>\n",
              "      <td>1283294187</td>\n",
              "      <td>91648MC</td>\n",
              "      <td>NY</td>\n",
              "      <td>COM</td>\n",
              "      <td>08/08/2013</td>\n",
              "      <td>41</td>\n",
              "      <td>TRLR</td>\n",
              "      <td>GMC</td>\n",
              "      <td>P</td>\n",
              "      <td>37240</td>\n",
              "      <td>...</td>\n",
              "      <td>E1</td>\n",
              "      <td>BBBBBBB</td>\n",
              "      <td>ALL</td>\n",
              "      <td>ALL</td>\n",
              "      <td>BR</td>\n",
              "      <td>2012.0</td>\n",
              "      <td>-</td>\n",
              "      <td>0.0</td>\n",
              "      <td>NaN</td>\n",
              "      <td>NaN</td>\n",
              "    </tr>\n",
              "  </tbody>\n",
              "</table>\n",
              "<p>5 rows × 37 columns</p>\n",
              "</div>\n",
              "      <button class=\"colab-df-convert\" onclick=\"convertToInteractive('df-17df12fc-ecde-488f-ae39-d79ca5c95eb3')\"\n",
              "              title=\"Convert this dataframe to an interactive table.\"\n",
              "              style=\"display:none;\">\n",
              "        \n",
              "  <svg xmlns=\"http://www.w3.org/2000/svg\" height=\"24px\"viewBox=\"0 0 24 24\"\n",
              "       width=\"24px\">\n",
              "    <path d=\"M0 0h24v24H0V0z\" fill=\"none\"/>\n",
              "    <path d=\"M18.56 5.44l.94 2.06.94-2.06 2.06-.94-2.06-.94-.94-2.06-.94 2.06-2.06.94zm-11 1L8.5 8.5l.94-2.06 2.06-.94-2.06-.94L8.5 2.5l-.94 2.06-2.06.94zm10 10l.94 2.06.94-2.06 2.06-.94-2.06-.94-.94-2.06-.94 2.06-2.06.94z\"/><path d=\"M17.41 7.96l-1.37-1.37c-.4-.4-.92-.59-1.43-.59-.52 0-1.04.2-1.43.59L10.3 9.45l-7.72 7.72c-.78.78-.78 2.05 0 2.83L4 21.41c.39.39.9.59 1.41.59.51 0 1.02-.2 1.41-.59l7.78-7.78 2.81-2.81c.8-.78.8-2.07 0-2.86zM5.41 20L4 18.59l7.72-7.72 1.47 1.35L5.41 20z\"/>\n",
              "  </svg>\n",
              "      </button>\n",
              "      \n",
              "  <style>\n",
              "    .colab-df-container {\n",
              "      display:flex;\n",
              "      flex-wrap:wrap;\n",
              "      gap: 12px;\n",
              "    }\n",
              "\n",
              "    .colab-df-convert {\n",
              "      background-color: #E8F0FE;\n",
              "      border: none;\n",
              "      border-radius: 50%;\n",
              "      cursor: pointer;\n",
              "      display: none;\n",
              "      fill: #1967D2;\n",
              "      height: 32px;\n",
              "      padding: 0 0 0 0;\n",
              "      width: 32px;\n",
              "    }\n",
              "\n",
              "    .colab-df-convert:hover {\n",
              "      background-color: #E2EBFA;\n",
              "      box-shadow: 0px 1px 2px rgba(60, 64, 67, 0.3), 0px 1px 3px 1px rgba(60, 64, 67, 0.15);\n",
              "      fill: #174EA6;\n",
              "    }\n",
              "\n",
              "    [theme=dark] .colab-df-convert {\n",
              "      background-color: #3B4455;\n",
              "      fill: #D2E3FC;\n",
              "    }\n",
              "\n",
              "    [theme=dark] .colab-df-convert:hover {\n",
              "      background-color: #434B5C;\n",
              "      box-shadow: 0px 1px 3px 1px rgba(0, 0, 0, 0.15);\n",
              "      filter: drop-shadow(0px 1px 2px rgba(0, 0, 0, 0.3));\n",
              "      fill: #FFFFFF;\n",
              "    }\n",
              "  </style>\n",
              "\n",
              "      <script>\n",
              "        const buttonEl =\n",
              "          document.querySelector('#df-17df12fc-ecde-488f-ae39-d79ca5c95eb3 button.colab-df-convert');\n",
              "        buttonEl.style.display =\n",
              "          google.colab.kernel.accessAllowed ? 'block' : 'none';\n",
              "\n",
              "        async function convertToInteractive(key) {\n",
              "          const element = document.querySelector('#df-17df12fc-ecde-488f-ae39-d79ca5c95eb3');\n",
              "          const dataTable =\n",
              "            await google.colab.kernel.invokeFunction('convertToInteractive',\n",
              "                                                     [key], {});\n",
              "          if (!dataTable) return;\n",
              "\n",
              "          const docLinkHtml = 'Like what you see? Visit the ' +\n",
              "            '<a target=\"_blank\" href=https://colab.research.google.com/notebooks/data_table.ipynb>data table notebook</a>'\n",
              "            + ' to learn more about interactive tables.';\n",
              "          element.innerHTML = '';\n",
              "          dataTable['output_type'] = 'display_data';\n",
              "          await google.colab.output.renderOutput(dataTable, element);\n",
              "          const docLink = document.createElement('div');\n",
              "          docLink.innerHTML = docLinkHtml;\n",
              "          element.appendChild(docLink);\n",
              "        }\n",
              "      </script>\n",
              "    </div>\n",
              "  </div>\n",
              "  "
            ]
          },
          "metadata": {},
          "execution_count": 19
        }
      ],
      "source": [
        "%%time\n",
        "dfdask=dfdask.drop(['Time First Observed','Violation Legal Code','Unregistered Vehicle?','No Standing or Stopping Violation', 'Hydrant Violation', 'Double Parking Violation','Latitude','Longitude','Community Board','Community Council ','Census Tract','BIN','BBL','NTA'], axis=1) \n",
        "dfdask.head()\n"
      ]
    },
    {
      "cell_type": "code",
      "execution_count": 20,
      "metadata": {
        "colab": {
          "base_uri": "https://localhost:8080/"
        },
        "id": "rK7rR7hj0jcm",
        "outputId": "37ea5b42-092e-4f77-b7c7-365d2d42108c"
      },
      "outputs": [
        {
          "output_type": "stream",
          "name": "stdout",
          "text": [
            "CPU times: user 8.31 ms, sys: 0 ns, total: 8.31 ms\n",
            "Wall time: 7.97 ms\n"
          ]
        }
      ],
      "source": [
        "#Not all nan values need to be drop. Hence we fill the Nan values with 0.\n",
        "%%time\n",
        "dfdask = dfdask.fillna(0)\n"
      ]
    },
    {
      "cell_type": "code",
      "execution_count": 21,
      "metadata": {
        "colab": {
          "base_uri": "https://localhost:8080/"
        },
        "id": "btnK4UQo0w2q",
        "outputId": "446b79f2-4eb4-4bdd-b424-c858d5c3f7d5"
      },
      "outputs": [
        {
          "output_type": "execute_result",
          "data": {
            "text/plain": [
              "Summons Number                       0\n",
              "Plate ID                             0\n",
              "Registration State                   0\n",
              "Plate Type                           0\n",
              "Issue Date                           0\n",
              "Violation Code                       0\n",
              "Vehicle Body Type                    0\n",
              "Vehicle Make                         0\n",
              "Issuing Agency                       0\n",
              "Street Code1                         0\n",
              "Street Code2                         0\n",
              "Street Code3                         0\n",
              "Vehicle Expiration Date              0\n",
              "Violation Location                   0\n",
              "Violation Precinct                   0\n",
              "Issuer Precinct                      0\n",
              "Issuer Code                          0\n",
              "Issuer Command                       0\n",
              "Issuer Squad                         0\n",
              "Violation Time                       0\n",
              "Violation County                     0\n",
              "Violation In Front Of Or Opposite    0\n",
              "House Number                         0\n",
              "Street Name                          0\n",
              "Intersecting Street                  0\n",
              "Date First Observed                  0\n",
              "Law Section                          0\n",
              "Sub Division                         0\n",
              "Days Parking In Effect               0\n",
              "From Hours In Effect                 0\n",
              "To Hours In Effect                   0\n",
              "Vehicle Color                        0\n",
              "Vehicle Year                         0\n",
              "Meter Number                         0\n",
              "Feet From Curb                       0\n",
              "Violation Post Code                  0\n",
              "Violation Description                0\n",
              "dtype: int64"
            ]
          },
          "metadata": {},
          "execution_count": 21
        }
      ],
      "source": [
        "dfdask.isnull().sum().compute()"
      ]
    },
    {
      "cell_type": "markdown",
      "metadata": {
        "id": "qvBFRjMW3TaR"
      },
      "source": [
        "**2.PySpark**"
      ]
    },
    {
      "cell_type": "code",
      "execution_count": 22,
      "metadata": {
        "colab": {
          "base_uri": "https://localhost:8080/"
        },
        "id": "cBQpw14zqEv_",
        "outputId": "5a342d15-640f-4b40-d734-65878c73019b"
      },
      "outputs": [
        {
          "output_type": "stream",
          "name": "stdout",
          "text": [
            "+--------------+--------+------------------+----------+----------+--------------+-----------------+------------+--------------+------------+------------+------------+-----------------------+------------------+------------------+---------------+-----------+--------------+------------+--------------+-------------------+----------------+---------------------------------+------------+-----------+-------------------+-------------------+-----------+------------+--------------------+--------------------------+--------------------+------------------+-------------+---------------------+------------+------------+--------------+-------------------+---------------------+---------------------------------+-----------------+------------------------+--------+---------+---------------+------------------+------------+-------+-------+-------+\n",
            "|Summons Number|Plate ID|Registration State|Plate Type|Issue Date|Violation Code|Vehicle Body Type|Vehicle Make|Issuing Agency|Street Code1|Street Code2|Street Code3|Vehicle Expiration Date|Violation Location|Violation Precinct|Issuer Precinct|Issuer Code|Issuer Command|Issuer Squad|Violation Time|Time First Observed|Violation County|Violation In Front Of Or Opposite|House Number|Street Name|Intersecting Street|Date First Observed|Law Section|Sub Division|Violation Legal Code|Days Parking In Effect    |From Hours In Effect|To Hours In Effect|Vehicle Color|Unregistered Vehicle?|Vehicle Year|Meter Number|Feet From Curb|Violation Post Code|Violation Description|No Standing or Stopping Violation|Hydrant Violation|Double Parking Violation|Latitude|Longitude|Community Board|Community Council |Census Tract|    BIN|    BBL|    NTA|\n",
            "+--------------+--------+------------------+----------+----------+--------------+-----------------+------------+--------------+------------+------------+------------+-----------------------+------------------+------------------+---------------+-----------+--------------+------------+--------------+-------------------+----------------+---------------------------------+------------+-----------+-------------------+-------------------+-----------+------------+--------------------+--------------------------+--------------------+------------------+-------------+---------------------+------------+------------+--------------+-------------------+---------------------+---------------------------------+-----------------+------------------------+--------+---------+---------------+------------------+------------+-------+-------+-------+\n",
            "|             0|       3|                 0|         0|         0|             0|           110868|       63175|             0|           0|           0|           0|                      0|            671170|                 0|              0|          0|        654437|      654437|          2074|            8080301|          705205|                           769191|      856317|       4904|            7217041|                  0|          0|         246|             8443773|                   1415126|             3363268|           3363268|        72442|              7868631|           0|     7053455|             0|            1884022|              1231652|                          9100277|          9100277|                 9100277| 9100277|  9100277|        9100277|           9100277|     9100277|9100277|9100277|9100277|\n",
            "+--------------+--------+------------------+----------+----------+--------------+-----------------+------------+--------------+------------+------------+------------+-----------------------+------------------+------------------+---------------+-----------+--------------+------------+--------------+-------------------+----------------+---------------------------------+------------+-----------+-------------------+-------------------+-----------+------------+--------------------+--------------------------+--------------------+------------------+-------------+---------------------+------------+------------+--------------+-------------------+---------------------+---------------------------------+-----------------+------------------------+--------+---------+---------------+------------------+------------+-------+-------+-------+\n",
            "\n",
            "CPU times: user 1.72 s, sys: 251 ms, total: 1.97 s\n",
            "Wall time: 5min 32s\n"
          ]
        }
      ],
      "source": [
        "%%time\n",
        "from pyspark.sql.functions import isnan, when, count, col\n",
        "dfs.select([count(when(isnan(c) | col(c).isNull(), c)).alias(c) for c in dfs.columns]).show()"
      ]
    },
    {
      "cell_type": "code",
      "execution_count": 23,
      "metadata": {
        "colab": {
          "base_uri": "https://localhost:8080/"
        },
        "id": "O4-sfr0t9Zv0",
        "outputId": "33aa2d2d-73bd-4cd5-98fa-8faeead759ac"
      },
      "outputs": [
        {
          "output_type": "stream",
          "name": "stdout",
          "text": [
            "root\n",
            " |-- Summons Number: long (nullable = true)\n",
            " |-- Plate ID: string (nullable = true)\n",
            " |-- Registration State: string (nullable = true)\n",
            " |-- Plate Type: string (nullable = true)\n",
            " |-- Issue Date: string (nullable = true)\n",
            " |-- Violation Code: integer (nullable = true)\n",
            " |-- Vehicle Body Type: string (nullable = true)\n",
            " |-- Vehicle Make: string (nullable = true)\n",
            " |-- Issuing Agency: string (nullable = true)\n",
            " |-- Street Code1: integer (nullable = true)\n",
            " |-- Street Code2: integer (nullable = true)\n",
            " |-- Street Code3: integer (nullable = true)\n",
            " |-- Vehicle Expiration Date: integer (nullable = true)\n",
            " |-- Violation Location: integer (nullable = true)\n",
            " |-- Violation Precinct: integer (nullable = true)\n",
            " |-- Issuer Precinct: integer (nullable = true)\n",
            " |-- Issuer Code: integer (nullable = true)\n",
            " |-- Issuer Command: string (nullable = true)\n",
            " |-- Issuer Squad: string (nullable = true)\n",
            " |-- Violation Time: string (nullable = true)\n",
            " |-- Violation County: string (nullable = true)\n",
            " |-- Violation In Front Of Or Opposite: string (nullable = true)\n",
            " |-- House Number: string (nullable = true)\n",
            " |-- Street Name: string (nullable = true)\n",
            " |-- Intersecting Street: string (nullable = true)\n",
            " |-- Date First Observed: string (nullable = true)\n",
            " |-- Law Section: string (nullable = true)\n",
            " |-- Sub Division: string (nullable = true)\n",
            " |-- Days Parking In Effect    : string (nullable = true)\n",
            " |-- From Hours In Effect: string (nullable = true)\n",
            " |-- To Hours In Effect: string (nullable = true)\n",
            " |-- Vehicle Color: string (nullable = true)\n",
            " |-- Vehicle Year: string (nullable = true)\n",
            " |-- Meter Number: string (nullable = true)\n",
            " |-- Feet From Curb: string (nullable = true)\n",
            " |-- Violation Post Code: string (nullable = true)\n",
            " |-- Violation Description: string (nullable = true)\n",
            "\n",
            "CPU times: user 3.94 ms, sys: 0 ns, total: 3.94 ms\n",
            "Wall time: 13.2 ms\n"
          ]
        }
      ],
      "source": [
        "%%time\n",
        "dfs.drop('Time First Observed','Violation Legal Code','Unregistered Vehicle?','No Standing or Stopping Violation', 'Hydrant Violation', 'Double Parking Violation','Latitude','Longitude','Community Board','Community Council ','Census Tract','BIN','BBL','NTA') \\\n",
        "    .printSchema()"
      ]
    },
    {
      "cell_type": "code",
      "execution_count": 24,
      "metadata": {
        "colab": {
          "base_uri": "https://localhost:8080/"
        },
        "id": "3fy4Rbvn2Ern",
        "outputId": "9f3f9cb5-81eb-49e6-a0d0-12b6654cc105"
      },
      "outputs": [
        {
          "output_type": "stream",
          "name": "stdout",
          "text": [
            "CPU times: user 1.3 ms, sys: 995 µs, total: 2.3 ms\n",
            "Wall time: 43 ms\n"
          ]
        }
      ],
      "source": [
        "#Not all nan values need to be drop. Hence we fill the Nan values with 0.\n",
        "%%time\n",
        "dfs=dfs.fillna(0)"
      ]
    },
    {
      "cell_type": "code",
      "execution_count": 25,
      "metadata": {
        "id": "tOq7jPmD25ZN",
        "colab": {
          "base_uri": "https://localhost:8080/"
        },
        "outputId": "09f7ad7a-3a60-4165-94b6-8490b7626566"
      },
      "outputs": [
        {
          "output_type": "stream",
          "name": "stdout",
          "text": [
            "+--------------+--------+------------------+----------+----------+--------------+-----------------+------------+--------------+------------+------------+------------+-----------------------+------------------+------------------+---------------+-----------+--------------+------------+--------------+-------------------+----------------+---------------------------------+------------+-----------+-------------------+-------------------+-----------+------------+--------------------+--------------------------+--------------------+------------------+-------------+---------------------+------------+------------+--------------+-------------------+---------------------+---------------------------------+-----------------+------------------------+--------+---------+---------------+------------------+------------+-------+-------+-------+\n",
            "|Summons Number|Plate ID|Registration State|Plate Type|Issue Date|Violation Code|Vehicle Body Type|Vehicle Make|Issuing Agency|Street Code1|Street Code2|Street Code3|Vehicle Expiration Date|Violation Location|Violation Precinct|Issuer Precinct|Issuer Code|Issuer Command|Issuer Squad|Violation Time|Time First Observed|Violation County|Violation In Front Of Or Opposite|House Number|Street Name|Intersecting Street|Date First Observed|Law Section|Sub Division|Violation Legal Code|Days Parking In Effect    |From Hours In Effect|To Hours In Effect|Vehicle Color|Unregistered Vehicle?|Vehicle Year|Meter Number|Feet From Curb|Violation Post Code|Violation Description|No Standing or Stopping Violation|Hydrant Violation|Double Parking Violation|Latitude|Longitude|Community Board|Community Council |Census Tract|    BIN|    BBL|    NTA|\n",
            "+--------------+--------+------------------+----------+----------+--------------+-----------------+------------+--------------+------------+------------+------------+-----------------------+------------------+------------------+---------------+-----------+--------------+------------+--------------+-------------------+----------------+---------------------------------+------------+-----------+-------------------+-------------------+-----------+------------+--------------------+--------------------------+--------------------+------------------+-------------+---------------------+------------+------------+--------------+-------------------+---------------------+---------------------------------+-----------------+------------------------+--------+---------+---------------+------------------+------------+-------+-------+-------+\n",
            "|             0|       3|                 0|         0|         0|             0|           110868|       63175|             0|           0|           0|           0|                      0|                 0|                 0|              0|          0|        654437|      654437|          2074|            8080301|          705205|                           769191|      856317|       4904|            7217041|                  0|          0|         246|             8443773|                   1415126|             3363268|           3363268|        72442|              7868631|           0|     7053455|             0|            1884022|              1231652|                          9100277|          9100277|                 9100277| 9100277|  9100277|        9100277|           9100277|     9100277|9100277|9100277|9100277|\n",
            "+--------------+--------+------------------+----------+----------+--------------+-----------------+------------+--------------+------------+------------+------------+-----------------------+------------------+------------------+---------------+-----------+--------------+------------+--------------+-------------------+----------------+---------------------------------+------------+-----------+-------------------+-------------------+-----------+------------+--------------------+--------------------------+--------------------+------------------+-------------+---------------------+------------+------------+--------------+-------------------+---------------------+---------------------------------+-----------------+------------------------+--------+---------+---------------+------------------+------------+-------+-------+-------+\n",
            "\n",
            "CPU times: user 1.8 s, sys: 234 ms, total: 2.04 s\n",
            "Wall time: 5min 34s\n"
          ]
        }
      ],
      "source": [
        "%%time\n",
        "from pyspark.sql.functions import isnan, when, count, col\n",
        "dfs.select([count(when(isnan(c) | col(c).isNull(), c)).alias(c) for c in dfs.columns]).show()"
      ]
    },
    {
      "cell_type": "markdown",
      "metadata": {
        "id": "wsvO2GxE3cO1"
      },
      "source": [
        "**3.Koalas**"
      ]
    },
    {
      "cell_type": "code",
      "execution_count": 26,
      "metadata": {
        "id": "pP-2HKSXkWpk",
        "colab": {
          "base_uri": "https://localhost:8080/"
        },
        "outputId": "b7eee3b9-464c-4aaf-cc6e-33d264dd6c5f"
      },
      "outputs": [
        {
          "output_type": "stream",
          "name": "stdout",
          "text": [
            "CPU times: user 1.01 s, sys: 127 ms, total: 1.14 s\n",
            "Wall time: 46.7 s\n"
          ]
        },
        {
          "output_type": "execute_result",
          "data": {
            "text/plain": [
              "Summons Number                             0\n",
              "Plate ID                                   0\n",
              "Registration State                         0\n",
              "Plate Type                                 0\n",
              "Issue Date                                 0\n",
              "Violation Code                             0\n",
              "Vehicle Body Type                          0\n",
              "Vehicle Make                               0\n",
              "Issuing Agency                             0\n",
              "Street Code1                               0\n",
              "Street Code2                               0\n",
              "Street Code3                               0\n",
              "Vehicle Expiration Date                    0\n",
              "Violation Location                         0\n",
              "Violation Precinct                         0\n",
              "Issuer Precinct                            0\n",
              "Issuer Code                                0\n",
              "Issuer Command                             0\n",
              "Issuer Squad                               0\n",
              "Violation Time                             0\n",
              "Time First Observed                        0\n",
              "Violation County                           0\n",
              "Violation In Front Of Or Opposite          0\n",
              "House Number                               0\n",
              "Street Name                                0\n",
              "Intersecting Street                        0\n",
              "Date First Observed                        0\n",
              "Law Section                                1\n",
              "Sub Division                               0\n",
              "Violation Legal Code                       0\n",
              "Days Parking In Effect                     0\n",
              "From Hours In Effect                       0\n",
              "To Hours In Effect                         0\n",
              "Vehicle Color                              0\n",
              "Unregistered Vehicle?                      0\n",
              "Vehicle Year                               1\n",
              "Meter Number                               0\n",
              "Feet From Curb                             1\n",
              "Violation Post Code                        0\n",
              "Violation Description                      0\n",
              "No Standing or Stopping Violation          0\n",
              "Hydrant Violation                          0\n",
              "Double Parking Violation                   0\n",
              "Latitude                             9100277\n",
              "Longitude                            9100277\n",
              "Community Board                      9100277\n",
              "Community Council                    9100277\n",
              "Census Tract                         9100277\n",
              "BIN                                  9100277\n",
              "BBL                                  9100277\n",
              "NTA                                  9100277\n",
              "dtype: int64"
            ]
          },
          "metadata": {},
          "execution_count": 26
        }
      ],
      "source": [
        "%%time\n",
        "dfk.isnull().sum()"
      ]
    },
    {
      "cell_type": "code",
      "execution_count": 27,
      "metadata": {
        "id": "I7HmvJkBBD1N",
        "colab": {
          "base_uri": "https://localhost:8080/",
          "height": 401
        },
        "outputId": "8d361dd1-27b5-42b4-f84c-e2294964adc6"
      },
      "outputs": [
        {
          "output_type": "stream",
          "name": "stdout",
          "text": [
            "CPU times: user 44 ms, sys: 974 µs, total: 45 ms\n",
            "Wall time: 141 ms\n"
          ]
        },
        {
          "output_type": "execute_result",
          "data": {
            "text/plain": [
              "   Summons Number Plate ID Registration State Plate Type  Issue Date  Violation Code Vehicle Body Type Vehicle Make Issuing Agency  Street Code1  Street Code2  Street Code3 Vehicle Expiration Date Violation Location  Violation Precinct  Issuer Precinct  Issuer Code Issuer Command Issuer Squad Violation Time Violation County Violation In Front Of Or Opposite House Number Street Name Intersecting Street Date First Observed  Law Section Sub Division Days Parking In Effect     From Hours In Effect To Hours In Effect Vehicle Color  Vehicle Year Meter Number  Feet From Curb Violation Post Code Violation Description\n",
              "0      1283294138  GBB9093                 NY        PAS  08/04/2013              46              SUBN         AUDI              P         37250         13610         21190                20140831                 33                33.0             33.0     921043.0           0033         0000          0752A             None                                 F          712    W 175 ST                None                   0        408.0           F1                    BBBBBBB                  ALL                ALL            GY        2013.0            -             0.0                None                  None\n",
              "1      1283294151  62416MB                 NY        COM  08/04/2013              46               VAN         FORD              P         37290         40404         40404                20140430                 33                33.0             33.0     921043.0           0033         0000          1240P               NY                                 O          201    W 177 ST                None                   0        408.0            C                    BBBBBBB                  ALL                ALL            WH        2012.0            -             0.0                None                  None\n",
              "2      1283294163  78755JZ                 NY        COM  08/05/2013              46               P-U        CHEVR              P         37030         31190         13610                20140228                 33                33.0             33.0     921043.0           0033         0000          1243P               NY                                 O          520    W 163 ST                None                   0        408.0           F7                    BBBBBBB                  ALL                ALL          None           0.0            -             0.0                None                  None\n",
              "3      1283294175  63009MA                 NY        COM  08/05/2013              46               VAN         FORD              P         37270         11710         12010                20141031                 33                33.0             33.0     921043.0           0033         0000          0232P               NY                                 O          517    W 176 ST                None                   0        408.0           F1                    BBBBBBB                  ALL                ALL            WH        2010.0            -             0.0                None                  None\n",
              "4      1283294187  91648MC                 NY        COM  08/08/2013              41              TRLR          GMC              P         37240         12010         31190                       0                 33                33.0             33.0     921043.0           0033         0000          1239P               NY                                 F          590    W 174 ST                None                   0        408.0           E1                    BBBBBBB                  ALL                ALL            BR        2012.0            -             0.0                None                  None"
            ],
            "text/html": [
              "<div>\n",
              "<style scoped>\n",
              "    .dataframe tbody tr th:only-of-type {\n",
              "        vertical-align: middle;\n",
              "    }\n",
              "\n",
              "    .dataframe tbody tr th {\n",
              "        vertical-align: top;\n",
              "    }\n",
              "\n",
              "    .dataframe thead th {\n",
              "        text-align: right;\n",
              "    }\n",
              "</style>\n",
              "<table border=\"1\" class=\"dataframe\">\n",
              "  <thead>\n",
              "    <tr style=\"text-align: right;\">\n",
              "      <th></th>\n",
              "      <th>Summons Number</th>\n",
              "      <th>Plate ID</th>\n",
              "      <th>Registration State</th>\n",
              "      <th>Plate Type</th>\n",
              "      <th>Issue Date</th>\n",
              "      <th>Violation Code</th>\n",
              "      <th>Vehicle Body Type</th>\n",
              "      <th>Vehicle Make</th>\n",
              "      <th>Issuing Agency</th>\n",
              "      <th>Street Code1</th>\n",
              "      <th>Street Code2</th>\n",
              "      <th>Street Code3</th>\n",
              "      <th>Vehicle Expiration Date</th>\n",
              "      <th>Violation Location</th>\n",
              "      <th>Violation Precinct</th>\n",
              "      <th>Issuer Precinct</th>\n",
              "      <th>Issuer Code</th>\n",
              "      <th>Issuer Command</th>\n",
              "      <th>Issuer Squad</th>\n",
              "      <th>Violation Time</th>\n",
              "      <th>Violation County</th>\n",
              "      <th>Violation In Front Of Or Opposite</th>\n",
              "      <th>House Number</th>\n",
              "      <th>Street Name</th>\n",
              "      <th>Intersecting Street</th>\n",
              "      <th>Date First Observed</th>\n",
              "      <th>Law Section</th>\n",
              "      <th>Sub Division</th>\n",
              "      <th>Days Parking In Effect</th>\n",
              "      <th>From Hours In Effect</th>\n",
              "      <th>To Hours In Effect</th>\n",
              "      <th>Vehicle Color</th>\n",
              "      <th>Vehicle Year</th>\n",
              "      <th>Meter Number</th>\n",
              "      <th>Feet From Curb</th>\n",
              "      <th>Violation Post Code</th>\n",
              "      <th>Violation Description</th>\n",
              "    </tr>\n",
              "  </thead>\n",
              "  <tbody>\n",
              "    <tr>\n",
              "      <th>0</th>\n",
              "      <td>1283294138</td>\n",
              "      <td>GBB9093</td>\n",
              "      <td>NY</td>\n",
              "      <td>PAS</td>\n",
              "      <td>08/04/2013</td>\n",
              "      <td>46</td>\n",
              "      <td>SUBN</td>\n",
              "      <td>AUDI</td>\n",
              "      <td>P</td>\n",
              "      <td>37250</td>\n",
              "      <td>13610</td>\n",
              "      <td>21190</td>\n",
              "      <td>20140831</td>\n",
              "      <td>33</td>\n",
              "      <td>33.0</td>\n",
              "      <td>33.0</td>\n",
              "      <td>921043.0</td>\n",
              "      <td>0033</td>\n",
              "      <td>0000</td>\n",
              "      <td>0752A</td>\n",
              "      <td>None</td>\n",
              "      <td>F</td>\n",
              "      <td>712</td>\n",
              "      <td>W 175 ST</td>\n",
              "      <td>None</td>\n",
              "      <td>0</td>\n",
              "      <td>408.0</td>\n",
              "      <td>F1</td>\n",
              "      <td>BBBBBBB</td>\n",
              "      <td>ALL</td>\n",
              "      <td>ALL</td>\n",
              "      <td>GY</td>\n",
              "      <td>2013.0</td>\n",
              "      <td>-</td>\n",
              "      <td>0.0</td>\n",
              "      <td>None</td>\n",
              "      <td>None</td>\n",
              "    </tr>\n",
              "    <tr>\n",
              "      <th>1</th>\n",
              "      <td>1283294151</td>\n",
              "      <td>62416MB</td>\n",
              "      <td>NY</td>\n",
              "      <td>COM</td>\n",
              "      <td>08/04/2013</td>\n",
              "      <td>46</td>\n",
              "      <td>VAN</td>\n",
              "      <td>FORD</td>\n",
              "      <td>P</td>\n",
              "      <td>37290</td>\n",
              "      <td>40404</td>\n",
              "      <td>40404</td>\n",
              "      <td>20140430</td>\n",
              "      <td>33</td>\n",
              "      <td>33.0</td>\n",
              "      <td>33.0</td>\n",
              "      <td>921043.0</td>\n",
              "      <td>0033</td>\n",
              "      <td>0000</td>\n",
              "      <td>1240P</td>\n",
              "      <td>NY</td>\n",
              "      <td>O</td>\n",
              "      <td>201</td>\n",
              "      <td>W 177 ST</td>\n",
              "      <td>None</td>\n",
              "      <td>0</td>\n",
              "      <td>408.0</td>\n",
              "      <td>C</td>\n",
              "      <td>BBBBBBB</td>\n",
              "      <td>ALL</td>\n",
              "      <td>ALL</td>\n",
              "      <td>WH</td>\n",
              "      <td>2012.0</td>\n",
              "      <td>-</td>\n",
              "      <td>0.0</td>\n",
              "      <td>None</td>\n",
              "      <td>None</td>\n",
              "    </tr>\n",
              "    <tr>\n",
              "      <th>2</th>\n",
              "      <td>1283294163</td>\n",
              "      <td>78755JZ</td>\n",
              "      <td>NY</td>\n",
              "      <td>COM</td>\n",
              "      <td>08/05/2013</td>\n",
              "      <td>46</td>\n",
              "      <td>P-U</td>\n",
              "      <td>CHEVR</td>\n",
              "      <td>P</td>\n",
              "      <td>37030</td>\n",
              "      <td>31190</td>\n",
              "      <td>13610</td>\n",
              "      <td>20140228</td>\n",
              "      <td>33</td>\n",
              "      <td>33.0</td>\n",
              "      <td>33.0</td>\n",
              "      <td>921043.0</td>\n",
              "      <td>0033</td>\n",
              "      <td>0000</td>\n",
              "      <td>1243P</td>\n",
              "      <td>NY</td>\n",
              "      <td>O</td>\n",
              "      <td>520</td>\n",
              "      <td>W 163 ST</td>\n",
              "      <td>None</td>\n",
              "      <td>0</td>\n",
              "      <td>408.0</td>\n",
              "      <td>F7</td>\n",
              "      <td>BBBBBBB</td>\n",
              "      <td>ALL</td>\n",
              "      <td>ALL</td>\n",
              "      <td>None</td>\n",
              "      <td>0.0</td>\n",
              "      <td>-</td>\n",
              "      <td>0.0</td>\n",
              "      <td>None</td>\n",
              "      <td>None</td>\n",
              "    </tr>\n",
              "    <tr>\n",
              "      <th>3</th>\n",
              "      <td>1283294175</td>\n",
              "      <td>63009MA</td>\n",
              "      <td>NY</td>\n",
              "      <td>COM</td>\n",
              "      <td>08/05/2013</td>\n",
              "      <td>46</td>\n",
              "      <td>VAN</td>\n",
              "      <td>FORD</td>\n",
              "      <td>P</td>\n",
              "      <td>37270</td>\n",
              "      <td>11710</td>\n",
              "      <td>12010</td>\n",
              "      <td>20141031</td>\n",
              "      <td>33</td>\n",
              "      <td>33.0</td>\n",
              "      <td>33.0</td>\n",
              "      <td>921043.0</td>\n",
              "      <td>0033</td>\n",
              "      <td>0000</td>\n",
              "      <td>0232P</td>\n",
              "      <td>NY</td>\n",
              "      <td>O</td>\n",
              "      <td>517</td>\n",
              "      <td>W 176 ST</td>\n",
              "      <td>None</td>\n",
              "      <td>0</td>\n",
              "      <td>408.0</td>\n",
              "      <td>F1</td>\n",
              "      <td>BBBBBBB</td>\n",
              "      <td>ALL</td>\n",
              "      <td>ALL</td>\n",
              "      <td>WH</td>\n",
              "      <td>2010.0</td>\n",
              "      <td>-</td>\n",
              "      <td>0.0</td>\n",
              "      <td>None</td>\n",
              "      <td>None</td>\n",
              "    </tr>\n",
              "    <tr>\n",
              "      <th>4</th>\n",
              "      <td>1283294187</td>\n",
              "      <td>91648MC</td>\n",
              "      <td>NY</td>\n",
              "      <td>COM</td>\n",
              "      <td>08/08/2013</td>\n",
              "      <td>41</td>\n",
              "      <td>TRLR</td>\n",
              "      <td>GMC</td>\n",
              "      <td>P</td>\n",
              "      <td>37240</td>\n",
              "      <td>12010</td>\n",
              "      <td>31190</td>\n",
              "      <td>0</td>\n",
              "      <td>33</td>\n",
              "      <td>33.0</td>\n",
              "      <td>33.0</td>\n",
              "      <td>921043.0</td>\n",
              "      <td>0033</td>\n",
              "      <td>0000</td>\n",
              "      <td>1239P</td>\n",
              "      <td>NY</td>\n",
              "      <td>F</td>\n",
              "      <td>590</td>\n",
              "      <td>W 174 ST</td>\n",
              "      <td>None</td>\n",
              "      <td>0</td>\n",
              "      <td>408.0</td>\n",
              "      <td>E1</td>\n",
              "      <td>BBBBBBB</td>\n",
              "      <td>ALL</td>\n",
              "      <td>ALL</td>\n",
              "      <td>BR</td>\n",
              "      <td>2012.0</td>\n",
              "      <td>-</td>\n",
              "      <td>0.0</td>\n",
              "      <td>None</td>\n",
              "      <td>None</td>\n",
              "    </tr>\n",
              "  </tbody>\n",
              "</table>\n",
              "</div>"
            ]
          },
          "metadata": {},
          "execution_count": 27
        }
      ],
      "source": [
        "%%time\n",
        "dfk=dfk.drop(['Time First Observed','Violation Legal Code','Unregistered Vehicle?','No Standing or Stopping Violation', 'Hydrant Violation', 'Double Parking Violation','Latitude','Longitude','Community Board','Community Council ','Census Tract','BIN','BBL','NTA'], axis=1) \n",
        "dfk.head()"
      ]
    },
    {
      "cell_type": "code",
      "execution_count": 28,
      "metadata": {
        "id": "mgsywbiIBbtw",
        "colab": {
          "base_uri": "https://localhost:8080/"
        },
        "outputId": "d65b54f0-73f4-4356-bcc6-85e40b451f12"
      },
      "outputs": [
        {
          "output_type": "stream",
          "name": "stdout",
          "text": [
            "CPU times: user 330 ms, sys: 41.6 ms, total: 372 ms\n",
            "Wall time: 1.75 s\n"
          ]
        }
      ],
      "source": [
        "#Not all nan values need to be drop. Hence we fill the Nan values with 0.\n",
        "%%time\n",
        "dfk = dfk.fillna(0)"
      ]
    },
    {
      "cell_type": "code",
      "execution_count": 29,
      "metadata": {
        "id": "KWe0HRZ4Bi5l"
      },
      "outputs": [],
      "source": [
        "#dfk.isnull().sum()"
      ]
    },
    {
      "cell_type": "markdown",
      "metadata": {
        "id": "oMlzxtbbrSiW"
      },
      "source": [
        ">**Findings ▶** \n",
        "There are some similarity in all 3 libraries in finding and drop missing values. Dask and Koalas uses the same method but PySpark using different method.\n",
        "We found that the fastest library that can do this operation is **Dask** with the total of **1min 54s**.\n",
        ">1. Dask 🕔\n",
        "Dask took **1min 4s** to compute nan values **1.52s** to drop columns and **14.18ms** to fill null values. Total execution time is **1min 6s**, the fastest library.\n",
        "\n",
        ">2. PySpark 🕔\n",
        "PySpark took **7min 50s** to compute nan values **30.6s** to drop columns and **39ms** to fill null values. Total execution time is **8min 34s** which is **8 times slower compared to Dask**.\n",
        "\n",
        ">3. Koalas 🕔\n",
        "PySpark took **1min 12s** to compute nan values **171ms** to drop columns and **2.33s** to fill null values. Total execution time is **1min 15s** which is **9s behind Dask**.\n",
        "\n"
      ]
    },
    {
      "cell_type": "markdown",
      "metadata": {
        "id": "Xbomtg8eCfaQ"
      },
      "source": [
        "\n",
        "\n",
        "---\n",
        "\n",
        "\n",
        "\n",
        "---\n",
        "\n"
      ]
    },
    {
      "cell_type": "markdown",
      "metadata": {
        "id": "_8mbKpS7B_SP"
      },
      "source": [
        "# **`Step 3: Convert column 'Issue Date' to datetime.`**"
      ]
    },
    {
      "cell_type": "markdown",
      "metadata": {
        "id": "uSytdYFiye7R"
      },
      "source": [
        "The ` Issue Date`column has string type data hence it need to be change to datetime type."
      ]
    },
    {
      "cell_type": "markdown",
      "metadata": {
        "id": "ffloctkrCoqv"
      },
      "source": [
        "**1. Dask**"
      ]
    },
    {
      "cell_type": "code",
      "execution_count": 30,
      "metadata": {
        "id": "_sJ60gHDCza5",
        "colab": {
          "base_uri": "https://localhost:8080/"
        },
        "outputId": "b879a60f-a1ce-4f27-a624-5af38205197c"
      },
      "outputs": [
        {
          "output_type": "stream",
          "name": "stdout",
          "text": [
            "CPU times: user 10 ms, sys: 1.01 ms, total: 11 ms\n",
            "Wall time: 23.3 ms\n"
          ]
        },
        {
          "output_type": "execute_result",
          "data": {
            "text/plain": [
              "Summons Number                                int32\n",
              "Plate ID                                     object\n",
              "Registration State                           object\n",
              "Plate Type                                   object\n",
              "Issue Date                           datetime64[ns]\n",
              "Violation Code                                int16\n",
              "Vehicle Body Type                            object\n",
              "Vehicle Make                                 object\n",
              "Issuing Agency                               object\n",
              "Street Code1                                  int32\n",
              "Street Code2                                  int32\n",
              "Street Code3                                  int32\n",
              "Vehicle Expiration Date                      object\n",
              "Violation Location                           object\n",
              "Violation Precinct                          float32\n",
              "Issuer Precinct                             float32\n",
              "Issuer Code                                 float32\n",
              "Issuer Command                               object\n",
              "Issuer Squad                                 object\n",
              "Violation Time                               object\n",
              "Violation County                             object\n",
              "Violation In Front Of Or Opposite            object\n",
              "House Number                                 object\n",
              "Street Name                                  object\n",
              "Intersecting Street                          object\n",
              "Date First Observed                          object\n",
              "Law Section                                 float32\n",
              "Sub Division                                 object\n",
              "Days Parking In Effect                       object\n",
              "From Hours In Effect                         object\n",
              "To Hours In Effect                           object\n",
              "Vehicle Color                                object\n",
              "Vehicle Year                                float32\n",
              "Meter Number                                 object\n",
              "Feet From Curb                              float32\n",
              "Violation Post Code                          object\n",
              "Violation Description                        object\n",
              "dtype: object"
            ]
          },
          "metadata": {},
          "execution_count": 30
        }
      ],
      "source": [
        "%%time\n",
        "dfdask['Issue Date'] = dd.to_datetime(dfdask['Issue Date'],format='%m/%d/%Y',errors='coerce')\n",
        "dfdask.dtypes"
      ]
    },
    {
      "cell_type": "markdown",
      "metadata": {
        "id": "nGui82dADhAr"
      },
      "source": [
        "**2. PySpark**"
      ]
    },
    {
      "cell_type": "code",
      "execution_count": 31,
      "metadata": {
        "id": "e_N3JBDHDgGj",
        "colab": {
          "base_uri": "https://localhost:8080/"
        },
        "outputId": "8aee83a2-1c5d-4e82-e3d5-6dfd8519b154"
      },
      "outputs": [
        {
          "output_type": "stream",
          "name": "stdout",
          "text": [
            "root\n",
            " |-- Summons Number: long (nullable = true)\n",
            " |-- Plate ID: string (nullable = true)\n",
            " |-- Registration State: string (nullable = true)\n",
            " |-- Plate Type: string (nullable = true)\n",
            " |-- Issue Date: date (nullable = true)\n",
            " |-- Violation Code: integer (nullable = true)\n",
            " |-- Vehicle Body Type: string (nullable = true)\n",
            " |-- Vehicle Make: string (nullable = true)\n",
            " |-- Issuing Agency: string (nullable = true)\n",
            " |-- Street Code1: integer (nullable = true)\n",
            " |-- Street Code2: integer (nullable = true)\n",
            " |-- Street Code3: integer (nullable = true)\n",
            " |-- Vehicle Expiration Date: integer (nullable = true)\n",
            " |-- Violation Location: integer (nullable = true)\n",
            " |-- Violation Precinct: integer (nullable = true)\n",
            " |-- Issuer Precinct: integer (nullable = true)\n",
            " |-- Issuer Code: integer (nullable = true)\n",
            " |-- Issuer Command: string (nullable = true)\n",
            " |-- Issuer Squad: string (nullable = true)\n",
            " |-- Violation Time: string (nullable = true)\n",
            " |-- Time First Observed: string (nullable = true)\n",
            " |-- Violation County: string (nullable = true)\n",
            " |-- Violation In Front Of Or Opposite: string (nullable = true)\n",
            " |-- House Number: string (nullable = true)\n",
            " |-- Street Name: string (nullable = true)\n",
            " |-- Intersecting Street: string (nullable = true)\n",
            " |-- Date First Observed: string (nullable = true)\n",
            " |-- Law Section: string (nullable = true)\n",
            " |-- Sub Division: string (nullable = true)\n",
            " |-- Violation Legal Code: string (nullable = true)\n",
            " |-- Days Parking In Effect    : string (nullable = true)\n",
            " |-- From Hours In Effect: string (nullable = true)\n",
            " |-- To Hours In Effect: string (nullable = true)\n",
            " |-- Vehicle Color: string (nullable = true)\n",
            " |-- Unregistered Vehicle?: string (nullable = true)\n",
            " |-- Vehicle Year: string (nullable = true)\n",
            " |-- Meter Number: string (nullable = true)\n",
            " |-- Feet From Curb: string (nullable = true)\n",
            " |-- Violation Post Code: string (nullable = true)\n",
            " |-- Violation Description: string (nullable = true)\n",
            " |-- No Standing or Stopping Violation: string (nullable = true)\n",
            " |-- Hydrant Violation: string (nullable = true)\n",
            " |-- Double Parking Violation: string (nullable = true)\n",
            " |-- Latitude: string (nullable = true)\n",
            " |-- Longitude: string (nullable = true)\n",
            " |-- Community Board: string (nullable = true)\n",
            " |-- Community Council : string (nullable = true)\n",
            " |-- Census Tract: string (nullable = true)\n",
            " |-- BIN: string (nullable = true)\n",
            " |-- BBL: string (nullable = true)\n",
            " |-- NTA: string (nullable = true)\n",
            "\n",
            "CPU times: user 1.81 ms, sys: 0 ns, total: 1.81 ms\n",
            "Wall time: 23.3 ms\n"
          ]
        }
      ],
      "source": [
        "%%time\n",
        "#dfs = dfs.withColumn(\"Issue Date\", to_date(dfs.date_string))\n",
        "#from pyspark.sql.functions import to_date, lit\n",
        "#df.select(\"db_id\", to_date(lit(\"1-12-2022\"),\"d-MM-yyyy\")).show()\n",
        "from pyspark.sql.types import StringType, DateType, FloatType\n",
        "dfs = dfs.withColumn('Issue Date', func.to_date('Issue Date', 'dd/MM/yyyy'))\n",
        "dfs.printSchema()\n"
      ]
    },
    {
      "cell_type": "markdown",
      "metadata": {
        "id": "DIQD4WqAGvdv"
      },
      "source": [
        "**3. Koalas**"
      ]
    },
    {
      "cell_type": "code",
      "execution_count": 32,
      "metadata": {
        "id": "itesHBnSGysl",
        "colab": {
          "base_uri": "https://localhost:8080/"
        },
        "outputId": "bdc65b1b-279e-460f-9534-d6fc7e406f80"
      },
      "outputs": [
        {
          "output_type": "stream",
          "name": "stderr",
          "text": [
            "/usr/local/lib/python3.8/dist-packages/pyspark/sql/pandas/functions.py:394: UserWarning: In Python 3.6+ and Spark 3.0+, it is preferred to specify type hints for pandas UDF instead of specifying pandas UDF type which will be deprecated in the future releases. See SPARK-28264 for more details.\n",
            "  warnings.warn(\n"
          ]
        },
        {
          "output_type": "stream",
          "name": "stdout",
          "text": [
            "CPU times: user 143 ms, sys: 19.3 ms, total: 162 ms\n",
            "Wall time: 871 ms\n"
          ]
        },
        {
          "output_type": "execute_result",
          "data": {
            "text/plain": [
              "Summons Number                            int32\n",
              "Plate ID                                 object\n",
              "Registration State                       object\n",
              "Plate Type                               object\n",
              "Issue Date                           datetime64\n",
              "Violation Code                            int32\n",
              "Vehicle Body Type                        object\n",
              "Vehicle Make                             object\n",
              "Issuing Agency                           object\n",
              "Street Code1                              int32\n",
              "Street Code2                              int32\n",
              "Street Code3                              int32\n",
              "Vehicle Expiration Date                  object\n",
              "Violation Location                       object\n",
              "Violation Precinct                      float32\n",
              "Issuer Precinct                         float32\n",
              "Issuer Code                             float32\n",
              "Issuer Command                           object\n",
              "Issuer Squad                             object\n",
              "Violation Time                           object\n",
              "Violation County                         object\n",
              "Violation In Front Of Or Opposite        object\n",
              "House Number                             object\n",
              "Street Name                              object\n",
              "Intersecting Street                      object\n",
              "Date First Observed                      object\n",
              "Law Section                             float32\n",
              "Sub Division                             object\n",
              "Days Parking In Effect                   object\n",
              "From Hours In Effect                     object\n",
              "To Hours In Effect                       object\n",
              "Vehicle Color                            object\n",
              "Vehicle Year                            float32\n",
              "Meter Number                             object\n",
              "Feet From Curb                          float32\n",
              "Violation Post Code                      object\n",
              "Violation Description                    object\n",
              "dtype: object"
            ]
          },
          "metadata": {},
          "execution_count": 32
        }
      ],
      "source": [
        "%%time\n",
        "dfk['Issue Date'] = ks.to_datetime(dfk['Issue Date'],format='%m/%d/%Y',errors='coerce')\n",
        "dfk.dtypes"
      ]
    },
    {
      "cell_type": "markdown",
      "metadata": {
        "id": "C8RLdxMlzBSI"
      },
      "source": [
        ">**Findings ▶** \n",
        "To change dtype of a column Dask and Koalas use the same method which is **to_datetime()**. Meanwhile, PySpark need to use import function **to_date()**.\n",
        "We found that the **fastest library** is **PySpark** that took **22.6ms**.\n",
        ">1. Dask 🕔\n",
        "Dask took **30.9ms** to change dtype from string to datetime which is **12.3s behind PySpark.**\n",
        "\n",
        ">2. PySpark 🕔\n",
        "PySpark is the **fastest** compared to Dask and Koalas with only **22.6ms** to change dtype string to date.\n",
        "\n",
        ">3. Koalas 🕔\n",
        "Koalas remain as the **slowest library** that took **1.13s** to change dtype string to datetime.\n",
        "\n"
      ]
    },
    {
      "cell_type": "markdown",
      "metadata": {
        "id": "IcWEu7qiK9JD"
      },
      "source": [
        "\n",
        "\n",
        "---\n",
        "\n",
        "\n",
        "\n",
        "---\n",
        "\n"
      ]
    },
    {
      "cell_type": "markdown",
      "metadata": {
        "id": "nVnubzkU09-V"
      },
      "source": [
        "## **`Step 4: Drop Duplicates of Unique Values`**"
      ]
    },
    {
      "cell_type": "markdown",
      "metadata": {
        "id": "igckTI2N1UPM"
      },
      "source": [
        "In NYC Parking Ticket dataset, the `Summons Number` is a unique value because there can only be 1 record of each summon took. In the dataset, w"
      ]
    },
    {
      "cell_type": "markdown",
      "metadata": {
        "id": "tubhedUsK4GO"
      },
      "source": [
        "**1. Dask**"
      ]
    },
    {
      "cell_type": "code",
      "execution_count": 33,
      "metadata": {
        "id": "AKnuukxNKyZ-",
        "colab": {
          "base_uri": "https://localhost:8080/",
          "height": 526
        },
        "outputId": "2fa28ea7-2912-4bc0-b04a-12d2f1b89ab6"
      },
      "outputs": [
        {
          "output_type": "stream",
          "name": "stdout",
          "text": [
            "CPU times: user 1.53 s, sys: 48.9 ms, total: 1.58 s\n",
            "Wall time: 1.6 s\n"
          ]
        },
        {
          "output_type": "execute_result",
          "data": {
            "text/plain": [
              "   Summons Number Plate ID Registration State Plate Type Issue Date  \\\n",
              "0      1283294138  GBB9093                 NY        PAS 2013-08-04   \n",
              "1      1283294151  62416MB                 NY        COM 2013-08-04   \n",
              "2      1283294163  78755JZ                 NY        COM 2013-08-05   \n",
              "3      1283294175  63009MA                 NY        COM 2013-08-05   \n",
              "4      1283294187  91648MC                 NY        COM 2013-08-08   \n",
              "\n",
              "   Violation Code Vehicle Body Type Vehicle Make Issuing Agency  Street Code1  \\\n",
              "0              46              SUBN         AUDI              P         37250   \n",
              "1              46               VAN         FORD              P         37290   \n",
              "2              46               P-U        CHEVR              P         37030   \n",
              "3              46               VAN         FORD              P         37270   \n",
              "4              41              TRLR          GMC              P         37240   \n",
              "\n",
              "   ...  Sub Division  Days Parking In Effect     From Hours In Effect  \\\n",
              "0  ...            F1                     BBBBBBB                  ALL   \n",
              "1  ...             C                     BBBBBBB                  ALL   \n",
              "2  ...            F7                     BBBBBBB                  ALL   \n",
              "3  ...            F1                     BBBBBBB                  ALL   \n",
              "4  ...            E1                     BBBBBBB                  ALL   \n",
              "\n",
              "  To Hours In Effect  Vehicle Color  Vehicle Year  Meter Number  \\\n",
              "0                ALL             GY        2013.0             -   \n",
              "1                ALL             WH        2012.0             -   \n",
              "2                ALL              0           0.0             -   \n",
              "3                ALL             WH        2010.0             -   \n",
              "4                ALL             BR        2012.0             -   \n",
              "\n",
              "  Feet From Curb Violation Post Code Violation Description  \n",
              "0            0.0                   0                     0  \n",
              "1            0.0                   0                     0  \n",
              "2            0.0                   0                     0  \n",
              "3            0.0                   0                     0  \n",
              "4            0.0                   0                     0  \n",
              "\n",
              "[5 rows x 37 columns]"
            ],
            "text/html": [
              "\n",
              "  <div id=\"df-86c156eb-2b8f-489c-b117-43ad4771ea5b\">\n",
              "    <div class=\"colab-df-container\">\n",
              "      <div>\n",
              "<style scoped>\n",
              "    .dataframe tbody tr th:only-of-type {\n",
              "        vertical-align: middle;\n",
              "    }\n",
              "\n",
              "    .dataframe tbody tr th {\n",
              "        vertical-align: top;\n",
              "    }\n",
              "\n",
              "    .dataframe thead th {\n",
              "        text-align: right;\n",
              "    }\n",
              "</style>\n",
              "<table border=\"1\" class=\"dataframe\">\n",
              "  <thead>\n",
              "    <tr style=\"text-align: right;\">\n",
              "      <th></th>\n",
              "      <th>Summons Number</th>\n",
              "      <th>Plate ID</th>\n",
              "      <th>Registration State</th>\n",
              "      <th>Plate Type</th>\n",
              "      <th>Issue Date</th>\n",
              "      <th>Violation Code</th>\n",
              "      <th>Vehicle Body Type</th>\n",
              "      <th>Vehicle Make</th>\n",
              "      <th>Issuing Agency</th>\n",
              "      <th>Street Code1</th>\n",
              "      <th>...</th>\n",
              "      <th>Sub Division</th>\n",
              "      <th>Days Parking In Effect</th>\n",
              "      <th>From Hours In Effect</th>\n",
              "      <th>To Hours In Effect</th>\n",
              "      <th>Vehicle Color</th>\n",
              "      <th>Vehicle Year</th>\n",
              "      <th>Meter Number</th>\n",
              "      <th>Feet From Curb</th>\n",
              "      <th>Violation Post Code</th>\n",
              "      <th>Violation Description</th>\n",
              "    </tr>\n",
              "  </thead>\n",
              "  <tbody>\n",
              "    <tr>\n",
              "      <th>0</th>\n",
              "      <td>1283294138</td>\n",
              "      <td>GBB9093</td>\n",
              "      <td>NY</td>\n",
              "      <td>PAS</td>\n",
              "      <td>2013-08-04</td>\n",
              "      <td>46</td>\n",
              "      <td>SUBN</td>\n",
              "      <td>AUDI</td>\n",
              "      <td>P</td>\n",
              "      <td>37250</td>\n",
              "      <td>...</td>\n",
              "      <td>F1</td>\n",
              "      <td>BBBBBBB</td>\n",
              "      <td>ALL</td>\n",
              "      <td>ALL</td>\n",
              "      <td>GY</td>\n",
              "      <td>2013.0</td>\n",
              "      <td>-</td>\n",
              "      <td>0.0</td>\n",
              "      <td>0</td>\n",
              "      <td>0</td>\n",
              "    </tr>\n",
              "    <tr>\n",
              "      <th>1</th>\n",
              "      <td>1283294151</td>\n",
              "      <td>62416MB</td>\n",
              "      <td>NY</td>\n",
              "      <td>COM</td>\n",
              "      <td>2013-08-04</td>\n",
              "      <td>46</td>\n",
              "      <td>VAN</td>\n",
              "      <td>FORD</td>\n",
              "      <td>P</td>\n",
              "      <td>37290</td>\n",
              "      <td>...</td>\n",
              "      <td>C</td>\n",
              "      <td>BBBBBBB</td>\n",
              "      <td>ALL</td>\n",
              "      <td>ALL</td>\n",
              "      <td>WH</td>\n",
              "      <td>2012.0</td>\n",
              "      <td>-</td>\n",
              "      <td>0.0</td>\n",
              "      <td>0</td>\n",
              "      <td>0</td>\n",
              "    </tr>\n",
              "    <tr>\n",
              "      <th>2</th>\n",
              "      <td>1283294163</td>\n",
              "      <td>78755JZ</td>\n",
              "      <td>NY</td>\n",
              "      <td>COM</td>\n",
              "      <td>2013-08-05</td>\n",
              "      <td>46</td>\n",
              "      <td>P-U</td>\n",
              "      <td>CHEVR</td>\n",
              "      <td>P</td>\n",
              "      <td>37030</td>\n",
              "      <td>...</td>\n",
              "      <td>F7</td>\n",
              "      <td>BBBBBBB</td>\n",
              "      <td>ALL</td>\n",
              "      <td>ALL</td>\n",
              "      <td>0</td>\n",
              "      <td>0.0</td>\n",
              "      <td>-</td>\n",
              "      <td>0.0</td>\n",
              "      <td>0</td>\n",
              "      <td>0</td>\n",
              "    </tr>\n",
              "    <tr>\n",
              "      <th>3</th>\n",
              "      <td>1283294175</td>\n",
              "      <td>63009MA</td>\n",
              "      <td>NY</td>\n",
              "      <td>COM</td>\n",
              "      <td>2013-08-05</td>\n",
              "      <td>46</td>\n",
              "      <td>VAN</td>\n",
              "      <td>FORD</td>\n",
              "      <td>P</td>\n",
              "      <td>37270</td>\n",
              "      <td>...</td>\n",
              "      <td>F1</td>\n",
              "      <td>BBBBBBB</td>\n",
              "      <td>ALL</td>\n",
              "      <td>ALL</td>\n",
              "      <td>WH</td>\n",
              "      <td>2010.0</td>\n",
              "      <td>-</td>\n",
              "      <td>0.0</td>\n",
              "      <td>0</td>\n",
              "      <td>0</td>\n",
              "    </tr>\n",
              "    <tr>\n",
              "      <th>4</th>\n",
              "      <td>1283294187</td>\n",
              "      <td>91648MC</td>\n",
              "      <td>NY</td>\n",
              "      <td>COM</td>\n",
              "      <td>2013-08-08</td>\n",
              "      <td>41</td>\n",
              "      <td>TRLR</td>\n",
              "      <td>GMC</td>\n",
              "      <td>P</td>\n",
              "      <td>37240</td>\n",
              "      <td>...</td>\n",
              "      <td>E1</td>\n",
              "      <td>BBBBBBB</td>\n",
              "      <td>ALL</td>\n",
              "      <td>ALL</td>\n",
              "      <td>BR</td>\n",
              "      <td>2012.0</td>\n",
              "      <td>-</td>\n",
              "      <td>0.0</td>\n",
              "      <td>0</td>\n",
              "      <td>0</td>\n",
              "    </tr>\n",
              "  </tbody>\n",
              "</table>\n",
              "<p>5 rows × 37 columns</p>\n",
              "</div>\n",
              "      <button class=\"colab-df-convert\" onclick=\"convertToInteractive('df-86c156eb-2b8f-489c-b117-43ad4771ea5b')\"\n",
              "              title=\"Convert this dataframe to an interactive table.\"\n",
              "              style=\"display:none;\">\n",
              "        \n",
              "  <svg xmlns=\"http://www.w3.org/2000/svg\" height=\"24px\"viewBox=\"0 0 24 24\"\n",
              "       width=\"24px\">\n",
              "    <path d=\"M0 0h24v24H0V0z\" fill=\"none\"/>\n",
              "    <path d=\"M18.56 5.44l.94 2.06.94-2.06 2.06-.94-2.06-.94-.94-2.06-.94 2.06-2.06.94zm-11 1L8.5 8.5l.94-2.06 2.06-.94-2.06-.94L8.5 2.5l-.94 2.06-2.06.94zm10 10l.94 2.06.94-2.06 2.06-.94-2.06-.94-.94-2.06-.94 2.06-2.06.94z\"/><path d=\"M17.41 7.96l-1.37-1.37c-.4-.4-.92-.59-1.43-.59-.52 0-1.04.2-1.43.59L10.3 9.45l-7.72 7.72c-.78.78-.78 2.05 0 2.83L4 21.41c.39.39.9.59 1.41.59.51 0 1.02-.2 1.41-.59l7.78-7.78 2.81-2.81c.8-.78.8-2.07 0-2.86zM5.41 20L4 18.59l7.72-7.72 1.47 1.35L5.41 20z\"/>\n",
              "  </svg>\n",
              "      </button>\n",
              "      \n",
              "  <style>\n",
              "    .colab-df-container {\n",
              "      display:flex;\n",
              "      flex-wrap:wrap;\n",
              "      gap: 12px;\n",
              "    }\n",
              "\n",
              "    .colab-df-convert {\n",
              "      background-color: #E8F0FE;\n",
              "      border: none;\n",
              "      border-radius: 50%;\n",
              "      cursor: pointer;\n",
              "      display: none;\n",
              "      fill: #1967D2;\n",
              "      height: 32px;\n",
              "      padding: 0 0 0 0;\n",
              "      width: 32px;\n",
              "    }\n",
              "\n",
              "    .colab-df-convert:hover {\n",
              "      background-color: #E2EBFA;\n",
              "      box-shadow: 0px 1px 2px rgba(60, 64, 67, 0.3), 0px 1px 3px 1px rgba(60, 64, 67, 0.15);\n",
              "      fill: #174EA6;\n",
              "    }\n",
              "\n",
              "    [theme=dark] .colab-df-convert {\n",
              "      background-color: #3B4455;\n",
              "      fill: #D2E3FC;\n",
              "    }\n",
              "\n",
              "    [theme=dark] .colab-df-convert:hover {\n",
              "      background-color: #434B5C;\n",
              "      box-shadow: 0px 1px 3px 1px rgba(0, 0, 0, 0.15);\n",
              "      filter: drop-shadow(0px 1px 2px rgba(0, 0, 0, 0.3));\n",
              "      fill: #FFFFFF;\n",
              "    }\n",
              "  </style>\n",
              "\n",
              "      <script>\n",
              "        const buttonEl =\n",
              "          document.querySelector('#df-86c156eb-2b8f-489c-b117-43ad4771ea5b button.colab-df-convert');\n",
              "        buttonEl.style.display =\n",
              "          google.colab.kernel.accessAllowed ? 'block' : 'none';\n",
              "\n",
              "        async function convertToInteractive(key) {\n",
              "          const element = document.querySelector('#df-86c156eb-2b8f-489c-b117-43ad4771ea5b');\n",
              "          const dataTable =\n",
              "            await google.colab.kernel.invokeFunction('convertToInteractive',\n",
              "                                                     [key], {});\n",
              "          if (!dataTable) return;\n",
              "\n",
              "          const docLinkHtml = 'Like what you see? Visit the ' +\n",
              "            '<a target=\"_blank\" href=https://colab.research.google.com/notebooks/data_table.ipynb>data table notebook</a>'\n",
              "            + ' to learn more about interactive tables.';\n",
              "          element.innerHTML = '';\n",
              "          dataTable['output_type'] = 'display_data';\n",
              "          await google.colab.output.renderOutput(dataTable, element);\n",
              "          const docLink = document.createElement('div');\n",
              "          docLink.innerHTML = docLinkHtml;\n",
              "          element.appendChild(docLink);\n",
              "        }\n",
              "      </script>\n",
              "    </div>\n",
              "  </div>\n",
              "  "
            ]
          },
          "metadata": {},
          "execution_count": 33
        }
      ],
      "source": [
        "%%time\n",
        "dfdask.drop_duplicates(subset = ['Summons Number'], inplace = True)\n",
        "dfdask.head()\n"
      ]
    },
    {
      "cell_type": "markdown",
      "metadata": {
        "id": "ne9WH-XzO6AD"
      },
      "source": [
        "**2. PySpark**"
      ]
    },
    {
      "cell_type": "code",
      "execution_count": 34,
      "metadata": {
        "id": "dDxgs4VLN9HJ",
        "colab": {
          "base_uri": "https://localhost:8080/"
        },
        "outputId": "488c067b-b4db-45ee-8bcc-36725d01aff9"
      },
      "outputs": [
        {
          "output_type": "stream",
          "name": "stdout",
          "text": [
            "+--------------+--------+------------------+----------+----------+--------------+-----------------+------------+--------------+------------+------------+------------+-----------------------+------------------+------------------+---------------+-----------+--------------+------------+--------------+-------------------+----------------+---------------------------------+------------+-----------+-------------------+-------------------+-----------+------------+--------------------+--------------------------+--------------------+------------------+-------------+---------------------+------------+------------+--------------+-------------------+---------------------+---------------------------------+-----------------+------------------------+--------+---------+---------------+------------------+------------+----+----+----+\n",
            "|Summons Number|Plate ID|Registration State|Plate Type|Issue Date|Violation Code|Vehicle Body Type|Vehicle Make|Issuing Agency|Street Code1|Street Code2|Street Code3|Vehicle Expiration Date|Violation Location|Violation Precinct|Issuer Precinct|Issuer Code|Issuer Command|Issuer Squad|Violation Time|Time First Observed|Violation County|Violation In Front Of Or Opposite|House Number|Street Name|Intersecting Street|Date First Observed|Law Section|Sub Division|Violation Legal Code|Days Parking In Effect    |From Hours In Effect|To Hours In Effect|Vehicle Color|Unregistered Vehicle?|Vehicle Year|Meter Number|Feet From Curb|Violation Post Code|Violation Description|No Standing or Stopping Violation|Hydrant Violation|Double Parking Violation|Latitude|Longitude|Community Board|Community Council |Census Tract| BIN| BBL| NTA|\n",
            "+--------------+--------+------------------+----------+----------+--------------+-----------------+------------+--------------+------------+------------+------------+-----------------------+------------------+------------------+---------------+-----------+--------------+------------+--------------+-------------------+----------------+---------------------------------+------------+-----------+-------------------+-------------------+-----------+------------+--------------------+--------------------------+--------------------+------------------+-------------+---------------------+------------+------------+--------------+-------------------+---------------------+---------------------------------+-----------------+------------------------+--------+---------+---------------+------------------+------------+----+----+----+\n",
            "|    1283294138| GBB9093|                NY|       PAS|2013-04-08|            46|             SUBN|        AUDI|             P|       37250|       13610|       21190|               20140831|                33|                33|             33|     921043|          0033|        0000|         0752A|               null|            null|                                F|         712|   W 175 ST|               null|                  0|        408|          F1|                null|                   BBBBBBB|                 ALL|               ALL|           GY|                    0|        2013|           -|             0|               null|                 null|                             null|             null|                    null|    null|     null|           null|              null|        null|null|null|null|\n",
            "|    1283294151| 62416MB|                NY|       COM|2013-04-08|            46|              VAN|        FORD|             P|       37290|       40404|       40404|               20140430|                33|                33|             33|     921043|          0033|        0000|         1240P|               null|              NY|                                O|         201|   W 177 ST|               null|                  0|        408|           C|                null|                   BBBBBBB|                 ALL|               ALL|           WH|                    0|        2012|           -|             0|               null|                 null|                             null|             null|                    null|    null|     null|           null|              null|        null|null|null|null|\n",
            "|    1283294163| 78755JZ|                NY|       COM|2013-05-08|            46|              P-U|       CHEVR|             P|       37030|       31190|       13610|               20140228|                33|                33|             33|     921043|          0033|        0000|         1243P|               null|              NY|                                O|         520|   W 163 ST|               null|                  0|        408|          F7|                null|                   BBBBBBB|                 ALL|               ALL|         null|                    0|           0|           -|             0|               null|                 null|                             null|             null|                    null|    null|     null|           null|              null|        null|null|null|null|\n",
            "|    1283294175| 63009MA|                NY|       COM|2013-05-08|            46|              VAN|        FORD|             P|       37270|       11710|       12010|               20141031|                33|                33|             33|     921043|          0033|        0000|         0232P|               null|              NY|                                O|         517|   W 176 ST|               null|                  0|        408|          F1|                null|                   BBBBBBB|                 ALL|               ALL|           WH|                    0|        2010|           -|             0|               null|                 null|                             null|             null|                    null|    null|     null|           null|              null|        null|null|null|null|\n",
            "|    1283294187| 91648MC|                NY|       COM|2013-08-08|            41|             TRLR|         GMC|             P|       37240|       12010|       31190|                      0|                33|                33|             33|     921043|          0033|        0000|         1239P|               null|              NY|                                F|         590|   W 174 ST|               null|                  0|        408|          E1|                null|                   BBBBBBB|                 ALL|               ALL|           BR|                    0|        2012|           -|             0|               null|                 null|                             null|             null|                    null|    null|     null|           null|              null|        null|null|null|null|\n",
            "+--------------+--------+------------------+----------+----------+--------------+-----------------+------------+--------------+------------+------------+------------+-----------------------+------------------+------------------+---------------+-----------+--------------+------------+--------------+-------------------+----------------+---------------------------------+------------+-----------+-------------------+-------------------+-----------+------------+--------------------+--------------------------+--------------------+------------------+-------------+---------------------+------------+------------+--------------+-------------------+---------------------+---------------------------------+-----------------+------------------------+--------+---------+---------------+------------------+------------+----+----+----+\n",
            "only showing top 5 rows\n",
            "\n",
            "CPU times: user 774 µs, sys: 1.71 ms, total: 2.49 ms\n",
            "Wall time: 189 ms\n"
          ]
        }
      ],
      "source": [
        "#dfs.drop_duplicates(subset = ['Summons Number'], inplace = True)\n",
        "%%time\n",
        "dfs.dropDuplicates(['Summons Number'])\n",
        "dfs.show(5)"
      ]
    },
    {
      "cell_type": "markdown",
      "metadata": {
        "id": "Ku1er27V-Fqy"
      },
      "source": [
        "**3. Koalas**"
      ]
    },
    {
      "cell_type": "code",
      "execution_count": 35,
      "metadata": {
        "id": "vdVv4Hku-Cd_",
        "colab": {
          "base_uri": "https://localhost:8080/",
          "height": 453
        },
        "outputId": "158f78be-fd19-4976-8fd1-5f4881880c1b"
      },
      "outputs": [
        {
          "output_type": "stream",
          "name": "stdout",
          "text": [
            "CPU times: user 222 ms, sys: 34.7 ms, total: 256 ms\n",
            "Wall time: 1.44 s\n"
          ]
        },
        {
          "output_type": "execute_result",
          "data": {
            "text/plain": [
              "        Summons Number Plate ID Registration State Plate Type Issue Date  Violation Code Vehicle Body Type Vehicle Make Issuing Agency  Street Code1  Street Code2  Street Code3 Vehicle Expiration Date Violation Location  Violation Precinct  Issuer Precinct  Issuer Code Issuer Command Issuer Squad Violation Time Violation County Violation In Front Of Or Opposite House Number      Street Name Intersecting Street Date First Observed  Law Section Sub Division Days Parking In Effect     From Hours In Effect To Hours In Effect Vehicle Color  Vehicle Year Meter Number  Feet From Curb Violation Post Code           Violation Description\n",
              "84217      -1589820192   611YJS                 CT        PAS 2013-07-29              38              4DSD        HONDA              T         54580             0             0                20130088                109               109.0            109.0     355249.0           T401            P          0240P                Q                                 I            E          Main St  29ft N/of Peck Ave                   0        408.0           h1                          Y                0900A              0700P          GREY           0.0         None             0.0                03 -  38-Failure to Display Muni Rec\n",
              "84222      -1589820090  7AM9586                 MD        PAS 2013-07-30              38              SUBN        HONDA              T             0         40404         40404                20131188                109               109.0            109.0     356334.0           T401            M          0615A                Q                                 I         None  Flushing Lot #1                None                   0        408.0           h1                          Y                0600A              1000P          GREY           0.0         None             0.0                 A -  38-Failure to Display Muni Rec\n",
              "502091     -1589819695  24490MD                 NY        COM 2013-07-30              51               VAN        ISUZU              T          8140          8990          9140                20150228                114               114.0            114.0     356329.0           T401            O          0333P                Q                                 O        38-06          31st St                None                   0        408.0           e3                       None                 None               None            WH        2001.0         None             0.0                 D -                     51-Sidewalk\n",
              "502054     -1589819475  FHV4577                 NY        PAS 2013-07-31              74              SUBN        NISSA              T         18240          8190         57790                20150316                115               115.0            115.0     357084.0           T401            E          1014A                Q                                 F        32-45          90th St                None                   0        408.0           j2                       None                 None               None            BL        2008.0         None             0.0                16 -        74-Missing Display Plate\n",
              "502133     -1589819025  FXX6070                 NY        PAS 2013-08-01              20              SUBN          GMC              T         14740         58190         45490                20140515                104               104.0            104.0     357054.0           T401            K          1123A                Q                                 O        58-11         70th Ave                None                   0        408.0            d                          Y                0800A              0600P            GY        2003.0         None             0.0                62-A        20A-No Parking (Non-COM)"
            ],
            "text/html": [
              "<div>\n",
              "<style scoped>\n",
              "    .dataframe tbody tr th:only-of-type {\n",
              "        vertical-align: middle;\n",
              "    }\n",
              "\n",
              "    .dataframe tbody tr th {\n",
              "        vertical-align: top;\n",
              "    }\n",
              "\n",
              "    .dataframe thead th {\n",
              "        text-align: right;\n",
              "    }\n",
              "</style>\n",
              "<table border=\"1\" class=\"dataframe\">\n",
              "  <thead>\n",
              "    <tr style=\"text-align: right;\">\n",
              "      <th></th>\n",
              "      <th>Summons Number</th>\n",
              "      <th>Plate ID</th>\n",
              "      <th>Registration State</th>\n",
              "      <th>Plate Type</th>\n",
              "      <th>Issue Date</th>\n",
              "      <th>Violation Code</th>\n",
              "      <th>Vehicle Body Type</th>\n",
              "      <th>Vehicle Make</th>\n",
              "      <th>Issuing Agency</th>\n",
              "      <th>Street Code1</th>\n",
              "      <th>Street Code2</th>\n",
              "      <th>Street Code3</th>\n",
              "      <th>Vehicle Expiration Date</th>\n",
              "      <th>Violation Location</th>\n",
              "      <th>Violation Precinct</th>\n",
              "      <th>Issuer Precinct</th>\n",
              "      <th>Issuer Code</th>\n",
              "      <th>Issuer Command</th>\n",
              "      <th>Issuer Squad</th>\n",
              "      <th>Violation Time</th>\n",
              "      <th>Violation County</th>\n",
              "      <th>Violation In Front Of Or Opposite</th>\n",
              "      <th>House Number</th>\n",
              "      <th>Street Name</th>\n",
              "      <th>Intersecting Street</th>\n",
              "      <th>Date First Observed</th>\n",
              "      <th>Law Section</th>\n",
              "      <th>Sub Division</th>\n",
              "      <th>Days Parking In Effect</th>\n",
              "      <th>From Hours In Effect</th>\n",
              "      <th>To Hours In Effect</th>\n",
              "      <th>Vehicle Color</th>\n",
              "      <th>Vehicle Year</th>\n",
              "      <th>Meter Number</th>\n",
              "      <th>Feet From Curb</th>\n",
              "      <th>Violation Post Code</th>\n",
              "      <th>Violation Description</th>\n",
              "    </tr>\n",
              "  </thead>\n",
              "  <tbody>\n",
              "    <tr>\n",
              "      <th>84217</th>\n",
              "      <td>-1589820192</td>\n",
              "      <td>611YJS</td>\n",
              "      <td>CT</td>\n",
              "      <td>PAS</td>\n",
              "      <td>2013-07-29</td>\n",
              "      <td>38</td>\n",
              "      <td>4DSD</td>\n",
              "      <td>HONDA</td>\n",
              "      <td>T</td>\n",
              "      <td>54580</td>\n",
              "      <td>0</td>\n",
              "      <td>0</td>\n",
              "      <td>20130088</td>\n",
              "      <td>109</td>\n",
              "      <td>109.0</td>\n",
              "      <td>109.0</td>\n",
              "      <td>355249.0</td>\n",
              "      <td>T401</td>\n",
              "      <td>P</td>\n",
              "      <td>0240P</td>\n",
              "      <td>Q</td>\n",
              "      <td>I</td>\n",
              "      <td>E</td>\n",
              "      <td>Main St</td>\n",
              "      <td>29ft N/of Peck Ave</td>\n",
              "      <td>0</td>\n",
              "      <td>408.0</td>\n",
              "      <td>h1</td>\n",
              "      <td>Y</td>\n",
              "      <td>0900A</td>\n",
              "      <td>0700P</td>\n",
              "      <td>GREY</td>\n",
              "      <td>0.0</td>\n",
              "      <td>None</td>\n",
              "      <td>0.0</td>\n",
              "      <td>03 -</td>\n",
              "      <td>38-Failure to Display Muni Rec</td>\n",
              "    </tr>\n",
              "    <tr>\n",
              "      <th>84222</th>\n",
              "      <td>-1589820090</td>\n",
              "      <td>7AM9586</td>\n",
              "      <td>MD</td>\n",
              "      <td>PAS</td>\n",
              "      <td>2013-07-30</td>\n",
              "      <td>38</td>\n",
              "      <td>SUBN</td>\n",
              "      <td>HONDA</td>\n",
              "      <td>T</td>\n",
              "      <td>0</td>\n",
              "      <td>40404</td>\n",
              "      <td>40404</td>\n",
              "      <td>20131188</td>\n",
              "      <td>109</td>\n",
              "      <td>109.0</td>\n",
              "      <td>109.0</td>\n",
              "      <td>356334.0</td>\n",
              "      <td>T401</td>\n",
              "      <td>M</td>\n",
              "      <td>0615A</td>\n",
              "      <td>Q</td>\n",
              "      <td>I</td>\n",
              "      <td>None</td>\n",
              "      <td>Flushing Lot #1</td>\n",
              "      <td>None</td>\n",
              "      <td>0</td>\n",
              "      <td>408.0</td>\n",
              "      <td>h1</td>\n",
              "      <td>Y</td>\n",
              "      <td>0600A</td>\n",
              "      <td>1000P</td>\n",
              "      <td>GREY</td>\n",
              "      <td>0.0</td>\n",
              "      <td>None</td>\n",
              "      <td>0.0</td>\n",
              "      <td>A -</td>\n",
              "      <td>38-Failure to Display Muni Rec</td>\n",
              "    </tr>\n",
              "    <tr>\n",
              "      <th>502091</th>\n",
              "      <td>-1589819695</td>\n",
              "      <td>24490MD</td>\n",
              "      <td>NY</td>\n",
              "      <td>COM</td>\n",
              "      <td>2013-07-30</td>\n",
              "      <td>51</td>\n",
              "      <td>VAN</td>\n",
              "      <td>ISUZU</td>\n",
              "      <td>T</td>\n",
              "      <td>8140</td>\n",
              "      <td>8990</td>\n",
              "      <td>9140</td>\n",
              "      <td>20150228</td>\n",
              "      <td>114</td>\n",
              "      <td>114.0</td>\n",
              "      <td>114.0</td>\n",
              "      <td>356329.0</td>\n",
              "      <td>T401</td>\n",
              "      <td>O</td>\n",
              "      <td>0333P</td>\n",
              "      <td>Q</td>\n",
              "      <td>O</td>\n",
              "      <td>38-06</td>\n",
              "      <td>31st St</td>\n",
              "      <td>None</td>\n",
              "      <td>0</td>\n",
              "      <td>408.0</td>\n",
              "      <td>e3</td>\n",
              "      <td>None</td>\n",
              "      <td>None</td>\n",
              "      <td>None</td>\n",
              "      <td>WH</td>\n",
              "      <td>2001.0</td>\n",
              "      <td>None</td>\n",
              "      <td>0.0</td>\n",
              "      <td>D -</td>\n",
              "      <td>51-Sidewalk</td>\n",
              "    </tr>\n",
              "    <tr>\n",
              "      <th>502054</th>\n",
              "      <td>-1589819475</td>\n",
              "      <td>FHV4577</td>\n",
              "      <td>NY</td>\n",
              "      <td>PAS</td>\n",
              "      <td>2013-07-31</td>\n",
              "      <td>74</td>\n",
              "      <td>SUBN</td>\n",
              "      <td>NISSA</td>\n",
              "      <td>T</td>\n",
              "      <td>18240</td>\n",
              "      <td>8190</td>\n",
              "      <td>57790</td>\n",
              "      <td>20150316</td>\n",
              "      <td>115</td>\n",
              "      <td>115.0</td>\n",
              "      <td>115.0</td>\n",
              "      <td>357084.0</td>\n",
              "      <td>T401</td>\n",
              "      <td>E</td>\n",
              "      <td>1014A</td>\n",
              "      <td>Q</td>\n",
              "      <td>F</td>\n",
              "      <td>32-45</td>\n",
              "      <td>90th St</td>\n",
              "      <td>None</td>\n",
              "      <td>0</td>\n",
              "      <td>408.0</td>\n",
              "      <td>j2</td>\n",
              "      <td>None</td>\n",
              "      <td>None</td>\n",
              "      <td>None</td>\n",
              "      <td>BL</td>\n",
              "      <td>2008.0</td>\n",
              "      <td>None</td>\n",
              "      <td>0.0</td>\n",
              "      <td>16 -</td>\n",
              "      <td>74-Missing Display Plate</td>\n",
              "    </tr>\n",
              "    <tr>\n",
              "      <th>502133</th>\n",
              "      <td>-1589819025</td>\n",
              "      <td>FXX6070</td>\n",
              "      <td>NY</td>\n",
              "      <td>PAS</td>\n",
              "      <td>2013-08-01</td>\n",
              "      <td>20</td>\n",
              "      <td>SUBN</td>\n",
              "      <td>GMC</td>\n",
              "      <td>T</td>\n",
              "      <td>14740</td>\n",
              "      <td>58190</td>\n",
              "      <td>45490</td>\n",
              "      <td>20140515</td>\n",
              "      <td>104</td>\n",
              "      <td>104.0</td>\n",
              "      <td>104.0</td>\n",
              "      <td>357054.0</td>\n",
              "      <td>T401</td>\n",
              "      <td>K</td>\n",
              "      <td>1123A</td>\n",
              "      <td>Q</td>\n",
              "      <td>O</td>\n",
              "      <td>58-11</td>\n",
              "      <td>70th Ave</td>\n",
              "      <td>None</td>\n",
              "      <td>0</td>\n",
              "      <td>408.0</td>\n",
              "      <td>d</td>\n",
              "      <td>Y</td>\n",
              "      <td>0800A</td>\n",
              "      <td>0600P</td>\n",
              "      <td>GY</td>\n",
              "      <td>2003.0</td>\n",
              "      <td>None</td>\n",
              "      <td>0.0</td>\n",
              "      <td>62-A</td>\n",
              "      <td>20A-No Parking (Non-COM)</td>\n",
              "    </tr>\n",
              "  </tbody>\n",
              "</table>\n",
              "</div>"
            ]
          },
          "metadata": {},
          "execution_count": 35
        }
      ],
      "source": [
        "%%time\n",
        "dfk.drop_duplicates(subset = ['Summons Number'], inplace = True)\n",
        "dfk.head()\n"
      ]
    },
    {
      "cell_type": "markdown",
      "source": [
        "Findings ▶\n",
        "\n",
        "In order to remove or drop duplicate values Dask and Koalas use the same method which is dataframe.drop_duplicates() while PySpark uses dataframe.dropDuplicates(). For this operation, PySpark is the fastest library which took 273ms.\n",
        "\n",
        "Dask 🕔\n",
        "Dask took 2.33s to remove the duplicates value of Summons Number and is the second fastest after PySpark.\n",
        "\n",
        "PySpark 🕔\n",
        "PySpark is the fastest compared to Dask and Koalas with only 273ms to remove duplicate values of Summons Number .\n",
        "\n",
        "Koalas 🕔\n",
        "Koalas remain as the slowest library that took 12.55s to remove duplicate values of Summons Number ."
      ],
      "metadata": {
        "id": "UgL1icYGIqH_"
      }
    },
    {
      "cell_type": "markdown",
      "metadata": {
        "id": "k4R8HM5oUG51"
      },
      "source": [
        "# **Visualization**\n",
        "\n"
      ]
    },
    {
      "cell_type": "markdown",
      "metadata": {
        "id": "L1fkwPli4Vkw"
      },
      "source": [
        "**PySpark**"
      ]
    },
    {
      "cell_type": "code",
      "source": [
        "import matplotlib.pyplot as plt"
      ],
      "metadata": {
        "id": "xT2QTFCDEaps"
      },
      "execution_count": 36,
      "outputs": []
    },
    {
      "cell_type": "code",
      "source": [
        "def pieplot(dfs, col, lim=10, yname=None):\n",
        "    \n",
        "    '''\n",
        "    This function makes a pie chart for the Spark dataframe df \n",
        "    for categorical column col only selecting top categories \n",
        "    as specified by lim. \n",
        "    '''\n",
        "    \n",
        "    # Grouping by the categories, counting on each categories \n",
        "    # and ordering them by the count\n",
        "    classes = dfs.groupBy(col).count().orderBy('count', ascending=False)\n",
        "    \n",
        "    # Take first 'lim' number of rows and convert to pandas  \n",
        "    pd_df = classes.limit(lim).toPandas()\n",
        "    \n",
        "    # Making plot \n",
        "    pd_df.plot(kind='pie', x=col, y='count', \\\n",
        "           labels=pd_df[col], legend=False)\n",
        "    plt.ylabel(None)\n",
        "    plt.show()"
      ],
      "metadata": {
        "id": "WzeMrnLbDAHl"
      },
      "execution_count": 37,
      "outputs": []
    },
    {
      "cell_type": "code",
      "source": [
        "%%time\n",
        "pieplot(dfs, 'Vehicle Make')\n"
      ],
      "metadata": {
        "id": "7aUfHVYhEDHW",
        "colab": {
          "base_uri": "https://localhost:8080/",
          "height": 284
        },
        "outputId": "3979a3d8-096a-4b1c-d28e-845705cd7036"
      },
      "execution_count": 38,
      "outputs": [
        {
          "output_type": "display_data",
          "data": {
            "text/plain": [
              "<Figure size 432x288 with 1 Axes>"
            ],
            "image/png": "[encoded data removed]"
          },
          "metadata": {}
        },
        {
          "output_type": "stream",
          "name": "stdout",
          "text": [
            "CPU times: user 252 ms, sys: 18.4 ms, total: 270 ms\n",
            "Wall time: 24.1 s\n"
          ]
        }
      ]
    },
    {
      "cell_type": "code",
      "execution_count": 39,
      "metadata": {
        "id": "V6-6BrCd4TmM"
      },
      "outputs": [],
      "source": [
        "def lineplot(dfs, x, y, measure='count'):\n",
        "    \n",
        "    '''\n",
        "    This function makes a line plot from Spark dataframe df with \n",
        "    independent variable x and averaged over y.\n",
        "    '''\n",
        "    \n",
        "    if measure == 'mean':\n",
        "        \n",
        "        # Grouping the dataframe by x and averaging over y\n",
        "        # Sorting is important because Spark shuffle the values \n",
        "        # when doing the calculation\n",
        "        \n",
        "        pd_df = dfs.groupBy(x).mean(y).toPandas().sort_values(by=x)\n",
        "        \n",
        "        # Making plot using pandas \n",
        "        pd_df.plot(x, 'avg({})'.format(y), legend=False)\n",
        "        \n",
        "    elif measure == 'total':\n",
        "        pd_df = dfs.groupBy(x).sum(y).toPandas().sort_values(by=x)\n",
        "        pd_df.plot(x, 'sum({})'.format(y), legend=False)\n",
        "        \n",
        "    elif measure == 'count':\n",
        "        pd_df = dfs.groupBy(x).count().toPandas().sort_values(by=x)\n",
        "        pd_df.plot(x, 'count', legend=False)\n",
        "    \n",
        "    plt.ylabel('Plate Type Count')\n",
        "    plt.show()"
      ]
    },
    {
      "cell_type": "code",
      "source": [
        "%%time\n",
        "lineplot(dfs, 'Vehicle Body Type', 'Plate Type', measure='count')"
      ],
      "metadata": {
        "id": "pJTEQ21MIZN0",
        "colab": {
          "base_uri": "https://localhost:8080/",
          "height": 326
        },
        "outputId": "62768a0f-b544-4423-fb6d-2a28195bde30"
      },
      "execution_count": 40,
      "outputs": [
        {
          "output_type": "display_data",
          "data": {
            "text/plain": [
              "<Figure size 432x288 with 1 Axes>"
            ],
            "image/png": "[encoded data removed]"
          },
          "metadata": {
            "needs_background": "light"
          }
        },
        {
          "output_type": "stream",
          "name": "stdout",
          "text": [
            "CPU times: user 178 ms, sys: 11.6 ms, total: 189 ms\n",
            "Wall time: 14.6 s\n"
          ]
        }
      ]
    },
    {
      "cell_type": "code",
      "source": [
        "def barplot(dfs, col, lim=10, yname=None):\n",
        "    \n",
        "    '''\n",
        "    This function makes a bar plot for the Spark dataframe df \n",
        "    for categorical column col only selecting top categories \n",
        "    as specified by lim. \n",
        "    '''\n",
        "    \n",
        "    # Grouping by the categories, counting on each categories \n",
        "    # and ordering them by the count\n",
        "    classes = dfs.groupBy(col).count().orderBy('count', ascending=False)\n",
        "    \n",
        "    # Take first 'lim' number of rows and convert to pandas  \n",
        "    pd_df = classes.limit(lim).toPandas()\n",
        "    \n",
        "    # Making plot \n",
        "    pd_df.plot(kind='bar', x=col, legend=False)\n",
        "    plt.ylabel(yname)\n",
        "    plt.show()"
      ],
      "metadata": {
        "id": "d8bxsDFoKi7d"
      },
      "execution_count": 41,
      "outputs": []
    },
    {
      "cell_type": "code",
      "source": [
        "%%time\n",
        "barplot(dfs, 'Vehicle Body Type', lim=20, yname=' Body Type Count')\n"
      ],
      "metadata": {
        "id": "57zFvyqLKiqt",
        "colab": {
          "base_uri": "https://localhost:8080/",
          "height": 348
        },
        "outputId": "967e3125-49ec-4a55-d8b9-b5dcb4d0e4d1"
      },
      "execution_count": 42,
      "outputs": [
        {
          "output_type": "display_data",
          "data": {
            "text/plain": [
              "<Figure size 432x288 with 1 Axes>"
            ],
            "image/png": "[encoded data removed]"
          },
          "metadata": {
            "needs_background": "light"
          }
        },
        {
          "output_type": "stream",
          "name": "stdout",
          "text": [
            "CPU times: user 244 ms, sys: 7.76 ms, total: 252 ms\n",
            "Wall time: 14.2 s\n"
          ]
        }
      ]
    },
    {
      "cell_type": "markdown",
      "metadata": {
        "id": "l3kBH1wi4vk_"
      },
      "source": [
        "**Dask**"
      ]
    },
    {
      "cell_type": "code",
      "source": [
        "\n",
        "import matplotlib.pyplot as plt\n",
        "import dask.delayed as delayed\n",
        "from dask.distributed import Client"
      ],
      "metadata": {
        "id": "YV3jfkbFNdc1"
      },
      "execution_count": 43,
      "outputs": []
    },
    {
      "cell_type": "code",
      "source": [
        "%%time\n",
        "# client = Client()\n",
        "\n",
        "# val_c1 = dfdask['Vehicle Make'].value_counts().compute()\n",
        "\n",
        "# # Plot the value counts as a pie chart\n",
        "# delayed(val_c1.plot.pie())\n",
        "     \n",
        "dfdask['Vehicle Make'].value_counts().compute()[:10].plot.pie()"
      ],
      "metadata": {
        "colab": {
          "base_uri": "https://localhost:8080/",
          "height": 302
        },
        "id": "6_joAl0fmAv4",
        "outputId": "f803ca4a-29e4-4d49-8b39-981ebbac0c84"
      },
      "execution_count": 59,
      "outputs": [
        {
          "output_type": "stream",
          "name": "stdout",
          "text": [
            "CPU times: user 54 s, sys: 858 ms, total: 54.8 s\n",
            "Wall time: 47.6 s\n"
          ]
        },
        {
          "output_type": "execute_result",
          "data": {
            "text/plain": [
              "<matplotlib.axes._subplots.AxesSubplot at 0x7f6d1c085af0>"
            ]
          },
          "metadata": {},
          "execution_count": 59
        },
        {
          "output_type": "display_data",
          "data": {
            "text/plain": [
              "<Figure size 432x288 with 1 Axes>"
            ],
            "image/png": "[encoded data removed]"
          },
          "metadata": {}
        }
      ]
    },
    {
      "cell_type": "code",
      "source": [
        "%%time\n",
        "# Plot the value counts as a bar chart\n",
        "dfdask['Vehicle Body Type'].value_counts().compute()[:20].plot.bar()\n",
        "plt.xlabel(\"Vehicle Body Type\")     \n",
        "plt.ylabel(\"Count\")"
      ],
      "metadata": {
        "id": "-npQMhbf5bMu",
        "colab": {
          "base_uri": "https://localhost:8080/",
          "height": 366
        },
        "outputId": "e0bee40b-f830-4831-96e2-9b293eb3011c"
      },
      "execution_count": 60,
      "outputs": [
        {
          "output_type": "stream",
          "name": "stdout",
          "text": [
            "CPU times: user 53.5 s, sys: 930 ms, total: 54.4 s\n",
            "Wall time: 42.6 s\n"
          ]
        },
        {
          "output_type": "execute_result",
          "data": {
            "text/plain": [
              "Text(0, 0.5, 'Count')"
            ]
          },
          "metadata": {},
          "execution_count": 60
        },
        {
          "output_type": "display_data",
          "data": {
            "text/plain": [
              "<Figure size 432x288 with 1 Axes>"
            ],
            "image/png": "[encoded data removed]"
          },
          "metadata": {
            "needs_background": "light"
          }
        }
      ]
    },
    {
      "cell_type": "markdown",
      "metadata": {
        "id": "Hhnxx_N-40VG"
      },
      "source": [
        "### **Koalas**"
      ]
    },
    {
      "cell_type": "code",
      "execution_count": 64,
      "metadata": {
        "id": "qqCu-ay84Ufe",
        "colab": {
          "base_uri": "https://localhost:8080/",
          "height": 744
        },
        "outputId": "eff7ba6e-6863-45d2-e87d-087ea2538514"
      },
      "outputs": [
        {
          "output_type": "stream",
          "name": "stderr",
          "text": [
            "/usr/local/lib/python3.8/dist-packages/pyspark/sql/dataframe.py:148: UserWarning:\n",
            "\n",
            "DataFrame.sql_ctx is an internal property, and will be removed in future releases. Use DataFrame.sparkSession instead.\n",
            "\n",
            "/usr/local/lib/python3.8/dist-packages/pyspark/sql/dataframe.py:127: UserWarning:\n",
            "\n",
            "DataFrame constructor is internal. Do not directly use it.\n",
            "\n"
          ]
        },
        {
          "output_type": "stream",
          "name": "stdout",
          "text": [
            "CPU times: user 255 ms, sys: 22.7 ms, total: 277 ms\n",
            "Wall time: 28.2 s\n"
          ]
        },
        {
          "output_type": "display_data",
          "data": {
            "text/html": [
              "<html>\n",
              "<head><meta charset=\"utf-8\" /></head>\n",
              "<body>\n",
              "    <div>            <script src=\"https://cdnjs.cloudflare.com/ajax/libs/mathjax/2.7.5/MathJax.js?config=TeX-AMS-MML_SVG\"></script><script type=\"text/javascript\">if (window.MathJax) {MathJax.Hub.Config({SVG: {font: \"STIX-Web\"}});}</script>                <script type=\"text/javascript\">window.PlotlyConfig = {MathJaxConfig: 'local'};</script>\n",
              "        <script src=\"https://cdn.plot.ly/plotly-2.8.3.min.js\"></script>                <div id=\"11d9fe02-0c20-4eb0-8640-09ac6c8cf739\" class=\"plotly-graph-div\" style=\"height:525px; width:100%;\"></div>            <script type=\"text/javascript\">                                    window.PLOTLYENV=window.PLOTLYENV || {};                                    if (document.getElementById(\"11d9fe02-0c20-4eb0-8640-09ac6c8cf739\")) {                    Plotly.newPlot(                        \"11d9fe02-0c20-4eb0-8640-09ac6c8cf739\",                        [{\"domain\":{\"x\":[0.0,1.0],\"y\":[0.0,1.0]},\"hovertemplate\":\"index=%{label}<br>Vehicle Make=%{value}<extra></extra>\",\"labels\":[\"FORD\",\"TOYOT\",\"HONDA\",\"CHEVR\",\"NISSA\",\"DODGE\",\"GMC\",\"ME/BE\",\"FRUEH\",\"INTER\"],\"legendgroup\":\"\",\"name\":\"\",\"showlegend\":true,\"values\":[1248622,878786,810460,743556,655276,316499,313671,299845,289634,277444],\"type\":\"pie\"}],                        {\"template\":{\"data\":{\"bar\":[{\"error_x\":{\"color\":\"#2a3f5f\"},\"error_y\":{\"color\":\"#2a3f5f\"},\"marker\":{\"line\":{\"color\":\"#E5ECF6\",\"width\":0.5},\"pattern\":{\"fillmode\":\"overlay\",\"size\":10,\"solidity\":0.2}},\"type\":\"bar\"}],\"barpolar\":[{\"marker\":{\"line\":{\"color\":\"#E5ECF6\",\"width\":0.5},\"pattern\":{\"fillmode\":\"overlay\",\"size\":10,\"solidity\":0.2}},\"type\":\"barpolar\"}],\"carpet\":[{\"aaxis\":{\"endlinecolor\":\"#2a3f5f\",\"gridcolor\":\"white\",\"linecolor\":\"white\",\"minorgridcolor\":\"white\",\"startlinecolor\":\"#2a3f5f\"},\"baxis\":{\"endlinecolor\":\"#2a3f5f\",\"gridcolor\":\"white\",\"linecolor\":\"white\",\"minorgridcolor\":\"white\",\"startlinecolor\":\"#2a3f5f\"},\"type\":\"carpet\"}],\"choropleth\":[{\"colorbar\":{\"outlinewidth\":0,\"ticks\":\"\"},\"type\":\"choropleth\"}],\"contour\":[{\"colorbar\":{\"outlinewidth\":0,\"ticks\":\"\"},\"colorscale\":[[0.0,\"#0d0887\"],[0.1111111111111111,\"#46039f\"],[0.2222222222222222,\"#7201a8\"],[0.3333333333333333,\"#9c179e\"],[0.4444444444444444,\"#bd3786\"],[0.5555555555555556,\"#d8576b\"],[0.6666666666666666,\"#ed7953\"],[0.7777777777777778,\"#fb9f3a\"],[0.8888888888888888,\"#fdca26\"],[1.0,\"#f0f921\"]],\"type\":\"contour\"}],\"contourcarpet\":[{\"colorbar\":{\"outlinewidth\":0,\"ticks\":\"\"},\"type\":\"contourcarpet\"}],\"heatmap\":[{\"colorbar\":{\"outlinewidth\":0,\"ticks\":\"\"},\"colorscale\":[[0.0,\"#0d0887\"],[0.1111111111111111,\"#46039f\"],[0.2222222222222222,\"#7201a8\"],[0.3333333333333333,\"#9c179e\"],[0.4444444444444444,\"#bd3786\"],[0.5555555555555556,\"#d8576b\"],[0.6666666666666666,\"#ed7953\"],[0.7777777777777778,\"#fb9f3a\"],[0.8888888888888888,\"#fdca26\"],[1.0,\"#f0f921\"]],\"type\":\"heatmap\"}],\"heatmapgl\":[{\"colorbar\":{\"outlinewidth\":0,\"ticks\":\"\"},\"colorscale\":[[0.0,\"#0d0887\"],[0.1111111111111111,\"#46039f\"],[0.2222222222222222,\"#7201a8\"],[0.3333333333333333,\"#9c179e\"],[0.4444444444444444,\"#bd3786\"],[0.5555555555555556,\"#d8576b\"],[0.6666666666666666,\"#ed7953\"],[0.7777777777777778,\"#fb9f3a\"],[0.8888888888888888,\"#fdca26\"],[1.0,\"#f0f921\"]],\"type\":\"heatmapgl\"}],\"histogram\":[{\"marker\":{\"pattern\":{\"fillmode\":\"overlay\",\"size\":10,\"solidity\":0.2}},\"type\":\"histogram\"}],\"histogram2d\":[{\"colorbar\":{\"outlinewidth\":0,\"ticks\":\"\"},\"colorscale\":[[0.0,\"#0d0887\"],[0.1111111111111111,\"#46039f\"],[0.2222222222222222,\"#7201a8\"],[0.3333333333333333,\"#9c179e\"],[0.4444444444444444,\"#bd3786\"],[0.5555555555555556,\"#d8576b\"],[0.6666666666666666,\"#ed7953\"],[0.7777777777777778,\"#fb9f3a\"],[0.8888888888888888,\"#fdca26\"],[1.0,\"#f0f921\"]],\"type\":\"histogram2d\"}],\"histogram2dcontour\":[{\"colorbar\":{\"outlinewidth\":0,\"ticks\":\"\"},\"colorscale\":[[0.0,\"#0d0887\"],[0.1111111111111111,\"#46039f\"],[0.2222222222222222,\"#7201a8\"],[0.3333333333333333,\"#9c179e\"],[0.4444444444444444,\"#bd3786\"],[0.5555555555555556,\"#d8576b\"],[0.6666666666666666,\"#ed7953\"],[0.7777777777777778,\"#fb9f3a\"],[0.8888888888888888,\"#fdca26\"],[1.0,\"#f0f921\"]],\"type\":\"histogram2dcontour\"}],\"mesh3d\":[{\"colorbar\":{\"outlinewidth\":0,\"ticks\":\"\"},\"type\":\"mesh3d\"}],\"parcoords\":[{\"line\":{\"colorbar\":{\"outlinewidth\":0,\"ticks\":\"\"}},\"type\":\"parcoords\"}],\"pie\":[{\"automargin\":true,\"type\":\"pie\"}],\"scatter\":[{\"marker\":{\"colorbar\":{\"outlinewidth\":0,\"ticks\":\"\"}},\"type\":\"scatter\"}],\"scatter3d\":[{\"line\":{\"colorbar\":{\"outlinewidth\":0,\"ticks\":\"\"}},\"marker\":{\"colorbar\":{\"outlinewidth\":0,\"ticks\":\"\"}},\"type\":\"scatter3d\"}],\"scattercarpet\":[{\"marker\":{\"colorbar\":{\"outlinewidth\":0,\"ticks\":\"\"}},\"type\":\"scattercarpet\"}],\"scattergeo\":[{\"marker\":{\"colorbar\":{\"outlinewidth\":0,\"ticks\":\"\"}},\"type\":\"scattergeo\"}],\"scattergl\":[{\"marker\":{\"colorbar\":{\"outlinewidth\":0,\"ticks\":\"\"}},\"type\":\"scattergl\"}],\"scattermapbox\":[{\"marker\":{\"colorbar\":{\"outlinewidth\":0,\"ticks\":\"\"}},\"type\":\"scattermapbox\"}],\"scatterpolar\":[{\"marker\":{\"colorbar\":{\"outlinewidth\":0,\"ticks\":\"\"}},\"type\":\"scatterpolar\"}],\"scatterpolargl\":[{\"marker\":{\"colorbar\":{\"outlinewidth\":0,\"ticks\":\"\"}},\"type\":\"scatterpolargl\"}],\"scatterternary\":[{\"marker\":{\"colorbar\":{\"outlinewidth\":0,\"ticks\":\"\"}},\"type\":\"scatterternary\"}],\"surface\":[{\"colorbar\":{\"outlinewidth\":0,\"ticks\":\"\"},\"colorscale\":[[0.0,\"#0d0887\"],[0.1111111111111111,\"#46039f\"],[0.2222222222222222,\"#7201a8\"],[0.3333333333333333,\"#9c179e\"],[0.4444444444444444,\"#bd3786\"],[0.5555555555555556,\"#d8576b\"],[0.6666666666666666,\"#ed7953\"],[0.7777777777777778,\"#fb9f3a\"],[0.8888888888888888,\"#fdca26\"],[1.0,\"#f0f921\"]],\"type\":\"surface\"}],\"table\":[{\"cells\":{\"fill\":{\"color\":\"#EBF0F8\"},\"line\":{\"color\":\"white\"}},\"header\":{\"fill\":{\"color\":\"#C8D4E3\"},\"line\":{\"color\":\"white\"}},\"type\":\"table\"}]},\"layout\":{\"annotationdefaults\":{\"arrowcolor\":\"#2a3f5f\",\"arrowhead\":0,\"arrowwidth\":1},\"autotypenumbers\":\"strict\",\"coloraxis\":{\"colorbar\":{\"outlinewidth\":0,\"ticks\":\"\"}},\"colorscale\":{\"diverging\":[[0,\"#8e0152\"],[0.1,\"#c51b7d\"],[0.2,\"#de77ae\"],[0.3,\"#f1b6da\"],[0.4,\"#fde0ef\"],[0.5,\"#f7f7f7\"],[0.6,\"#e6f5d0\"],[0.7,\"#b8e186\"],[0.8,\"#7fbc41\"],[0.9,\"#4d9221\"],[1,\"#276419\"]],\"sequential\":[[0.0,\"#0d0887\"],[0.1111111111111111,\"#46039f\"],[0.2222222222222222,\"#7201a8\"],[0.3333333333333333,\"#9c179e\"],[0.4444444444444444,\"#bd3786\"],[0.5555555555555556,\"#d8576b\"],[0.6666666666666666,\"#ed7953\"],[0.7777777777777778,\"#fb9f3a\"],[0.8888888888888888,\"#fdca26\"],[1.0,\"#f0f921\"]],\"sequentialminus\":[[0.0,\"#0d0887\"],[0.1111111111111111,\"#46039f\"],[0.2222222222222222,\"#7201a8\"],[0.3333333333333333,\"#9c179e\"],[0.4444444444444444,\"#bd3786\"],[0.5555555555555556,\"#d8576b\"],[0.6666666666666666,\"#ed7953\"],[0.7777777777777778,\"#fb9f3a\"],[0.8888888888888888,\"#fdca26\"],[1.0,\"#f0f921\"]]},\"colorway\":[\"#636efa\",\"#EF553B\",\"#00cc96\",\"#ab63fa\",\"#FFA15A\",\"#19d3f3\",\"#FF6692\",\"#B6E880\",\"#FF97FF\",\"#FECB52\"],\"font\":{\"color\":\"#2a3f5f\"},\"geo\":{\"bgcolor\":\"white\",\"lakecolor\":\"white\",\"landcolor\":\"#E5ECF6\",\"showlakes\":true,\"showland\":true,\"subunitcolor\":\"white\"},\"hoverlabel\":{\"align\":\"left\"},\"hovermode\":\"closest\",\"mapbox\":{\"style\":\"light\"},\"paper_bgcolor\":\"white\",\"plot_bgcolor\":\"#E5ECF6\",\"polar\":{\"angularaxis\":{\"gridcolor\":\"white\",\"linecolor\":\"white\",\"ticks\":\"\"},\"bgcolor\":\"#E5ECF6\",\"radialaxis\":{\"gridcolor\":\"white\",\"linecolor\":\"white\",\"ticks\":\"\"}},\"scene\":{\"xaxis\":{\"backgroundcolor\":\"#E5ECF6\",\"gridcolor\":\"white\",\"gridwidth\":2,\"linecolor\":\"white\",\"showbackground\":true,\"ticks\":\"\",\"zerolinecolor\":\"white\"},\"yaxis\":{\"backgroundcolor\":\"#E5ECF6\",\"gridcolor\":\"white\",\"gridwidth\":2,\"linecolor\":\"white\",\"showbackground\":true,\"ticks\":\"\",\"zerolinecolor\":\"white\"},\"zaxis\":{\"backgroundcolor\":\"#E5ECF6\",\"gridcolor\":\"white\",\"gridwidth\":2,\"linecolor\":\"white\",\"showbackground\":true,\"ticks\":\"\",\"zerolinecolor\":\"white\"}},\"shapedefaults\":{\"line\":{\"color\":\"#2a3f5f\"}},\"ternary\":{\"aaxis\":{\"gridcolor\":\"white\",\"linecolor\":\"white\",\"ticks\":\"\"},\"baxis\":{\"gridcolor\":\"white\",\"linecolor\":\"white\",\"ticks\":\"\"},\"bgcolor\":\"#E5ECF6\",\"caxis\":{\"gridcolor\":\"white\",\"linecolor\":\"white\",\"ticks\":\"\"}},\"title\":{\"x\":0.05},\"xaxis\":{\"automargin\":true,\"gridcolor\":\"white\",\"linecolor\":\"white\",\"ticks\":\"\",\"title\":{\"standoff\":15},\"zerolinecolor\":\"white\",\"zerolinewidth\":2},\"yaxis\":{\"automargin\":true,\"gridcolor\":\"white\",\"linecolor\":\"white\",\"ticks\":\"\",\"title\":{\"standoff\":15},\"zerolinecolor\":\"white\",\"zerolinewidth\":2}}},\"legend\":{\"tracegroupgap\":0},\"margin\":{\"t\":60}},                        {\"responsive\": true}                    ).then(function(){\n",
              "                            \n",
              "var gd = document.getElementById('11d9fe02-0c20-4eb0-8640-09ac6c8cf739');\n",
              "var x = new MutationObserver(function (mutations, observer) {{\n",
              "        var display = window.getComputedStyle(gd).display;\n",
              "        if (!display || display === 'none') {{\n",
              "            console.log([gd, 'removed!']);\n",
              "            Plotly.purge(gd);\n",
              "            observer.disconnect();\n",
              "        }}\n",
              "}});\n",
              "\n",
              "// Listen for the removal of the full notebook cells\n",
              "var notebookContainer = gd.closest('#notebook-container');\n",
              "if (notebookContainer) {{\n",
              "    x.observe(notebookContainer, {childList: true});\n",
              "}}\n",
              "\n",
              "// Listen for the clearing of the current output cell\n",
              "var outputEl = gd.closest('.output');\n",
              "if (outputEl) {{\n",
              "    x.observe(outputEl, {childList: true});\n",
              "}}\n",
              "\n",
              "                        })                };                            </script>        </div>\n",
              "</body>\n",
              "</html>"
            ]
          },
          "metadata": {}
        }
      ],
      "source": [
        "import matplotlib.pyplot as plt\n",
        "%time dfk['Vehicle Make'].value_counts()[:10].plot.pie()"
      ]
    },
    {
      "cell_type": "code",
      "execution_count": 65,
      "metadata": {
        "id": "23xQ4v9c4UnQ",
        "colab": {
          "base_uri": "https://localhost:8080/",
          "height": 744
        },
        "outputId": "f4ec51a2-2dc9-4377-a350-878567a3de53"
      },
      "outputs": [
        {
          "output_type": "stream",
          "name": "stderr",
          "text": [
            "/usr/local/lib/python3.8/dist-packages/pyspark/sql/dataframe.py:148: UserWarning:\n",
            "\n",
            "DataFrame.sql_ctx is an internal property, and will be removed in future releases. Use DataFrame.sparkSession instead.\n",
            "\n",
            "/usr/local/lib/python3.8/dist-packages/pyspark/sql/dataframe.py:127: UserWarning:\n",
            "\n",
            "DataFrame constructor is internal. Do not directly use it.\n",
            "\n"
          ]
        },
        {
          "output_type": "stream",
          "name": "stdout",
          "text": [
            "CPU times: user 282 ms, sys: 33.1 ms, total: 315 ms\n",
            "Wall time: 30.1 s\n"
          ]
        },
        {
          "output_type": "display_data",
          "data": {
            "text/html": [
              "<html>\n",
              "<head><meta charset=\"utf-8\" /></head>\n",
              "<body>\n",
              "    <div>            <script src=\"https://cdnjs.cloudflare.com/ajax/libs/mathjax/2.7.5/MathJax.js?config=TeX-AMS-MML_SVG\"></script><script type=\"text/javascript\">if (window.MathJax) {MathJax.Hub.Config({SVG: {font: \"STIX-Web\"}});}</script>                <script type=\"text/javascript\">window.PlotlyConfig = {MathJaxConfig: 'local'};</script>\n",
              "        <script src=\"https://cdn.plot.ly/plotly-2.8.3.min.js\"></script>                <div id=\"3cab2b84-513d-4552-b195-c1a4b1ebc41b\" class=\"plotly-graph-div\" style=\"height:525px; width:100%;\"></div>            <script type=\"text/javascript\">                                    window.PLOTLYENV=window.PLOTLYENV || {};                                    if (document.getElementById(\"3cab2b84-513d-4552-b195-c1a4b1ebc41b\")) {                    Plotly.newPlot(                        \"3cab2b84-513d-4552-b195-c1a4b1ebc41b\",                        [{\"alignmentgroup\":\"True\",\"hovertemplate\":\"variable=Vehicle Body Type<br>index=%{x}<br>value=%{y}<extra></extra>\",\"legendgroup\":\"Vehicle Body Type\",\"marker\":{\"color\":\"#636efa\",\"pattern\":{\"shape\":\"\"}},\"name\":\"Vehicle Body Type\",\"offsetgroup\":\"Vehicle Body Type\",\"orientation\":\"v\",\"showlegend\":true,\"textposition\":\"auto\",\"x\":[\"SUBN\",\"4DSD\",\"VAN\",\"DELV\",\"SDN\",\"2DSD\",\"PICK\",\"None\",\"UTIL\",\"REFG\",\"TRAC\",\"TRLR\",\"TAXI\",\"BUS\",\"CONV\",\"MCY\",\"P-U\",\"4 DR\",\"FLAT\",\"WAGO\"],\"xaxis\":\"x\",\"y\":[2797693,2513584,1384393,730526,441801,255204,226120,110868,78454,64904,62699,55643,50946,43382,41714,28976,24036,20630,12894,11936],\"yaxis\":\"y\",\"type\":\"bar\"}],                        {\"template\":{\"data\":{\"bar\":[{\"error_x\":{\"color\":\"#2a3f5f\"},\"error_y\":{\"color\":\"#2a3f5f\"},\"marker\":{\"line\":{\"color\":\"#E5ECF6\",\"width\":0.5},\"pattern\":{\"fillmode\":\"overlay\",\"size\":10,\"solidity\":0.2}},\"type\":\"bar\"}],\"barpolar\":[{\"marker\":{\"line\":{\"color\":\"#E5ECF6\",\"width\":0.5},\"pattern\":{\"fillmode\":\"overlay\",\"size\":10,\"solidity\":0.2}},\"type\":\"barpolar\"}],\"carpet\":[{\"aaxis\":{\"endlinecolor\":\"#2a3f5f\",\"gridcolor\":\"white\",\"linecolor\":\"white\",\"minorgridcolor\":\"white\",\"startlinecolor\":\"#2a3f5f\"},\"baxis\":{\"endlinecolor\":\"#2a3f5f\",\"gridcolor\":\"white\",\"linecolor\":\"white\",\"minorgridcolor\":\"white\",\"startlinecolor\":\"#2a3f5f\"},\"type\":\"carpet\"}],\"choropleth\":[{\"colorbar\":{\"outlinewidth\":0,\"ticks\":\"\"},\"type\":\"choropleth\"}],\"contour\":[{\"colorbar\":{\"outlinewidth\":0,\"ticks\":\"\"},\"colorscale\":[[0.0,\"#0d0887\"],[0.1111111111111111,\"#46039f\"],[0.2222222222222222,\"#7201a8\"],[0.3333333333333333,\"#9c179e\"],[0.4444444444444444,\"#bd3786\"],[0.5555555555555556,\"#d8576b\"],[0.6666666666666666,\"#ed7953\"],[0.7777777777777778,\"#fb9f3a\"],[0.8888888888888888,\"#fdca26\"],[1.0,\"#f0f921\"]],\"type\":\"contour\"}],\"contourcarpet\":[{\"colorbar\":{\"outlinewidth\":0,\"ticks\":\"\"},\"type\":\"contourcarpet\"}],\"heatmap\":[{\"colorbar\":{\"outlinewidth\":0,\"ticks\":\"\"},\"colorscale\":[[0.0,\"#0d0887\"],[0.1111111111111111,\"#46039f\"],[0.2222222222222222,\"#7201a8\"],[0.3333333333333333,\"#9c179e\"],[0.4444444444444444,\"#bd3786\"],[0.5555555555555556,\"#d8576b\"],[0.6666666666666666,\"#ed7953\"],[0.7777777777777778,\"#fb9f3a\"],[0.8888888888888888,\"#fdca26\"],[1.0,\"#f0f921\"]],\"type\":\"heatmap\"}],\"heatmapgl\":[{\"colorbar\":{\"outlinewidth\":0,\"ticks\":\"\"},\"colorscale\":[[0.0,\"#0d0887\"],[0.1111111111111111,\"#46039f\"],[0.2222222222222222,\"#7201a8\"],[0.3333333333333333,\"#9c179e\"],[0.4444444444444444,\"#bd3786\"],[0.5555555555555556,\"#d8576b\"],[0.6666666666666666,\"#ed7953\"],[0.7777777777777778,\"#fb9f3a\"],[0.8888888888888888,\"#fdca26\"],[1.0,\"#f0f921\"]],\"type\":\"heatmapgl\"}],\"histogram\":[{\"marker\":{\"pattern\":{\"fillmode\":\"overlay\",\"size\":10,\"solidity\":0.2}},\"type\":\"histogram\"}],\"histogram2d\":[{\"colorbar\":{\"outlinewidth\":0,\"ticks\":\"\"},\"colorscale\":[[0.0,\"#0d0887\"],[0.1111111111111111,\"#46039f\"],[0.2222222222222222,\"#7201a8\"],[0.3333333333333333,\"#9c179e\"],[0.4444444444444444,\"#bd3786\"],[0.5555555555555556,\"#d8576b\"],[0.6666666666666666,\"#ed7953\"],[0.7777777777777778,\"#fb9f3a\"],[0.8888888888888888,\"#fdca26\"],[1.0,\"#f0f921\"]],\"type\":\"histogram2d\"}],\"histogram2dcontour\":[{\"colorbar\":{\"outlinewidth\":0,\"ticks\":\"\"},\"colorscale\":[[0.0,\"#0d0887\"],[0.1111111111111111,\"#46039f\"],[0.2222222222222222,\"#7201a8\"],[0.3333333333333333,\"#9c179e\"],[0.4444444444444444,\"#bd3786\"],[0.5555555555555556,\"#d8576b\"],[0.6666666666666666,\"#ed7953\"],[0.7777777777777778,\"#fb9f3a\"],[0.8888888888888888,\"#fdca26\"],[1.0,\"#f0f921\"]],\"type\":\"histogram2dcontour\"}],\"mesh3d\":[{\"colorbar\":{\"outlinewidth\":0,\"ticks\":\"\"},\"type\":\"mesh3d\"}],\"parcoords\":[{\"line\":{\"colorbar\":{\"outlinewidth\":0,\"ticks\":\"\"}},\"type\":\"parcoords\"}],\"pie\":[{\"automargin\":true,\"type\":\"pie\"}],\"scatter\":[{\"marker\":{\"colorbar\":{\"outlinewidth\":0,\"ticks\":\"\"}},\"type\":\"scatter\"}],\"scatter3d\":[{\"line\":{\"colorbar\":{\"outlinewidth\":0,\"ticks\":\"\"}},\"marker\":{\"colorbar\":{\"outlinewidth\":0,\"ticks\":\"\"}},\"type\":\"scatter3d\"}],\"scattercarpet\":[{\"marker\":{\"colorbar\":{\"outlinewidth\":0,\"ticks\":\"\"}},\"type\":\"scattercarpet\"}],\"scattergeo\":[{\"marker\":{\"colorbar\":{\"outlinewidth\":0,\"ticks\":\"\"}},\"type\":\"scattergeo\"}],\"scattergl\":[{\"marker\":{\"colorbar\":{\"outlinewidth\":0,\"ticks\":\"\"}},\"type\":\"scattergl\"}],\"scattermapbox\":[{\"marker\":{\"colorbar\":{\"outlinewidth\":0,\"ticks\":\"\"}},\"type\":\"scattermapbox\"}],\"scatterpolar\":[{\"marker\":{\"colorbar\":{\"outlinewidth\":0,\"ticks\":\"\"}},\"type\":\"scatterpolar\"}],\"scatterpolargl\":[{\"marker\":{\"colorbar\":{\"outlinewidth\":0,\"ticks\":\"\"}},\"type\":\"scatterpolargl\"}],\"scatterternary\":[{\"marker\":{\"colorbar\":{\"outlinewidth\":0,\"ticks\":\"\"}},\"type\":\"scatterternary\"}],\"surface\":[{\"colorbar\":{\"outlinewidth\":0,\"ticks\":\"\"},\"colorscale\":[[0.0,\"#0d0887\"],[0.1111111111111111,\"#46039f\"],[0.2222222222222222,\"#7201a8\"],[0.3333333333333333,\"#9c179e\"],[0.4444444444444444,\"#bd3786\"],[0.5555555555555556,\"#d8576b\"],[0.6666666666666666,\"#ed7953\"],[0.7777777777777778,\"#fb9f3a\"],[0.8888888888888888,\"#fdca26\"],[1.0,\"#f0f921\"]],\"type\":\"surface\"}],\"table\":[{\"cells\":{\"fill\":{\"color\":\"#EBF0F8\"},\"line\":{\"color\":\"white\"}},\"header\":{\"fill\":{\"color\":\"#C8D4E3\"},\"line\":{\"color\":\"white\"}},\"type\":\"table\"}]},\"layout\":{\"annotationdefaults\":{\"arrowcolor\":\"#2a3f5f\",\"arrowhead\":0,\"arrowwidth\":1},\"autotypenumbers\":\"strict\",\"coloraxis\":{\"colorbar\":{\"outlinewidth\":0,\"ticks\":\"\"}},\"colorscale\":{\"diverging\":[[0,\"#8e0152\"],[0.1,\"#c51b7d\"],[0.2,\"#de77ae\"],[0.3,\"#f1b6da\"],[0.4,\"#fde0ef\"],[0.5,\"#f7f7f7\"],[0.6,\"#e6f5d0\"],[0.7,\"#b8e186\"],[0.8,\"#7fbc41\"],[0.9,\"#4d9221\"],[1,\"#276419\"]],\"sequential\":[[0.0,\"#0d0887\"],[0.1111111111111111,\"#46039f\"],[0.2222222222222222,\"#7201a8\"],[0.3333333333333333,\"#9c179e\"],[0.4444444444444444,\"#bd3786\"],[0.5555555555555556,\"#d8576b\"],[0.6666666666666666,\"#ed7953\"],[0.7777777777777778,\"#fb9f3a\"],[0.8888888888888888,\"#fdca26\"],[1.0,\"#f0f921\"]],\"sequentialminus\":[[0.0,\"#0d0887\"],[0.1111111111111111,\"#46039f\"],[0.2222222222222222,\"#7201a8\"],[0.3333333333333333,\"#9c179e\"],[0.4444444444444444,\"#bd3786\"],[0.5555555555555556,\"#d8576b\"],[0.6666666666666666,\"#ed7953\"],[0.7777777777777778,\"#fb9f3a\"],[0.8888888888888888,\"#fdca26\"],[1.0,\"#f0f921\"]]},\"colorway\":[\"#636efa\",\"#EF553B\",\"#00cc96\",\"#ab63fa\",\"#FFA15A\",\"#19d3f3\",\"#FF6692\",\"#B6E880\",\"#FF97FF\",\"#FECB52\"],\"font\":{\"color\":\"#2a3f5f\"},\"geo\":{\"bgcolor\":\"white\",\"lakecolor\":\"white\",\"landcolor\":\"#E5ECF6\",\"showlakes\":true,\"showland\":true,\"subunitcolor\":\"white\"},\"hoverlabel\":{\"align\":\"left\"},\"hovermode\":\"closest\",\"mapbox\":{\"style\":\"light\"},\"paper_bgcolor\":\"white\",\"plot_bgcolor\":\"#E5ECF6\",\"polar\":{\"angularaxis\":{\"gridcolor\":\"white\",\"linecolor\":\"white\",\"ticks\":\"\"},\"bgcolor\":\"#E5ECF6\",\"radialaxis\":{\"gridcolor\":\"white\",\"linecolor\":\"white\",\"ticks\":\"\"}},\"scene\":{\"xaxis\":{\"backgroundcolor\":\"#E5ECF6\",\"gridcolor\":\"white\",\"gridwidth\":2,\"linecolor\":\"white\",\"showbackground\":true,\"ticks\":\"\",\"zerolinecolor\":\"white\"},\"yaxis\":{\"backgroundcolor\":\"#E5ECF6\",\"gridcolor\":\"white\",\"gridwidth\":2,\"linecolor\":\"white\",\"showbackground\":true,\"ticks\":\"\",\"zerolinecolor\":\"white\"},\"zaxis\":{\"backgroundcolor\":\"#E5ECF6\",\"gridcolor\":\"white\",\"gridwidth\":2,\"linecolor\":\"white\",\"showbackground\":true,\"ticks\":\"\",\"zerolinecolor\":\"white\"}},\"shapedefaults\":{\"line\":{\"color\":\"#2a3f5f\"}},\"ternary\":{\"aaxis\":{\"gridcolor\":\"white\",\"linecolor\":\"white\",\"ticks\":\"\"},\"baxis\":{\"gridcolor\":\"white\",\"linecolor\":\"white\",\"ticks\":\"\"},\"bgcolor\":\"#E5ECF6\",\"caxis\":{\"gridcolor\":\"white\",\"linecolor\":\"white\",\"ticks\":\"\"}},\"title\":{\"x\":0.05},\"xaxis\":{\"automargin\":true,\"gridcolor\":\"white\",\"linecolor\":\"white\",\"ticks\":\"\",\"title\":{\"standoff\":15},\"zerolinecolor\":\"white\",\"zerolinewidth\":2},\"yaxis\":{\"automargin\":true,\"gridcolor\":\"white\",\"linecolor\":\"white\",\"ticks\":\"\",\"title\":{\"standoff\":15},\"zerolinecolor\":\"white\",\"zerolinewidth\":2}}},\"xaxis\":{\"anchor\":\"y\",\"domain\":[0.0,1.0],\"title\":{\"text\":\"index\"}},\"yaxis\":{\"anchor\":\"x\",\"domain\":[0.0,1.0],\"title\":{\"text\":\"value\"}},\"legend\":{\"title\":{\"text\":\"variable\"},\"tracegroupgap\":0},\"margin\":{\"t\":60},\"barmode\":\"relative\"},                        {\"responsive\": true}                    ).then(function(){\n",
              "                            \n",
              "var gd = document.getElementById('3cab2b84-513d-4552-b195-c1a4b1ebc41b');\n",
              "var x = new MutationObserver(function (mutations, observer) {{\n",
              "        var display = window.getComputedStyle(gd).display;\n",
              "        if (!display || display === 'none') {{\n",
              "            console.log([gd, 'removed!']);\n",
              "            Plotly.purge(gd);\n",
              "            observer.disconnect();\n",
              "        }}\n",
              "}});\n",
              "\n",
              "// Listen for the removal of the full notebook cells\n",
              "var notebookContainer = gd.closest('#notebook-container');\n",
              "if (notebookContainer) {{\n",
              "    x.observe(notebookContainer, {childList: true});\n",
              "}}\n",
              "\n",
              "// Listen for the clearing of the current output cell\n",
              "var outputEl = gd.closest('.output');\n",
              "if (outputEl) {{\n",
              "    x.observe(outputEl, {childList: true});\n",
              "}}\n",
              "\n",
              "                        })                };                            </script>        </div>\n",
              "</body>\n",
              "</html>"
            ]
          },
          "metadata": {}
        }
      ],
      "source": [
        "%time dfk['Vehicle Body Type'].value_counts()[:20].plot.bar()"
      ]
    },
    {
      "cell_type": "markdown",
      "metadata": {
        "id": "PDHIlU3SU8ZO"
      },
      "source": [
        "# Asking and Answering Questions"
      ]
    },
    {
      "cell_type": "markdown",
      "metadata": {
        "id": "nL2iosucQwow"
      },
      "source": [
        "### 1. Dask"
      ]
    },
    {
      "cell_type": "markdown",
      "metadata": {
        "id": "_EFMAKdhgn70"
      },
      "source": [
        "a. What is the most common plate type?"
      ]
    },
    {
      "cell_type": "code",
      "execution_count": 67,
      "metadata": {
        "id": "JzMvGiTkrNwh",
        "colab": {
          "base_uri": "https://localhost:8080/",
          "height": 274
        },
        "outputId": "2e8563e6-c5a5-420a-ab11-8210b053a282"
      },
      "outputs": [
        {
          "output_type": "stream",
          "name": "stdout",
          "text": [
            "CPU times: user 52.4 s, sys: 918 ms, total: 53.4 s\n",
            "Wall time: 42.4 s\n"
          ]
        },
        {
          "output_type": "execute_result",
          "data": {
            "text/plain": [
              "      Plate Type\n",
              "Name            \n",
              "PAS      6511094\n",
              "COM      1887869\n",
              "OMT       235273\n",
              "SRF        96764\n",
              "OMS        75041"
            ],
            "text/html": [
              "\n",
              "  <div id=\"df-425c5192-d75b-4c4e-9325-707cc6b66f25\">\n",
              "    <div class=\"colab-df-container\">\n",
              "      <div>\n",
              "<style scoped>\n",
              "    .dataframe tbody tr th:only-of-type {\n",
              "        vertical-align: middle;\n",
              "    }\n",
              "\n",
              "    .dataframe tbody tr th {\n",
              "        vertical-align: top;\n",
              "    }\n",
              "\n",
              "    .dataframe thead th {\n",
              "        text-align: right;\n",
              "    }\n",
              "</style>\n",
              "<table border=\"1\" class=\"dataframe\">\n",
              "  <thead>\n",
              "    <tr style=\"text-align: right;\">\n",
              "      <th></th>\n",
              "      <th>Plate Type</th>\n",
              "    </tr>\n",
              "    <tr>\n",
              "      <th>Name</th>\n",
              "      <th></th>\n",
              "    </tr>\n",
              "  </thead>\n",
              "  <tbody>\n",
              "    <tr>\n",
              "      <th>PAS</th>\n",
              "      <td>6511094</td>\n",
              "    </tr>\n",
              "    <tr>\n",
              "      <th>COM</th>\n",
              "      <td>1887869</td>\n",
              "    </tr>\n",
              "    <tr>\n",
              "      <th>OMT</th>\n",
              "      <td>235273</td>\n",
              "    </tr>\n",
              "    <tr>\n",
              "      <th>SRF</th>\n",
              "      <td>96764</td>\n",
              "    </tr>\n",
              "    <tr>\n",
              "      <th>OMS</th>\n",
              "      <td>75041</td>\n",
              "    </tr>\n",
              "  </tbody>\n",
              "</table>\n",
              "</div>\n",
              "      <button class=\"colab-df-convert\" onclick=\"convertToInteractive('df-425c5192-d75b-4c4e-9325-707cc6b66f25')\"\n",
              "              title=\"Convert this dataframe to an interactive table.\"\n",
              "              style=\"display:none;\">\n",
              "        \n",
              "  <svg xmlns=\"http://www.w3.org/2000/svg\" height=\"24px\"viewBox=\"0 0 24 24\"\n",
              "       width=\"24px\">\n",
              "    <path d=\"M0 0h24v24H0V0z\" fill=\"none\"/>\n",
              "    <path d=\"M18.56 5.44l.94 2.06.94-2.06 2.06-.94-2.06-.94-.94-2.06-.94 2.06-2.06.94zm-11 1L8.5 8.5l.94-2.06 2.06-.94-2.06-.94L8.5 2.5l-.94 2.06-2.06.94zm10 10l.94 2.06.94-2.06 2.06-.94-2.06-.94-.94-2.06-.94 2.06-2.06.94z\"/><path d=\"M17.41 7.96l-1.37-1.37c-.4-.4-.92-.59-1.43-.59-.52 0-1.04.2-1.43.59L10.3 9.45l-7.72 7.72c-.78.78-.78 2.05 0 2.83L4 21.41c.39.39.9.59 1.41.59.51 0 1.02-.2 1.41-.59l7.78-7.78 2.81-2.81c.8-.78.8-2.07 0-2.86zM5.41 20L4 18.59l7.72-7.72 1.47 1.35L5.41 20z\"/>\n",
              "  </svg>\n",
              "      </button>\n",
              "      \n",
              "  <style>\n",
              "    .colab-df-container {\n",
              "      display:flex;\n",
              "      flex-wrap:wrap;\n",
              "      gap: 12px;\n",
              "    }\n",
              "\n",
              "    .colab-df-convert {\n",
              "      background-color: #E8F0FE;\n",
              "      border: none;\n",
              "      border-radius: 50%;\n",
              "      cursor: pointer;\n",
              "      display: none;\n",
              "      fill: #1967D2;\n",
              "      height: 32px;\n",
              "      padding: 0 0 0 0;\n",
              "      width: 32px;\n",
              "    }\n",
              "\n",
              "    .colab-df-convert:hover {\n",
              "      background-color: #E2EBFA;\n",
              "      box-shadow: 0px 1px 2px rgba(60, 64, 67, 0.3), 0px 1px 3px 1px rgba(60, 64, 67, 0.15);\n",
              "      fill: #174EA6;\n",
              "    }\n",
              "\n",
              "    [theme=dark] .colab-df-convert {\n",
              "      background-color: #3B4455;\n",
              "      fill: #D2E3FC;\n",
              "    }\n",
              "\n",
              "    [theme=dark] .colab-df-convert:hover {\n",
              "      background-color: #434B5C;\n",
              "      box-shadow: 0px 1px 3px 1px rgba(0, 0, 0, 0.15);\n",
              "      filter: drop-shadow(0px 1px 2px rgba(0, 0, 0, 0.3));\n",
              "      fill: #FFFFFF;\n",
              "    }\n",
              "  </style>\n",
              "\n",
              "      <script>\n",
              "        const buttonEl =\n",
              "          document.querySelector('#df-425c5192-d75b-4c4e-9325-707cc6b66f25 button.colab-df-convert');\n",
              "        buttonEl.style.display =\n",
              "          google.colab.kernel.accessAllowed ? 'block' : 'none';\n",
              "\n",
              "        async function convertToInteractive(key) {\n",
              "          const element = document.querySelector('#df-425c5192-d75b-4c4e-9325-707cc6b66f25');\n",
              "          const dataTable =\n",
              "            await google.colab.kernel.invokeFunction('convertToInteractive',\n",
              "                                                     [key], {});\n",
              "          if (!dataTable) return;\n",
              "\n",
              "          const docLinkHtml = 'Like what you see? Visit the ' +\n",
              "            '<a target=\"_blank\" href=https://colab.research.google.com/notebooks/data_table.ipynb>data table notebook</a>'\n",
              "            + ' to learn more about interactive tables.';\n",
              "          element.innerHTML = '';\n",
              "          dataTable['output_type'] = 'display_data';\n",
              "          await google.colab.output.renderOutput(dataTable, element);\n",
              "          const docLink = document.createElement('div');\n",
              "          docLink.innerHTML = docLinkHtml;\n",
              "          element.appendChild(docLink);\n",
              "        }\n",
              "      </script>\n",
              "    </div>\n",
              "  </div>\n",
              "  "
            ]
          },
          "metadata": {},
          "execution_count": 67
        }
      ],
      "source": [
        "%%time\n",
        "result = dfdask.groupby(\"Plate Type\").agg({\"Plate Type\" : \"count\"}).compute()\n",
        "result.index.name = 'Name'\n",
        "result.sort_values(by=\"Plate Type\",ascending=False,inplace=True)\n",
        "result.head(5)"
      ]
    },
    {
      "cell_type": "markdown",
      "metadata": {
        "id": "lbvbSlgMgYhI"
      },
      "source": [
        "b. What registeration stae has the highest rate?"
      ]
    },
    {
      "cell_type": "code",
      "execution_count": 68,
      "metadata": {
        "id": "J8msxYyYwCYP",
        "colab": {
          "base_uri": "https://localhost:8080/",
          "height": 274
        },
        "outputId": "54fdbdea-9e19-48cd-d20b-374902922d6a"
      },
      "outputs": [
        {
          "output_type": "stream",
          "name": "stdout",
          "text": [
            "CPU times: user 52.6 s, sys: 886 ms, total: 53.5 s\n",
            "Wall time: 41.8 s\n"
          ]
        },
        {
          "output_type": "execute_result",
          "data": {
            "text/plain": [
              "      Registration State\n",
              "Name                    \n",
              "NY               7029804\n",
              "NJ                878677\n",
              "PA                225760\n",
              "CT                136973\n",
              "FL                111887"
            ],
            "text/html": [
              "\n",
              "  <div id=\"df-527df957-670a-4c56-baae-d421098fc0d0\">\n",
              "    <div class=\"colab-df-container\">\n",
              "      <div>\n",
              "<style scoped>\n",
              "    .dataframe tbody tr th:only-of-type {\n",
              "        vertical-align: middle;\n",
              "    }\n",
              "\n",
              "    .dataframe tbody tr th {\n",
              "        vertical-align: top;\n",
              "    }\n",
              "\n",
              "    .dataframe thead th {\n",
              "        text-align: right;\n",
              "    }\n",
              "</style>\n",
              "<table border=\"1\" class=\"dataframe\">\n",
              "  <thead>\n",
              "    <tr style=\"text-align: right;\">\n",
              "      <th></th>\n",
              "      <th>Registration State</th>\n",
              "    </tr>\n",
              "    <tr>\n",
              "      <th>Name</th>\n",
              "      <th></th>\n",
              "    </tr>\n",
              "  </thead>\n",
              "  <tbody>\n",
              "    <tr>\n",
              "      <th>NY</th>\n",
              "      <td>7029804</td>\n",
              "    </tr>\n",
              "    <tr>\n",
              "      <th>NJ</th>\n",
              "      <td>878677</td>\n",
              "    </tr>\n",
              "    <tr>\n",
              "      <th>PA</th>\n",
              "      <td>225760</td>\n",
              "    </tr>\n",
              "    <tr>\n",
              "      <th>CT</th>\n",
              "      <td>136973</td>\n",
              "    </tr>\n",
              "    <tr>\n",
              "      <th>FL</th>\n",
              "      <td>111887</td>\n",
              "    </tr>\n",
              "  </tbody>\n",
              "</table>\n",
              "</div>\n",
              "      <button class=\"colab-df-convert\" onclick=\"convertToInteractive('df-527df957-670a-4c56-baae-d421098fc0d0')\"\n",
              "              title=\"Convert this dataframe to an interactive table.\"\n",
              "              style=\"display:none;\">\n",
              "        \n",
              "  <svg xmlns=\"http://www.w3.org/2000/svg\" height=\"24px\"viewBox=\"0 0 24 24\"\n",
              "       width=\"24px\">\n",
              "    <path d=\"M0 0h24v24H0V0z\" fill=\"none\"/>\n",
              "    <path d=\"M18.56 5.44l.94 2.06.94-2.06 2.06-.94-2.06-.94-.94-2.06-.94 2.06-2.06.94zm-11 1L8.5 8.5l.94-2.06 2.06-.94-2.06-.94L8.5 2.5l-.94 2.06-2.06.94zm10 10l.94 2.06.94-2.06 2.06-.94-2.06-.94-.94-2.06-.94 2.06-2.06.94z\"/><path d=\"M17.41 7.96l-1.37-1.37c-.4-.4-.92-.59-1.43-.59-.52 0-1.04.2-1.43.59L10.3 9.45l-7.72 7.72c-.78.78-.78 2.05 0 2.83L4 21.41c.39.39.9.59 1.41.59.51 0 1.02-.2 1.41-.59l7.78-7.78 2.81-2.81c.8-.78.8-2.07 0-2.86zM5.41 20L4 18.59l7.72-7.72 1.47 1.35L5.41 20z\"/>\n",
              "  </svg>\n",
              "      </button>\n",
              "      \n",
              "  <style>\n",
              "    .colab-df-container {\n",
              "      display:flex;\n",
              "      flex-wrap:wrap;\n",
              "      gap: 12px;\n",
              "    }\n",
              "\n",
              "    .colab-df-convert {\n",
              "      background-color: #E8F0FE;\n",
              "      border: none;\n",
              "      border-radius: 50%;\n",
              "      cursor: pointer;\n",
              "      display: none;\n",
              "      fill: #1967D2;\n",
              "      height: 32px;\n",
              "      padding: 0 0 0 0;\n",
              "      width: 32px;\n",
              "    }\n",
              "\n",
              "    .colab-df-convert:hover {\n",
              "      background-color: #E2EBFA;\n",
              "      box-shadow: 0px 1px 2px rgba(60, 64, 67, 0.3), 0px 1px 3px 1px rgba(60, 64, 67, 0.15);\n",
              "      fill: #174EA6;\n",
              "    }\n",
              "\n",
              "    [theme=dark] .colab-df-convert {\n",
              "      background-color: #3B4455;\n",
              "      fill: #D2E3FC;\n",
              "    }\n",
              "\n",
              "    [theme=dark] .colab-df-convert:hover {\n",
              "      background-color: #434B5C;\n",
              "      box-shadow: 0px 1px 3px 1px rgba(0, 0, 0, 0.15);\n",
              "      filter: drop-shadow(0px 1px 2px rgba(0, 0, 0, 0.3));\n",
              "      fill: #FFFFFF;\n",
              "    }\n",
              "  </style>\n",
              "\n",
              "      <script>\n",
              "        const buttonEl =\n",
              "          document.querySelector('#df-527df957-670a-4c56-baae-d421098fc0d0 button.colab-df-convert');\n",
              "        buttonEl.style.display =\n",
              "          google.colab.kernel.accessAllowed ? 'block' : 'none';\n",
              "\n",
              "        async function convertToInteractive(key) {\n",
              "          const element = document.querySelector('#df-527df957-670a-4c56-baae-d421098fc0d0');\n",
              "          const dataTable =\n",
              "            await google.colab.kernel.invokeFunction('convertToInteractive',\n",
              "                                                     [key], {});\n",
              "          if (!dataTable) return;\n",
              "\n",
              "          const docLinkHtml = 'Like what you see? Visit the ' +\n",
              "            '<a target=\"_blank\" href=https://colab.research.google.com/notebooks/data_table.ipynb>data table notebook</a>'\n",
              "            + ' to learn more about interactive tables.';\n",
              "          element.innerHTML = '';\n",
              "          dataTable['output_type'] = 'display_data';\n",
              "          await google.colab.output.renderOutput(dataTable, element);\n",
              "          const docLink = document.createElement('div');\n",
              "          docLink.innerHTML = docLinkHtml;\n",
              "          element.appendChild(docLink);\n",
              "        }\n",
              "      </script>\n",
              "    </div>\n",
              "  </div>\n",
              "  "
            ]
          },
          "metadata": {},
          "execution_count": 68
        }
      ],
      "source": [
        "%%time\n",
        "result = dfdask.groupby(\"Registration State\").agg({\"Registration State\" : \"count\"}).compute()\n",
        "result.index.name = 'Name'\n",
        "result.sort_values(by=\"Registration State\",ascending=False,inplace=True)\n",
        "result.head(5)"
      ]
    },
    {
      "cell_type": "markdown",
      "metadata": {
        "id": "Mib_SrZdgYhI"
      },
      "source": [
        "c. What is the most common vehicle body type?"
      ]
    },
    {
      "cell_type": "code",
      "source": [
        "%%time\n",
        "result = dfdask.groupby(\"Vehicle Body Type\").agg({\"Vehicle Body Type\" : \"count\"}).compute()\n",
        "result.index.name = 'Body Type'\n",
        "result.sort_values(by=\"Vehicle Body Type\",ascending=False,inplace=True)\n",
        "result.head(5)"
      ],
      "metadata": {
        "id": "GbIHtJc5tQBB",
        "colab": {
          "base_uri": "https://localhost:8080/",
          "height": 274
        },
        "outputId": "0a6b0afe-b2e9-4375-e21d-6b989897d361"
      },
      "execution_count": 69,
      "outputs": [
        {
          "output_type": "stream",
          "name": "stdout",
          "text": [
            "CPU times: user 52.9 s, sys: 888 ms, total: 53.8 s\n",
            "Wall time: 42.3 s\n"
          ]
        },
        {
          "output_type": "execute_result",
          "data": {
            "text/plain": [
              "           Vehicle Body Type\n",
              "Body Type                   \n",
              "SUBN                 2797693\n",
              "4DSD                 2513584\n",
              "VAN                  1384393\n",
              "DELV                  730526\n",
              "SDN                   441801"
            ],
            "text/html": [
              "\n",
              "  <div id=\"df-aa5f6e9c-7813-455d-88ca-f5b7d9d2c0a1\">\n",
              "    <div class=\"colab-df-container\">\n",
              "      <div>\n",
              "<style scoped>\n",
              "    .dataframe tbody tr th:only-of-type {\n",
              "        vertical-align: middle;\n",
              "    }\n",
              "\n",
              "    .dataframe tbody tr th {\n",
              "        vertical-align: top;\n",
              "    }\n",
              "\n",
              "    .dataframe thead th {\n",
              "        text-align: right;\n",
              "    }\n",
              "</style>\n",
              "<table border=\"1\" class=\"dataframe\">\n",
              "  <thead>\n",
              "    <tr style=\"text-align: right;\">\n",
              "      <th></th>\n",
              "      <th>Vehicle Body Type</th>\n",
              "    </tr>\n",
              "    <tr>\n",
              "      <th>Body Type</th>\n",
              "      <th></th>\n",
              "    </tr>\n",
              "  </thead>\n",
              "  <tbody>\n",
              "    <tr>\n",
              "      <th>SUBN</th>\n",
              "      <td>2797693</td>\n",
              "    </tr>\n",
              "    <tr>\n",
              "      <th>4DSD</th>\n",
              "      <td>2513584</td>\n",
              "    </tr>\n",
              "    <tr>\n",
              "      <th>VAN</th>\n",
              "      <td>1384393</td>\n",
              "    </tr>\n",
              "    <tr>\n",
              "      <th>DELV</th>\n",
              "      <td>730526</td>\n",
              "    </tr>\n",
              "    <tr>\n",
              "      <th>SDN</th>\n",
              "      <td>441801</td>\n",
              "    </tr>\n",
              "  </tbody>\n",
              "</table>\n",
              "</div>\n",
              "      <button class=\"colab-df-convert\" onclick=\"convertToInteractive('df-aa5f6e9c-7813-455d-88ca-f5b7d9d2c0a1')\"\n",
              "              title=\"Convert this dataframe to an interactive table.\"\n",
              "              style=\"display:none;\">\n",
              "        \n",
              "  <svg xmlns=\"http://www.w3.org/2000/svg\" height=\"24px\"viewBox=\"0 0 24 24\"\n",
              "       width=\"24px\">\n",
              "    <path d=\"M0 0h24v24H0V0z\" fill=\"none\"/>\n",
              "    <path d=\"M18.56 5.44l.94 2.06.94-2.06 2.06-.94-2.06-.94-.94-2.06-.94 2.06-2.06.94zm-11 1L8.5 8.5l.94-2.06 2.06-.94-2.06-.94L8.5 2.5l-.94 2.06-2.06.94zm10 10l.94 2.06.94-2.06 2.06-.94-2.06-.94-.94-2.06-.94 2.06-2.06.94z\"/><path d=\"M17.41 7.96l-1.37-1.37c-.4-.4-.92-.59-1.43-.59-.52 0-1.04.2-1.43.59L10.3 9.45l-7.72 7.72c-.78.78-.78 2.05 0 2.83L4 21.41c.39.39.9.59 1.41.59.51 0 1.02-.2 1.41-.59l7.78-7.78 2.81-2.81c.8-.78.8-2.07 0-2.86zM5.41 20L4 18.59l7.72-7.72 1.47 1.35L5.41 20z\"/>\n",
              "  </svg>\n",
              "      </button>\n",
              "      \n",
              "  <style>\n",
              "    .colab-df-container {\n",
              "      display:flex;\n",
              "      flex-wrap:wrap;\n",
              "      gap: 12px;\n",
              "    }\n",
              "\n",
              "    .colab-df-convert {\n",
              "      background-color: #E8F0FE;\n",
              "      border: none;\n",
              "      border-radius: 50%;\n",
              "      cursor: pointer;\n",
              "      display: none;\n",
              "      fill: #1967D2;\n",
              "      height: 32px;\n",
              "      padding: 0 0 0 0;\n",
              "      width: 32px;\n",
              "    }\n",
              "\n",
              "    .colab-df-convert:hover {\n",
              "      background-color: #E2EBFA;\n",
              "      box-shadow: 0px 1px 2px rgba(60, 64, 67, 0.3), 0px 1px 3px 1px rgba(60, 64, 67, 0.15);\n",
              "      fill: #174EA6;\n",
              "    }\n",
              "\n",
              "    [theme=dark] .colab-df-convert {\n",
              "      background-color: #3B4455;\n",
              "      fill: #D2E3FC;\n",
              "    }\n",
              "\n",
              "    [theme=dark] .colab-df-convert:hover {\n",
              "      background-color: #434B5C;\n",
              "      box-shadow: 0px 1px 3px 1px rgba(0, 0, 0, 0.15);\n",
              "      filter: drop-shadow(0px 1px 2px rgba(0, 0, 0, 0.3));\n",
              "      fill: #FFFFFF;\n",
              "    }\n",
              "  </style>\n",
              "\n",
              "      <script>\n",
              "        const buttonEl =\n",
              "          document.querySelector('#df-aa5f6e9c-7813-455d-88ca-f5b7d9d2c0a1 button.colab-df-convert');\n",
              "        buttonEl.style.display =\n",
              "          google.colab.kernel.accessAllowed ? 'block' : 'none';\n",
              "\n",
              "        async function convertToInteractive(key) {\n",
              "          const element = document.querySelector('#df-aa5f6e9c-7813-455d-88ca-f5b7d9d2c0a1');\n",
              "          const dataTable =\n",
              "            await google.colab.kernel.invokeFunction('convertToInteractive',\n",
              "                                                     [key], {});\n",
              "          if (!dataTable) return;\n",
              "\n",
              "          const docLinkHtml = 'Like what you see? Visit the ' +\n",
              "            '<a target=\"_blank\" href=https://colab.research.google.com/notebooks/data_table.ipynb>data table notebook</a>'\n",
              "            + ' to learn more about interactive tables.';\n",
              "          element.innerHTML = '';\n",
              "          dataTable['output_type'] = 'display_data';\n",
              "          await google.colab.output.renderOutput(dataTable, element);\n",
              "          const docLink = document.createElement('div');\n",
              "          docLink.innerHTML = docLinkHtml;\n",
              "          element.appendChild(docLink);\n",
              "        }\n",
              "      </script>\n",
              "    </div>\n",
              "  </div>\n",
              "  "
            ]
          },
          "metadata": {},
          "execution_count": 69
        }
      ]
    },
    {
      "cell_type": "markdown",
      "metadata": {
        "id": "EfoJ3P2YgYhJ"
      },
      "source": [
        "d. What is the most common vehicle colour?"
      ]
    },
    {
      "cell_type": "code",
      "source": [
        "%%time\n",
        "result = dfdask.groupby(\"Vehicle Color\").agg({\"Vehicle Color\" : \"count\"}).compute()\n",
        "result.index.name = 'Color'\n",
        "result.sort_values(by=\"Vehicle Color\",ascending=False,inplace=True)\n",
        "result.head(5)"
      ],
      "metadata": {
        "id": "K3YZ_aD-tdIR",
        "colab": {
          "base_uri": "https://localhost:8080/",
          "height": 274
        },
        "outputId": "42c568c9-fa52-4778-d8a9-bdc45fcb3f62"
      },
      "execution_count": 70,
      "outputs": [
        {
          "output_type": "stream",
          "name": "stdout",
          "text": [
            "CPU times: user 52.3 s, sys: 831 ms, total: 53.2 s\n",
            "Wall time: 41.6 s\n"
          ]
        },
        {
          "output_type": "execute_result",
          "data": {
            "text/plain": [
              "       Vehicle Color\n",
              "Color               \n",
              "WHITE        1349234\n",
              "GY           1214514\n",
              "WH           1192996\n",
              "BK            941231\n",
              "BLACK         665519"
            ],
            "text/html": [
              "\n",
              "  <div id=\"df-c63fe3a6-9f04-46bf-83a4-681c4abf0bf9\">\n",
              "    <div class=\"colab-df-container\">\n",
              "      <div>\n",
              "<style scoped>\n",
              "    .dataframe tbody tr th:only-of-type {\n",
              "        vertical-align: middle;\n",
              "    }\n",
              "\n",
              "    .dataframe tbody tr th {\n",
              "        vertical-align: top;\n",
              "    }\n",
              "\n",
              "    .dataframe thead th {\n",
              "        text-align: right;\n",
              "    }\n",
              "</style>\n",
              "<table border=\"1\" class=\"dataframe\">\n",
              "  <thead>\n",
              "    <tr style=\"text-align: right;\">\n",
              "      <th></th>\n",
              "      <th>Vehicle Color</th>\n",
              "    </tr>\n",
              "    <tr>\n",
              "      <th>Color</th>\n",
              "      <th></th>\n",
              "    </tr>\n",
              "  </thead>\n",
              "  <tbody>\n",
              "    <tr>\n",
              "      <th>WHITE</th>\n",
              "      <td>1349234</td>\n",
              "    </tr>\n",
              "    <tr>\n",
              "      <th>GY</th>\n",
              "      <td>1214514</td>\n",
              "    </tr>\n",
              "    <tr>\n",
              "      <th>WH</th>\n",
              "      <td>1192996</td>\n",
              "    </tr>\n",
              "    <tr>\n",
              "      <th>BK</th>\n",
              "      <td>941231</td>\n",
              "    </tr>\n",
              "    <tr>\n",
              "      <th>BLACK</th>\n",
              "      <td>665519</td>\n",
              "    </tr>\n",
              "  </tbody>\n",
              "</table>\n",
              "</div>\n",
              "      <button class=\"colab-df-convert\" onclick=\"convertToInteractive('df-c63fe3a6-9f04-46bf-83a4-681c4abf0bf9')\"\n",
              "              title=\"Convert this dataframe to an interactive table.\"\n",
              "              style=\"display:none;\">\n",
              "        \n",
              "  <svg xmlns=\"http://www.w3.org/2000/svg\" height=\"24px\"viewBox=\"0 0 24 24\"\n",
              "       width=\"24px\">\n",
              "    <path d=\"M0 0h24v24H0V0z\" fill=\"none\"/>\n",
              "    <path d=\"M18.56 5.44l.94 2.06.94-2.06 2.06-.94-2.06-.94-.94-2.06-.94 2.06-2.06.94zm-11 1L8.5 8.5l.94-2.06 2.06-.94-2.06-.94L8.5 2.5l-.94 2.06-2.06.94zm10 10l.94 2.06.94-2.06 2.06-.94-2.06-.94-.94-2.06-.94 2.06-2.06.94z\"/><path d=\"M17.41 7.96l-1.37-1.37c-.4-.4-.92-.59-1.43-.59-.52 0-1.04.2-1.43.59L10.3 9.45l-7.72 7.72c-.78.78-.78 2.05 0 2.83L4 21.41c.39.39.9.59 1.41.59.51 0 1.02-.2 1.41-.59l7.78-7.78 2.81-2.81c.8-.78.8-2.07 0-2.86zM5.41 20L4 18.59l7.72-7.72 1.47 1.35L5.41 20z\"/>\n",
              "  </svg>\n",
              "      </button>\n",
              "      \n",
              "  <style>\n",
              "    .colab-df-container {\n",
              "      display:flex;\n",
              "      flex-wrap:wrap;\n",
              "      gap: 12px;\n",
              "    }\n",
              "\n",
              "    .colab-df-convert {\n",
              "      background-color: #E8F0FE;\n",
              "      border: none;\n",
              "      border-radius: 50%;\n",
              "      cursor: pointer;\n",
              "      display: none;\n",
              "      fill: #1967D2;\n",
              "      height: 32px;\n",
              "      padding: 0 0 0 0;\n",
              "      width: 32px;\n",
              "    }\n",
              "\n",
              "    .colab-df-convert:hover {\n",
              "      background-color: #E2EBFA;\n",
              "      box-shadow: 0px 1px 2px rgba(60, 64, 67, 0.3), 0px 1px 3px 1px rgba(60, 64, 67, 0.15);\n",
              "      fill: #174EA6;\n",
              "    }\n",
              "\n",
              "    [theme=dark] .colab-df-convert {\n",
              "      background-color: #3B4455;\n",
              "      fill: #D2E3FC;\n",
              "    }\n",
              "\n",
              "    [theme=dark] .colab-df-convert:hover {\n",
              "      background-color: #434B5C;\n",
              "      box-shadow: 0px 1px 3px 1px rgba(0, 0, 0, 0.15);\n",
              "      filter: drop-shadow(0px 1px 2px rgba(0, 0, 0, 0.3));\n",
              "      fill: #FFFFFF;\n",
              "    }\n",
              "  </style>\n",
              "\n",
              "      <script>\n",
              "        const buttonEl =\n",
              "          document.querySelector('#df-c63fe3a6-9f04-46bf-83a4-681c4abf0bf9 button.colab-df-convert');\n",
              "        buttonEl.style.display =\n",
              "          google.colab.kernel.accessAllowed ? 'block' : 'none';\n",
              "\n",
              "        async function convertToInteractive(key) {\n",
              "          const element = document.querySelector('#df-c63fe3a6-9f04-46bf-83a4-681c4abf0bf9');\n",
              "          const dataTable =\n",
              "            await google.colab.kernel.invokeFunction('convertToInteractive',\n",
              "                                                     [key], {});\n",
              "          if (!dataTable) return;\n",
              "\n",
              "          const docLinkHtml = 'Like what you see? Visit the ' +\n",
              "            '<a target=\"_blank\" href=https://colab.research.google.com/notebooks/data_table.ipynb>data table notebook</a>'\n",
              "            + ' to learn more about interactive tables.';\n",
              "          element.innerHTML = '';\n",
              "          dataTable['output_type'] = 'display_data';\n",
              "          await google.colab.output.renderOutput(dataTable, element);\n",
              "          const docLink = document.createElement('div');\n",
              "          docLink.innerHTML = docLinkHtml;\n",
              "          element.appendChild(docLink);\n",
              "        }\n",
              "      </script>\n",
              "    </div>\n",
              "  </div>\n",
              "  "
            ]
          },
          "metadata": {},
          "execution_count": 70
        }
      ]
    },
    {
      "cell_type": "markdown",
      "metadata": {
        "id": "WBawWXV1gYhJ"
      },
      "source": [
        "e. Which year has the most issue?"
      ]
    },
    {
      "cell_type": "code",
      "source": [
        "%%time\n",
        "import seaborn as sns\n",
        "\n",
        "dfdask['Issue Year'] = dfdask['Issue Date'].dt.year\n",
        "result = dfdask.groupby(['Issue Year']).agg({\"Issue Year\" : \"count\"}).compute()\n",
        "result = result.rename(columns={\"Issue Year\" : \"count\"})\n",
        "result = result.reset_index()\n",
        "\n",
        "sns.lineplot(data=result, x='Issue Year', y='count')"
      ],
      "metadata": {
        "id": "73fox2B2t6Xf",
        "colab": {
          "base_uri": "https://localhost:8080/",
          "height": 344
        },
        "outputId": "2a63b82f-eefa-4083-a0a5-34f8d7bf5fba"
      },
      "execution_count": 71,
      "outputs": [
        {
          "output_type": "stream",
          "name": "stdout",
          "text": [
            "CPU times: user 52.2 s, sys: 904 ms, total: 53.1 s\n",
            "Wall time: 41.9 s\n"
          ]
        },
        {
          "output_type": "execute_result",
          "data": {
            "text/plain": [
              "<matplotlib.axes._subplots.AxesSubplot at 0x7f6d19eb18e0>"
            ]
          },
          "metadata": {},
          "execution_count": 71
        },
        {
          "output_type": "display_data",
          "data": {
            "text/plain": [
              "<Figure size 432x288 with 1 Axes>"
            ],
            "image/png": "[encoded data removed]"
          },
          "metadata": {
            "needs_background": "light"
          }
        }
      ]
    },
    {
      "cell_type": "code",
      "source": [
        "result.sort_values(by=\"count\", ascending=False).head(5)"
      ],
      "metadata": {
        "id": "ckJ7OIdA-OKQ",
        "colab": {
          "base_uri": "https://localhost:8080/",
          "height": 206
        },
        "outputId": "432aa7ab-1c7c-4e96-8635-7e4766aefb57"
      },
      "execution_count": 72,
      "outputs": [
        {
          "output_type": "execute_result",
          "data": {
            "text/plain": [
              "    Issue Year    count\n",
              "16        2014  4716512\n",
              "15        2013  4379109\n",
              "17        2015     1522\n",
              "14        2012      618\n",
              "21        2019      329"
            ],
            "text/html": [
              "\n",
              "  <div id=\"df-50fc7c34-26e6-479a-ae43-861156eb7fc2\">\n",
              "    <div class=\"colab-df-container\">\n",
              "      <div>\n",
              "<style scoped>\n",
              "    .dataframe tbody tr th:only-of-type {\n",
              "        vertical-align: middle;\n",
              "    }\n",
              "\n",
              "    .dataframe tbody tr th {\n",
              "        vertical-align: top;\n",
              "    }\n",
              "\n",
              "    .dataframe thead th {\n",
              "        text-align: right;\n",
              "    }\n",
              "</style>\n",
              "<table border=\"1\" class=\"dataframe\">\n",
              "  <thead>\n",
              "    <tr style=\"text-align: right;\">\n",
              "      <th></th>\n",
              "      <th>Issue Year</th>\n",
              "      <th>count</th>\n",
              "    </tr>\n",
              "  </thead>\n",
              "  <tbody>\n",
              "    <tr>\n",
              "      <th>16</th>\n",
              "      <td>2014</td>\n",
              "      <td>4716512</td>\n",
              "    </tr>\n",
              "    <tr>\n",
              "      <th>15</th>\n",
              "      <td>2013</td>\n",
              "      <td>4379109</td>\n",
              "    </tr>\n",
              "    <tr>\n",
              "      <th>17</th>\n",
              "      <td>2015</td>\n",
              "      <td>1522</td>\n",
              "    </tr>\n",
              "    <tr>\n",
              "      <th>14</th>\n",
              "      <td>2012</td>\n",
              "      <td>618</td>\n",
              "    </tr>\n",
              "    <tr>\n",
              "      <th>21</th>\n",
              "      <td>2019</td>\n",
              "      <td>329</td>\n",
              "    </tr>\n",
              "  </tbody>\n",
              "</table>\n",
              "</div>\n",
              "      <button class=\"colab-df-convert\" onclick=\"convertToInteractive('df-50fc7c34-26e6-479a-ae43-861156eb7fc2')\"\n",
              "              title=\"Convert this dataframe to an interactive table.\"\n",
              "              style=\"display:none;\">\n",
              "        \n",
              "  <svg xmlns=\"http://www.w3.org/2000/svg\" height=\"24px\"viewBox=\"0 0 24 24\"\n",
              "       width=\"24px\">\n",
              "    <path d=\"M0 0h24v24H0V0z\" fill=\"none\"/>\n",
              "    <path d=\"M18.56 5.44l.94 2.06.94-2.06 2.06-.94-2.06-.94-.94-2.06-.94 2.06-2.06.94zm-11 1L8.5 8.5l.94-2.06 2.06-.94-2.06-.94L8.5 2.5l-.94 2.06-2.06.94zm10 10l.94 2.06.94-2.06 2.06-.94-2.06-.94-.94-2.06-.94 2.06-2.06.94z\"/><path d=\"M17.41 7.96l-1.37-1.37c-.4-.4-.92-.59-1.43-.59-.52 0-1.04.2-1.43.59L10.3 9.45l-7.72 7.72c-.78.78-.78 2.05 0 2.83L4 21.41c.39.39.9.59 1.41.59.51 0 1.02-.2 1.41-.59l7.78-7.78 2.81-2.81c.8-.78.8-2.07 0-2.86zM5.41 20L4 18.59l7.72-7.72 1.47 1.35L5.41 20z\"/>\n",
              "  </svg>\n",
              "      </button>\n",
              "      \n",
              "  <style>\n",
              "    .colab-df-container {\n",
              "      display:flex;\n",
              "      flex-wrap:wrap;\n",
              "      gap: 12px;\n",
              "    }\n",
              "\n",
              "    .colab-df-convert {\n",
              "      background-color: #E8F0FE;\n",
              "      border: none;\n",
              "      border-radius: 50%;\n",
              "      cursor: pointer;\n",
              "      display: none;\n",
              "      fill: #1967D2;\n",
              "      height: 32px;\n",
              "      padding: 0 0 0 0;\n",
              "      width: 32px;\n",
              "    }\n",
              "\n",
              "    .colab-df-convert:hover {\n",
              "      background-color: #E2EBFA;\n",
              "      box-shadow: 0px 1px 2px rgba(60, 64, 67, 0.3), 0px 1px 3px 1px rgba(60, 64, 67, 0.15);\n",
              "      fill: #174EA6;\n",
              "    }\n",
              "\n",
              "    [theme=dark] .colab-df-convert {\n",
              "      background-color: #3B4455;\n",
              "      fill: #D2E3FC;\n",
              "    }\n",
              "\n",
              "    [theme=dark] .colab-df-convert:hover {\n",
              "      background-color: #434B5C;\n",
              "      box-shadow: 0px 1px 3px 1px rgba(0, 0, 0, 0.15);\n",
              "      filter: drop-shadow(0px 1px 2px rgba(0, 0, 0, 0.3));\n",
              "      fill: #FFFFFF;\n",
              "    }\n",
              "  </style>\n",
              "\n",
              "      <script>\n",
              "        const buttonEl =\n",
              "          document.querySelector('#df-50fc7c34-26e6-479a-ae43-861156eb7fc2 button.colab-df-convert');\n",
              "        buttonEl.style.display =\n",
              "          google.colab.kernel.accessAllowed ? 'block' : 'none';\n",
              "\n",
              "        async function convertToInteractive(key) {\n",
              "          const element = document.querySelector('#df-50fc7c34-26e6-479a-ae43-861156eb7fc2');\n",
              "          const dataTable =\n",
              "            await google.colab.kernel.invokeFunction('convertToInteractive',\n",
              "                                                     [key], {});\n",
              "          if (!dataTable) return;\n",
              "\n",
              "          const docLinkHtml = 'Like what you see? Visit the ' +\n",
              "            '<a target=\"_blank\" href=https://colab.research.google.com/notebooks/data_table.ipynb>data table notebook</a>'\n",
              "            + ' to learn more about interactive tables.';\n",
              "          element.innerHTML = '';\n",
              "          dataTable['output_type'] = 'display_data';\n",
              "          await google.colab.output.renderOutput(dataTable, element);\n",
              "          const docLink = document.createElement('div');\n",
              "          docLink.innerHTML = docLinkHtml;\n",
              "          element.appendChild(docLink);\n",
              "        }\n",
              "      </script>\n",
              "    </div>\n",
              "  </div>\n",
              "  "
            ]
          },
          "metadata": {},
          "execution_count": 72
        }
      ]
    },
    {
      "cell_type": "markdown",
      "metadata": {
        "id": "eUW9nF_nQ75B"
      },
      "source": [
        "### 2. PySpark"
      ]
    },
    {
      "cell_type": "markdown",
      "metadata": {
        "id": "opLmy99IgnJr"
      },
      "source": [
        "a. What is the most common plate type?"
      ]
    },
    {
      "cell_type": "code",
      "source": [
        "%%time\n",
        "result2 = dfs.groupBy(\"Plate Type\").count()\n",
        "result2.sort(col('count').desc()).show()"
      ],
      "metadata": {
        "id": "NbEysD9b_I_s",
        "colab": {
          "base_uri": "https://localhost:8080/"
        },
        "outputId": "e8594023-6f81-4570-b3aa-8feadb080076"
      },
      "execution_count": 73,
      "outputs": [
        {
          "output_type": "stream",
          "name": "stdout",
          "text": [
            "+----------+-------+\n",
            "|Plate Type|  count|\n",
            "+----------+-------+\n",
            "|       PAS|6511094|\n",
            "|       COM|1887869|\n",
            "|       OMT| 235273|\n",
            "|       SRF|  96764|\n",
            "|       OMS|  75041|\n",
            "|       999|  64534|\n",
            "|       IRP|  59971|\n",
            "|       MOT|  23508|\n",
            "|       TRC|  22458|\n",
            "|       OMR|  17141|\n",
            "|       CMB|  13116|\n",
            "|       ORG|  12735|\n",
            "|       MED|  12382|\n",
            "|       OML|  10563|\n",
            "|       SPO|   7050|\n",
            "|       DLR|   5132|\n",
            "|       RGL|   4285|\n",
            "|       TOW|   4233|\n",
            "|       SRN|   4082|\n",
            "|       PSD|   3617|\n",
            "+----------+-------+\n",
            "only showing top 20 rows\n",
            "\n",
            "CPU times: user 87.8 ms, sys: 7.34 ms, total: 95.2 ms\n",
            "Wall time: 15.3 s\n"
          ]
        }
      ]
    },
    {
      "cell_type": "markdown",
      "metadata": {
        "id": "D7YKRsvCgZth"
      },
      "source": [
        "b. What registeration state has the highest rate?"
      ]
    },
    {
      "cell_type": "code",
      "source": [
        "%%time\n",
        "result2 = dfs.groupBy(\"Registration State\").count()\n",
        "result2.sort(col('count').desc()).show()"
      ],
      "metadata": {
        "id": "taVFOfD_Dm78",
        "colab": {
          "base_uri": "https://localhost:8080/"
        },
        "outputId": "ea4a6cf6-c2fc-4c19-f7c8-e688e2bf0f57"
      },
      "execution_count": 74,
      "outputs": [
        {
          "output_type": "stream",
          "name": "stdout",
          "text": [
            "+------------------+-------+\n",
            "|Registration State|  count|\n",
            "+------------------+-------+\n",
            "|                NY|7029804|\n",
            "|                NJ| 878677|\n",
            "|                PA| 225760|\n",
            "|                CT| 136973|\n",
            "|                FL| 111887|\n",
            "|                MA|  78650|\n",
            "|                VA|  60951|\n",
            "|                MD|  50407|\n",
            "|                IN|  49126|\n",
            "|                NC|  47117|\n",
            "|                99|  38080|\n",
            "|                IL|  31763|\n",
            "|                GA|  30837|\n",
            "|                AZ|  24245|\n",
            "|                TX|  24092|\n",
            "|                OH|  21995|\n",
            "|                CA|  20100|\n",
            "|                OK|  19688|\n",
            "|                SC|  19529|\n",
            "|                ME|  19459|\n",
            "+------------------+-------+\n",
            "only showing top 20 rows\n",
            "\n",
            "CPU times: user 73 ms, sys: 7.27 ms, total: 80.3 ms\n",
            "Wall time: 13.6 s\n"
          ]
        }
      ]
    },
    {
      "cell_type": "markdown",
      "metadata": {
        "id": "ittuE9WegZth"
      },
      "source": [
        "c. What is the most common vehicle body type?"
      ]
    },
    {
      "cell_type": "code",
      "source": [
        "%%time\n",
        "result2 = dfs.groupBy(\"Vehicle Body Type\").count()\n",
        "result2.sort(col('count').desc()).show()"
      ],
      "metadata": {
        "id": "8V7ILbVUD1r9",
        "colab": {
          "base_uri": "https://localhost:8080/"
        },
        "outputId": "239fcdb8-2f83-4a01-b506-b69730219f99"
      },
      "execution_count": 75,
      "outputs": [
        {
          "output_type": "stream",
          "name": "stdout",
          "text": [
            "+-----------------+-------+\n",
            "|Vehicle Body Type|  count|\n",
            "+-----------------+-------+\n",
            "|             SUBN|2797693|\n",
            "|             4DSD|2513584|\n",
            "|              VAN|1384393|\n",
            "|             DELV| 730526|\n",
            "|              SDN| 441801|\n",
            "|             2DSD| 255204|\n",
            "|             PICK| 226120|\n",
            "|             null| 110868|\n",
            "|             UTIL|  78454|\n",
            "|             REFG|  64904|\n",
            "|             TRAC|  62699|\n",
            "|             TRLR|  55643|\n",
            "|             TAXI|  50946|\n",
            "|              BUS|  43382|\n",
            "|             CONV|  41714|\n",
            "|              MCY|  28976|\n",
            "|              P-U|  24036|\n",
            "|             4 DR|  20630|\n",
            "|             FLAT|  12894|\n",
            "|             WAGO|  11936|\n",
            "+-----------------+-------+\n",
            "only showing top 20 rows\n",
            "\n",
            "CPU times: user 76.2 ms, sys: 10.4 ms, total: 86.6 ms\n",
            "Wall time: 14 s\n"
          ]
        }
      ]
    },
    {
      "cell_type": "markdown",
      "metadata": {
        "id": "DeW0cJccgZti"
      },
      "source": [
        "d. What is the most common vehicle colour?"
      ]
    },
    {
      "cell_type": "code",
      "source": [
        "%%time\n",
        "result2 = dfs.groupBy(\"Vehicle Color\").count()\n",
        "result2.sort(col('count').desc()).show()"
      ],
      "metadata": {
        "id": "6wiiaDa3D9wl",
        "colab": {
          "base_uri": "https://localhost:8080/"
        },
        "outputId": "3ab82d27-a93c-456e-d7b1-7d8fc5807d2f"
      },
      "execution_count": 76,
      "outputs": [
        {
          "output_type": "stream",
          "name": "stdout",
          "text": [
            "+-------------+-------+\n",
            "|Vehicle Color|  count|\n",
            "+-------------+-------+\n",
            "|        WHITE|1349234|\n",
            "|           GY|1214514|\n",
            "|           WH|1192996|\n",
            "|           BK| 941231|\n",
            "|        BLACK| 665519|\n",
            "|           BL| 442464|\n",
            "|         GREY| 417286|\n",
            "|        SILVE| 313929|\n",
            "|         BLUE| 301353|\n",
            "|           RD| 272836|\n",
            "|        BROWN| 271122|\n",
            "|          RED| 265215|\n",
            "|           GR| 201825|\n",
            "|        GREEN| 151007|\n",
            "|           TN| 132612|\n",
            "|        OTHER|  91436|\n",
            "|         null|  72442|\n",
            "|           BR|  71921|\n",
            "|          TAN|  70600|\n",
            "|           YW|  70001|\n",
            "+-------------+-------+\n",
            "only showing top 20 rows\n",
            "\n",
            "CPU times: user 70.4 ms, sys: 14.3 ms, total: 84.6 ms\n",
            "Wall time: 13.7 s\n"
          ]
        }
      ]
    },
    {
      "cell_type": "markdown",
      "metadata": {
        "id": "C6aRntfzgZti"
      },
      "source": [
        "e. Which year has the most issue?\n",
        "\n",
        "\n",
        "\n",
        "\n"
      ]
    },
    {
      "cell_type": "code",
      "execution_count": 89,
      "metadata": {
        "id": "VvTK6HsNZFsH",
        "colab": {
          "base_uri": "https://localhost:8080/"
        },
        "outputId": "0daa005e-e34f-484f-a19e-ca30b9789993"
      },
      "outputs": [
        {
          "output_type": "stream",
          "name": "stdout",
          "text": [
            "+----------+-------+\n",
            "|      Year|  count|\n",
            "+----------+-------+\n",
            "|      null|5476665|\n",
            "|2013-03-10|  41359|\n",
            "|2013-08-10|  41104|\n",
            "|2013-01-10|  40664|\n",
            "|2014-06-03|  40640|\n",
            "|2014-06-05|  40276|\n",
            "|2014-09-01|  39989|\n",
            "|2014-04-03|  39879|\n",
            "|2014-01-05|  39289|\n",
            "|2014-07-03|  38806|\n",
            "|2013-04-10|  38707|\n",
            "|2014-02-05|  38490|\n",
            "|2013-08-11|  38486|\n",
            "|2014-01-04|  38047|\n",
            "|2014-10-04|  38020|\n",
            "|2014-10-06|  38019|\n",
            "|2014-02-06|  37989|\n",
            "|2013-10-10|  37819|\n",
            "|2014-06-06|  37738|\n",
            "|2014-03-04|  37548|\n",
            "+----------+-------+\n",
            "only showing top 20 rows\n",
            "\n",
            "CPU times: user 410 ms, sys: 63.4 ms, total: 474 ms\n",
            "Wall time: 1min 20s\n"
          ]
        }
      ],
      "source": [
        "%%time\n",
        "dfs = dfs.withColumn('Year',dfs['Issue Date'].alias('YEAR'))\n",
        "result2 = dfs.groupBy(\"Year\").count()\n",
        "result2.sort(col('count').desc()).show()"
      ]
    },
    {
      "cell_type": "markdown",
      "metadata": {
        "id": "DmgT10D9RBrl"
      },
      "source": [
        "### 3. Koalas"
      ]
    },
    {
      "cell_type": "markdown",
      "metadata": {
        "id": "FuH17Qzkftvq"
      },
      "source": [
        "a. What is the most common plate type?"
      ]
    },
    {
      "cell_type": "code",
      "execution_count": 78,
      "metadata": {
        "id": "4jOUM803fUvq",
        "colab": {
          "base_uri": "https://localhost:8080/",
          "height": 274
        },
        "outputId": "1f070bc3-44f3-4458-8bf5-ac73f1177516"
      },
      "outputs": [
        {
          "output_type": "stream",
          "name": "stdout",
          "text": [
            "CPU times: user 44.5 ms, sys: 8.16 ms, total: 52.6 ms\n",
            "Wall time: 319 ms\n"
          ]
        },
        {
          "output_type": "execute_result",
          "data": {
            "text/plain": [
              "            Plate Type\n",
              "Plate Type            \n",
              "PAS            6511094\n",
              "COM            1887869\n",
              "OMT             235273\n",
              "SRF              96764\n",
              "OMS              75041"
            ],
            "text/html": [
              "<div>\n",
              "<style scoped>\n",
              "    .dataframe tbody tr th:only-of-type {\n",
              "        vertical-align: middle;\n",
              "    }\n",
              "\n",
              "    .dataframe tbody tr th {\n",
              "        vertical-align: top;\n",
              "    }\n",
              "\n",
              "    .dataframe thead th {\n",
              "        text-align: right;\n",
              "    }\n",
              "</style>\n",
              "<table border=\"1\" class=\"dataframe\">\n",
              "  <thead>\n",
              "    <tr style=\"text-align: right;\">\n",
              "      <th></th>\n",
              "      <th>Plate Type</th>\n",
              "    </tr>\n",
              "    <tr>\n",
              "      <th>Plate Type</th>\n",
              "      <th></th>\n",
              "    </tr>\n",
              "  </thead>\n",
              "  <tbody>\n",
              "    <tr>\n",
              "      <th>PAS</th>\n",
              "      <td>6511094</td>\n",
              "    </tr>\n",
              "    <tr>\n",
              "      <th>COM</th>\n",
              "      <td>1887869</td>\n",
              "    </tr>\n",
              "    <tr>\n",
              "      <th>OMT</th>\n",
              "      <td>235273</td>\n",
              "    </tr>\n",
              "    <tr>\n",
              "      <th>SRF</th>\n",
              "      <td>96764</td>\n",
              "    </tr>\n",
              "    <tr>\n",
              "      <th>OMS</th>\n",
              "      <td>75041</td>\n",
              "    </tr>\n",
              "  </tbody>\n",
              "</table>\n",
              "</div>"
            ]
          },
          "metadata": {},
          "execution_count": 78
        }
      ],
      "source": [
        "%%time\n",
        "result3 = dfk.groupby('Plate Type').agg({'Plate Type' : 'count'})\n",
        "result3.sort_values(by='Plate Type', ascending=False).head(5)"
      ]
    },
    {
      "cell_type": "markdown",
      "metadata": {
        "id": "upzzwj7Jf2fy"
      },
      "source": [
        "b. What registeration state has the highest rate?"
      ]
    },
    {
      "cell_type": "code",
      "execution_count": 79,
      "metadata": {
        "id": "3QgSMqDRgywN",
        "colab": {
          "base_uri": "https://localhost:8080/",
          "height": 274
        },
        "outputId": "946190df-fe97-4feb-978b-a14ee2fbf9e0"
      },
      "outputs": [
        {
          "output_type": "stream",
          "name": "stdout",
          "text": [
            "CPU times: user 45.5 ms, sys: 1.07 ms, total: 46.6 ms\n",
            "Wall time: 317 ms\n"
          ]
        },
        {
          "output_type": "execute_result",
          "data": {
            "text/plain": [
              "                    Registration State\n",
              "Registration State                    \n",
              "NY                             7029804\n",
              "NJ                              878677\n",
              "PA                              225760\n",
              "CT                              136973\n",
              "FL                              111887"
            ],
            "text/html": [
              "<div>\n",
              "<style scoped>\n",
              "    .dataframe tbody tr th:only-of-type {\n",
              "        vertical-align: middle;\n",
              "    }\n",
              "\n",
              "    .dataframe tbody tr th {\n",
              "        vertical-align: top;\n",
              "    }\n",
              "\n",
              "    .dataframe thead th {\n",
              "        text-align: right;\n",
              "    }\n",
              "</style>\n",
              "<table border=\"1\" class=\"dataframe\">\n",
              "  <thead>\n",
              "    <tr style=\"text-align: right;\">\n",
              "      <th></th>\n",
              "      <th>Registration State</th>\n",
              "    </tr>\n",
              "    <tr>\n",
              "      <th>Registration State</th>\n",
              "      <th></th>\n",
              "    </tr>\n",
              "  </thead>\n",
              "  <tbody>\n",
              "    <tr>\n",
              "      <th>NY</th>\n",
              "      <td>7029804</td>\n",
              "    </tr>\n",
              "    <tr>\n",
              "      <th>NJ</th>\n",
              "      <td>878677</td>\n",
              "    </tr>\n",
              "    <tr>\n",
              "      <th>PA</th>\n",
              "      <td>225760</td>\n",
              "    </tr>\n",
              "    <tr>\n",
              "      <th>CT</th>\n",
              "      <td>136973</td>\n",
              "    </tr>\n",
              "    <tr>\n",
              "      <th>FL</th>\n",
              "      <td>111887</td>\n",
              "    </tr>\n",
              "  </tbody>\n",
              "</table>\n",
              "</div>"
            ]
          },
          "metadata": {},
          "execution_count": 79
        }
      ],
      "source": [
        "%%time\n",
        "result3 = dfk.groupby('Registration State').agg({'Registration State' : 'count'})\n",
        "result3.sort_values(by='Registration State', ascending=False).head(5)"
      ]
    },
    {
      "cell_type": "markdown",
      "metadata": {
        "id": "hYaqPu-Xf-fT"
      },
      "source": [
        "c. What is the most common vehicle body type?"
      ]
    },
    {
      "cell_type": "code",
      "execution_count": 80,
      "metadata": {
        "id": "FUM44nYMg6J6",
        "colab": {
          "base_uri": "https://localhost:8080/",
          "height": 274
        },
        "outputId": "dafed8ad-94a3-4fb0-e287-a7f4e6740f1a"
      },
      "outputs": [
        {
          "output_type": "stream",
          "name": "stdout",
          "text": [
            "CPU times: user 53 ms, sys: 8.03 ms, total: 61 ms\n",
            "Wall time: 322 ms\n"
          ]
        },
        {
          "output_type": "execute_result",
          "data": {
            "text/plain": [
              "                   Vehicle Body Type\n",
              "Vehicle Body Type                   \n",
              "SUBN                         2797693\n",
              "4DSD                         2513584\n",
              "VAN                          1384393\n",
              "DELV                          730526\n",
              "SDN                           441801"
            ],
            "text/html": [
              "<div>\n",
              "<style scoped>\n",
              "    .dataframe tbody tr th:only-of-type {\n",
              "        vertical-align: middle;\n",
              "    }\n",
              "\n",
              "    .dataframe tbody tr th {\n",
              "        vertical-align: top;\n",
              "    }\n",
              "\n",
              "    .dataframe thead th {\n",
              "        text-align: right;\n",
              "    }\n",
              "</style>\n",
              "<table border=\"1\" class=\"dataframe\">\n",
              "  <thead>\n",
              "    <tr style=\"text-align: right;\">\n",
              "      <th></th>\n",
              "      <th>Vehicle Body Type</th>\n",
              "    </tr>\n",
              "    <tr>\n",
              "      <th>Vehicle Body Type</th>\n",
              "      <th></th>\n",
              "    </tr>\n",
              "  </thead>\n",
              "  <tbody>\n",
              "    <tr>\n",
              "      <th>SUBN</th>\n",
              "      <td>2797693</td>\n",
              "    </tr>\n",
              "    <tr>\n",
              "      <th>4DSD</th>\n",
              "      <td>2513584</td>\n",
              "    </tr>\n",
              "    <tr>\n",
              "      <th>VAN</th>\n",
              "      <td>1384393</td>\n",
              "    </tr>\n",
              "    <tr>\n",
              "      <th>DELV</th>\n",
              "      <td>730526</td>\n",
              "    </tr>\n",
              "    <tr>\n",
              "      <th>SDN</th>\n",
              "      <td>441801</td>\n",
              "    </tr>\n",
              "  </tbody>\n",
              "</table>\n",
              "</div>"
            ]
          },
          "metadata": {},
          "execution_count": 80
        }
      ],
      "source": [
        "%%time\n",
        "result3 = dfk.groupby('Vehicle Body Type').agg({'Vehicle Body Type' : 'count'})\n",
        "result3.sort_values(by='Vehicle Body Type', ascending=False).head(5)"
      ]
    },
    {
      "cell_type": "markdown",
      "metadata": {
        "id": "Ag8omTzDgGHO"
      },
      "source": [
        "d. What is the most common vehicle colour?"
      ]
    },
    {
      "cell_type": "code",
      "execution_count": 81,
      "metadata": {
        "id": "SQ-pPxNsh6M_",
        "colab": {
          "base_uri": "https://localhost:8080/",
          "height": 274
        },
        "outputId": "02219655-dc8f-433a-fe29-8243eb11c47c"
      },
      "outputs": [
        {
          "output_type": "stream",
          "name": "stdout",
          "text": [
            "CPU times: user 44.8 ms, sys: 5.27 ms, total: 50 ms\n",
            "Wall time: 262 ms\n"
          ]
        },
        {
          "output_type": "execute_result",
          "data": {
            "text/plain": [
              "               Vehicle Color\n",
              "Vehicle Color               \n",
              "WHITE                1349234\n",
              "GY                   1214514\n",
              "WH                   1192996\n",
              "BK                    941231\n",
              "BLACK                 665519"
            ],
            "text/html": [
              "<div>\n",
              "<style scoped>\n",
              "    .dataframe tbody tr th:only-of-type {\n",
              "        vertical-align: middle;\n",
              "    }\n",
              "\n",
              "    .dataframe tbody tr th {\n",
              "        vertical-align: top;\n",
              "    }\n",
              "\n",
              "    .dataframe thead th {\n",
              "        text-align: right;\n",
              "    }\n",
              "</style>\n",
              "<table border=\"1\" class=\"dataframe\">\n",
              "  <thead>\n",
              "    <tr style=\"text-align: right;\">\n",
              "      <th></th>\n",
              "      <th>Vehicle Color</th>\n",
              "    </tr>\n",
              "    <tr>\n",
              "      <th>Vehicle Color</th>\n",
              "      <th></th>\n",
              "    </tr>\n",
              "  </thead>\n",
              "  <tbody>\n",
              "    <tr>\n",
              "      <th>WHITE</th>\n",
              "      <td>1349234</td>\n",
              "    </tr>\n",
              "    <tr>\n",
              "      <th>GY</th>\n",
              "      <td>1214514</td>\n",
              "    </tr>\n",
              "    <tr>\n",
              "      <th>WH</th>\n",
              "      <td>1192996</td>\n",
              "    </tr>\n",
              "    <tr>\n",
              "      <th>BK</th>\n",
              "      <td>941231</td>\n",
              "    </tr>\n",
              "    <tr>\n",
              "      <th>BLACK</th>\n",
              "      <td>665519</td>\n",
              "    </tr>\n",
              "  </tbody>\n",
              "</table>\n",
              "</div>"
            ]
          },
          "metadata": {},
          "execution_count": 81
        }
      ],
      "source": [
        "%%time\n",
        "result3 = dfk.groupby('Vehicle Color').agg({'Vehicle Color' : 'count'})\n",
        "result3.sort_values(by='Vehicle Color', ascending=False).head(5)"
      ]
    },
    {
      "cell_type": "markdown",
      "metadata": {
        "id": "xmejGtfBgQZi"
      },
      "source": [
        "e. Which year has the most issue?"
      ]
    },
    {
      "cell_type": "code",
      "execution_count": 94,
      "metadata": {
        "id": "6cAvo862h-ik",
        "colab": {
          "base_uri": "https://localhost:8080/",
          "height": 274
        },
        "outputId": "425937d6-d0db-4c4a-8816-4aca9be3f2e8"
      },
      "outputs": [
        {
          "output_type": "stream",
          "name": "stdout",
          "text": [
            "CPU times: user 117 ms, sys: 20.6 ms, total: 138 ms\n",
            "Wall time: 773 ms\n"
          ]
        },
        {
          "output_type": "execute_result",
          "data": {
            "text/plain": [
              "         Year\n",
              "Year         \n",
              "2014  4716512\n",
              "2013  4379109\n",
              "2015     1522\n",
              "2012      618\n",
              "2019      329"
            ],
            "text/html": [
              "<div>\n",
              "<style scoped>\n",
              "    .dataframe tbody tr th:only-of-type {\n",
              "        vertical-align: middle;\n",
              "    }\n",
              "\n",
              "    .dataframe tbody tr th {\n",
              "        vertical-align: top;\n",
              "    }\n",
              "\n",
              "    .dataframe thead th {\n",
              "        text-align: right;\n",
              "    }\n",
              "</style>\n",
              "<table border=\"1\" class=\"dataframe\">\n",
              "  <thead>\n",
              "    <tr style=\"text-align: right;\">\n",
              "      <th></th>\n",
              "      <th>Year</th>\n",
              "    </tr>\n",
              "    <tr>\n",
              "      <th>Year</th>\n",
              "      <th></th>\n",
              "    </tr>\n",
              "  </thead>\n",
              "  <tbody>\n",
              "    <tr>\n",
              "      <th>2014</th>\n",
              "      <td>4716512</td>\n",
              "    </tr>\n",
              "    <tr>\n",
              "      <th>2013</th>\n",
              "      <td>4379109</td>\n",
              "    </tr>\n",
              "    <tr>\n",
              "      <th>2015</th>\n",
              "      <td>1522</td>\n",
              "    </tr>\n",
              "    <tr>\n",
              "      <th>2012</th>\n",
              "      <td>618</td>\n",
              "    </tr>\n",
              "    <tr>\n",
              "      <th>2019</th>\n",
              "      <td>329</td>\n",
              "    </tr>\n",
              "  </tbody>\n",
              "</table>\n",
              "</div>"
            ]
          },
          "metadata": {},
          "execution_count": 94
        }
      ],
      "source": [
        "%%time\n",
        "dfk['Year'] = dfk['Issue Date'].dt.year\n",
        "result3 = dfk.groupby('Year').agg({'Year' : 'count'})\n",
        "result3.sort_values(by='Year', ascending=False).head(5)"
      ]
    },
    {
      "cell_type": "markdown",
      "source": [
        "# Findings and Analysis\n",
        "We will compare the performance between 3 Libraries"
      ],
      "metadata": {
        "id": "9pZlD8UN38MU"
      }
    },
    {
      "cell_type": "markdown",
      "source": [
        "### Data Preparation and Cleaning Performace"
      ],
      "metadata": {
        "id": "d8ag8ItZBROq"
      }
    },
    {
      "cell_type": "code",
      "source": [
        "import pandas as pd\n",
        "import matplotlib.pyplot as plt\n",
        "test1 = ['Read Dataset', 'Size Checking', 'Dealing with Null Value', 'Data Tansformation', 'Drop Duplicates']\n",
        "result1 = pd.DataFrame({'Dask': [1790, 9.06, 6600, 30.9, 2330], \n",
        "                        'Pyspark': [70000, 6470, 514000, 22.6, 273], \n",
        "                        'Koalas' : [79000, 9490, 75000, 1130, 000]}, \n",
        "                        index = test1)\n",
        "result1"
      ],
      "metadata": {
        "id": "y9GXhSQD8Nh4",
        "colab": {
          "base_uri": "https://localhost:8080/",
          "height": 206
        },
        "outputId": "a966f447-bff9-438f-9673-6d75ea2ad39b"
      },
      "execution_count": 83,
      "outputs": [
        {
          "output_type": "execute_result",
          "data": {
            "text/plain": [
              "                            Dask   Pyspark  Koalas\n",
              "Read Dataset             1790.00   70000.0   79000\n",
              "Size Checking               9.06    6470.0    9490\n",
              "Dealing with Null Value  6600.00  514000.0   75000\n",
              "Data Tansformation         30.90      22.6    1130\n",
              "Drop Duplicates          2330.00     273.0       0"
            ],
            "text/html": [
              "\n",
              "  <div id=\"df-61bd072c-8bf6-4ebb-a17e-8cf8be4b90f8\">\n",
              "    <div class=\"colab-df-container\">\n",
              "      <div>\n",
              "<style scoped>\n",
              "    .dataframe tbody tr th:only-of-type {\n",
              "        vertical-align: middle;\n",
              "    }\n",
              "\n",
              "    .dataframe tbody tr th {\n",
              "        vertical-align: top;\n",
              "    }\n",
              "\n",
              "    .dataframe thead th {\n",
              "        text-align: right;\n",
              "    }\n",
              "</style>\n",
              "<table border=\"1\" class=\"dataframe\">\n",
              "  <thead>\n",
              "    <tr style=\"text-align: right;\">\n",
              "      <th></th>\n",
              "      <th>Dask</th>\n",
              "      <th>Pyspark</th>\n",
              "      <th>Koalas</th>\n",
              "    </tr>\n",
              "  </thead>\n",
              "  <tbody>\n",
              "    <tr>\n",
              "      <th>Read Dataset</th>\n",
              "      <td>1790.00</td>\n",
              "      <td>70000.0</td>\n",
              "      <td>79000</td>\n",
              "    </tr>\n",
              "    <tr>\n",
              "      <th>Size Checking</th>\n",
              "      <td>9.06</td>\n",
              "      <td>6470.0</td>\n",
              "      <td>9490</td>\n",
              "    </tr>\n",
              "    <tr>\n",
              "      <th>Dealing with Null Value</th>\n",
              "      <td>6600.00</td>\n",
              "      <td>514000.0</td>\n",
              "      <td>75000</td>\n",
              "    </tr>\n",
              "    <tr>\n",
              "      <th>Data Tansformation</th>\n",
              "      <td>30.90</td>\n",
              "      <td>22.6</td>\n",
              "      <td>1130</td>\n",
              "    </tr>\n",
              "    <tr>\n",
              "      <th>Drop Duplicates</th>\n",
              "      <td>2330.00</td>\n",
              "      <td>273.0</td>\n",
              "      <td>0</td>\n",
              "    </tr>\n",
              "  </tbody>\n",
              "</table>\n",
              "</div>\n",
              "      <button class=\"colab-df-convert\" onclick=\"convertToInteractive('df-61bd072c-8bf6-4ebb-a17e-8cf8be4b90f8')\"\n",
              "              title=\"Convert this dataframe to an interactive table.\"\n",
              "              style=\"display:none;\">\n",
              "        \n",
              "  <svg xmlns=\"http://www.w3.org/2000/svg\" height=\"24px\"viewBox=\"0 0 24 24\"\n",
              "       width=\"24px\">\n",
              "    <path d=\"M0 0h24v24H0V0z\" fill=\"none\"/>\n",
              "    <path d=\"M18.56 5.44l.94 2.06.94-2.06 2.06-.94-2.06-.94-.94-2.06-.94 2.06-2.06.94zm-11 1L8.5 8.5l.94-2.06 2.06-.94-2.06-.94L8.5 2.5l-.94 2.06-2.06.94zm10 10l.94 2.06.94-2.06 2.06-.94-2.06-.94-.94-2.06-.94 2.06-2.06.94z\"/><path d=\"M17.41 7.96l-1.37-1.37c-.4-.4-.92-.59-1.43-.59-.52 0-1.04.2-1.43.59L10.3 9.45l-7.72 7.72c-.78.78-.78 2.05 0 2.83L4 21.41c.39.39.9.59 1.41.59.51 0 1.02-.2 1.41-.59l7.78-7.78 2.81-2.81c.8-.78.8-2.07 0-2.86zM5.41 20L4 18.59l7.72-7.72 1.47 1.35L5.41 20z\"/>\n",
              "  </svg>\n",
              "      </button>\n",
              "      \n",
              "  <style>\n",
              "    .colab-df-container {\n",
              "      display:flex;\n",
              "      flex-wrap:wrap;\n",
              "      gap: 12px;\n",
              "    }\n",
              "\n",
              "    .colab-df-convert {\n",
              "      background-color: #E8F0FE;\n",
              "      border: none;\n",
              "      border-radius: 50%;\n",
              "      cursor: pointer;\n",
              "      display: none;\n",
              "      fill: #1967D2;\n",
              "      height: 32px;\n",
              "      padding: 0 0 0 0;\n",
              "      width: 32px;\n",
              "    }\n",
              "\n",
              "    .colab-df-convert:hover {\n",
              "      background-color: #E2EBFA;\n",
              "      box-shadow: 0px 1px 2px rgba(60, 64, 67, 0.3), 0px 1px 3px 1px rgba(60, 64, 67, 0.15);\n",
              "      fill: #174EA6;\n",
              "    }\n",
              "\n",
              "    [theme=dark] .colab-df-convert {\n",
              "      background-color: #3B4455;\n",
              "      fill: #D2E3FC;\n",
              "    }\n",
              "\n",
              "    [theme=dark] .colab-df-convert:hover {\n",
              "      background-color: #434B5C;\n",
              "      box-shadow: 0px 1px 3px 1px rgba(0, 0, 0, 0.15);\n",
              "      filter: drop-shadow(0px 1px 2px rgba(0, 0, 0, 0.3));\n",
              "      fill: #FFFFFF;\n",
              "    }\n",
              "  </style>\n",
              "\n",
              "      <script>\n",
              "        const buttonEl =\n",
              "          document.querySelector('#df-61bd072c-8bf6-4ebb-a17e-8cf8be4b90f8 button.colab-df-convert');\n",
              "        buttonEl.style.display =\n",
              "          google.colab.kernel.accessAllowed ? 'block' : 'none';\n",
              "\n",
              "        async function convertToInteractive(key) {\n",
              "          const element = document.querySelector('#df-61bd072c-8bf6-4ebb-a17e-8cf8be4b90f8');\n",
              "          const dataTable =\n",
              "            await google.colab.kernel.invokeFunction('convertToInteractive',\n",
              "                                                     [key], {});\n",
              "          if (!dataTable) return;\n",
              "\n",
              "          const docLinkHtml = 'Like what you see? Visit the ' +\n",
              "            '<a target=\"_blank\" href=https://colab.research.google.com/notebooks/data_table.ipynb>data table notebook</a>'\n",
              "            + ' to learn more about interactive tables.';\n",
              "          element.innerHTML = '';\n",
              "          dataTable['output_type'] = 'display_data';\n",
              "          await google.colab.output.renderOutput(dataTable, element);\n",
              "          const docLink = document.createElement('div');\n",
              "          docLink.innerHTML = docLinkHtml;\n",
              "          element.appendChild(docLink);\n",
              "        }\n",
              "      </script>\n",
              "    </div>\n",
              "  </div>\n",
              "  "
            ]
          },
          "metadata": {},
          "execution_count": 83
        }
      ]
    },
    {
      "cell_type": "code",
      "source": [
        "for test in result1.index:\n",
        "  result1.loc[test].plot(kind='bar', title=test)\n",
        "  plt.ylabel(\"milliseconds\")\n",
        "  plt.show()"
      ],
      "metadata": {
        "id": "LSlKLRdJEQHp",
        "colab": {
          "base_uri": "https://localhost:8080/",
          "height": 1000
        },
        "outputId": "a622715a-4a6d-4907-c444-f5157eae43ae"
      },
      "execution_count": 84,
      "outputs": [
        {
          "output_type": "display_data",
          "data": {
            "text/plain": [
              "<Figure size 432x288 with 1 Axes>"
            ],
            "image/png": "[encoded data removed]"
          },
          "metadata": {
            "needs_background": "light"
          }
        },
        {
          "output_type": "display_data",
          "data": {
            "text/plain": [
              "<Figure size 432x288 with 1 Axes>"
            ],
            "image/png": "[encoded data removed]"
          },
          "metadata": {
            "needs_background": "light"
          }
        },
        {
          "output_type": "display_data",
          "data": {
            "text/plain": [
              "<Figure size 432x288 with 1 Axes>"
            ],
            "image/png": "[encoded data removed]"
          },
          "metadata": {
            "needs_background": "light"
          }
        },
        {
          "output_type": "display_data",
          "data": {
            "text/plain": [
              "<Figure size 432x288 with 1 Axes>"
            ],
            "image/png": "[encoded data removed]"
          },
          "metadata": {
            "needs_background": "light"
          }
        },
        {
          "output_type": "display_data",
          "data": {
            "text/plain": [
              "<Figure size 432x288 with 1 Axes>"
            ],
            "image/png": "[encoded data removed]"
          },
          "metadata": {
            "needs_background": "light"
          }
        }
      ]
    },
    {
      "cell_type": "markdown",
      "source": [
        "### Data Visualization Performace"
      ],
      "metadata": {
        "id": "g8UYor5GBcO6"
      }
    },
    {
      "cell_type": "code",
      "source": [
        "test2 = ['Pie Chart', 'Line Plot', 'Bar Plot', 'Histogram']\n",
        "result2 = pd.DataFrame({'Dask': [1790, 9.06, 6600, 30.9], \n",
        "                        'Pyspark': [70000, 6470, 514000, 22.6], \n",
        "                        'Koalas' : [79000, 9490, 75000, 1130]}, \n",
        "                        index = test2)\n",
        "result2"
      ],
      "metadata": {
        "id": "QRgeZIJABgkH",
        "colab": {
          "base_uri": "https://localhost:8080/",
          "height": 175
        },
        "outputId": "12b91800-dd0d-4958-b0d8-2fde9bee86ae"
      },
      "execution_count": 85,
      "outputs": [
        {
          "output_type": "execute_result",
          "data": {
            "text/plain": [
              "              Dask   Pyspark  Koalas\n",
              "Pie Chart  1790.00   70000.0   79000\n",
              "Line Plot     9.06    6470.0    9490\n",
              "Bar Plot   6600.00  514000.0   75000\n",
              "Histogram    30.90      22.6    1130"
            ],
            "text/html": [
              "\n",
              "  <div id=\"df-54f8d619-a98a-4f44-94b4-8eb06923837e\">\n",
              "    <div class=\"colab-df-container\">\n",
              "      <div>\n",
              "<style scoped>\n",
              "    .dataframe tbody tr th:only-of-type {\n",
              "        vertical-align: middle;\n",
              "    }\n",
              "\n",
              "    .dataframe tbody tr th {\n",
              "        vertical-align: top;\n",
              "    }\n",
              "\n",
              "    .dataframe thead th {\n",
              "        text-align: right;\n",
              "    }\n",
              "</style>\n",
              "<table border=\"1\" class=\"dataframe\">\n",
              "  <thead>\n",
              "    <tr style=\"text-align: right;\">\n",
              "      <th></th>\n",
              "      <th>Dask</th>\n",
              "      <th>Pyspark</th>\n",
              "      <th>Koalas</th>\n",
              "    </tr>\n",
              "  </thead>\n",
              "  <tbody>\n",
              "    <tr>\n",
              "      <th>Pie Chart</th>\n",
              "      <td>1790.00</td>\n",
              "      <td>70000.0</td>\n",
              "      <td>79000</td>\n",
              "    </tr>\n",
              "    <tr>\n",
              "      <th>Line Plot</th>\n",
              "      <td>9.06</td>\n",
              "      <td>6470.0</td>\n",
              "      <td>9490</td>\n",
              "    </tr>\n",
              "    <tr>\n",
              "      <th>Bar Plot</th>\n",
              "      <td>6600.00</td>\n",
              "      <td>514000.0</td>\n",
              "      <td>75000</td>\n",
              "    </tr>\n",
              "    <tr>\n",
              "      <th>Histogram</th>\n",
              "      <td>30.90</td>\n",
              "      <td>22.6</td>\n",
              "      <td>1130</td>\n",
              "    </tr>\n",
              "  </tbody>\n",
              "</table>\n",
              "</div>\n",
              "      <button class=\"colab-df-convert\" onclick=\"convertToInteractive('df-54f8d619-a98a-4f44-94b4-8eb06923837e')\"\n",
              "              title=\"Convert this dataframe to an interactive table.\"\n",
              "              style=\"display:none;\">\n",
              "        \n",
              "  <svg xmlns=\"http://www.w3.org/2000/svg\" height=\"24px\"viewBox=\"0 0 24 24\"\n",
              "       width=\"24px\">\n",
              "    <path d=\"M0 0h24v24H0V0z\" fill=\"none\"/>\n",
              "    <path d=\"M18.56 5.44l.94 2.06.94-2.06 2.06-.94-2.06-.94-.94-2.06-.94 2.06-2.06.94zm-11 1L8.5 8.5l.94-2.06 2.06-.94-2.06-.94L8.5 2.5l-.94 2.06-2.06.94zm10 10l.94 2.06.94-2.06 2.06-.94-2.06-.94-.94-2.06-.94 2.06-2.06.94z\"/><path d=\"M17.41 7.96l-1.37-1.37c-.4-.4-.92-.59-1.43-.59-.52 0-1.04.2-1.43.59L10.3 9.45l-7.72 7.72c-.78.78-.78 2.05 0 2.83L4 21.41c.39.39.9.59 1.41.59.51 0 1.02-.2 1.41-.59l7.78-7.78 2.81-2.81c.8-.78.8-2.07 0-2.86zM5.41 20L4 18.59l7.72-7.72 1.47 1.35L5.41 20z\"/>\n",
              "  </svg>\n",
              "      </button>\n",
              "      \n",
              "  <style>\n",
              "    .colab-df-container {\n",
              "      display:flex;\n",
              "      flex-wrap:wrap;\n",
              "      gap: 12px;\n",
              "    }\n",
              "\n",
              "    .colab-df-convert {\n",
              "      background-color: #E8F0FE;\n",
              "      border: none;\n",
              "      border-radius: 50%;\n",
              "      cursor: pointer;\n",
              "      display: none;\n",
              "      fill: #1967D2;\n",
              "      height: 32px;\n",
              "      padding: 0 0 0 0;\n",
              "      width: 32px;\n",
              "    }\n",
              "\n",
              "    .colab-df-convert:hover {\n",
              "      background-color: #E2EBFA;\n",
              "      box-shadow: 0px 1px 2px rgba(60, 64, 67, 0.3), 0px 1px 3px 1px rgba(60, 64, 67, 0.15);\n",
              "      fill: #174EA6;\n",
              "    }\n",
              "\n",
              "    [theme=dark] .colab-df-convert {\n",
              "      background-color: #3B4455;\n",
              "      fill: #D2E3FC;\n",
              "    }\n",
              "\n",
              "    [theme=dark] .colab-df-convert:hover {\n",
              "      background-color: #434B5C;\n",
              "      box-shadow: 0px 1px 3px 1px rgba(0, 0, 0, 0.15);\n",
              "      filter: drop-shadow(0px 1px 2px rgba(0, 0, 0, 0.3));\n",
              "      fill: #FFFFFF;\n",
              "    }\n",
              "  </style>\n",
              "\n",
              "      <script>\n",
              "        const buttonEl =\n",
              "          document.querySelector('#df-54f8d619-a98a-4f44-94b4-8eb06923837e button.colab-df-convert');\n",
              "        buttonEl.style.display =\n",
              "          google.colab.kernel.accessAllowed ? 'block' : 'none';\n",
              "\n",
              "        async function convertToInteractive(key) {\n",
              "          const element = document.querySelector('#df-54f8d619-a98a-4f44-94b4-8eb06923837e');\n",
              "          const dataTable =\n",
              "            await google.colab.kernel.invokeFunction('convertToInteractive',\n",
              "                                                     [key], {});\n",
              "          if (!dataTable) return;\n",
              "\n",
              "          const docLinkHtml = 'Like what you see? Visit the ' +\n",
              "            '<a target=\"_blank\" href=https://colab.research.google.com/notebooks/data_table.ipynb>data table notebook</a>'\n",
              "            + ' to learn more about interactive tables.';\n",
              "          element.innerHTML = '';\n",
              "          dataTable['output_type'] = 'display_data';\n",
              "          await google.colab.output.renderOutput(dataTable, element);\n",
              "          const docLink = document.createElement('div');\n",
              "          docLink.innerHTML = docLinkHtml;\n",
              "          element.appendChild(docLink);\n",
              "        }\n",
              "      </script>\n",
              "    </div>\n",
              "  </div>\n",
              "  "
            ]
          },
          "metadata": {},
          "execution_count": 85
        }
      ]
    },
    {
      "cell_type": "code",
      "source": [
        "for test in result2.index:\n",
        "  result2.loc[test].plot(kind='bar', title=test)\n",
        "  plt.ylabel(\"milliseconds\")\n",
        "  plt.show()"
      ],
      "metadata": {
        "id": "WQjtN3clEeJC",
        "colab": {
          "base_uri": "https://localhost:8080/",
          "height": 662
        },
        "outputId": "31110157-7f45-4400-804d-4f27e0988fb7"
      },
      "execution_count": 86,
      "outputs": [
        {
          "output_type": "error",
          "ename": "ValueError",
          "evalue": "ignored",
          "traceback": [
            "\u001b[0;31m---------------------------------------------------------------------------\u001b[0m",
            "\u001b[0;31mValueError\u001b[0m                                Traceback (most recent call last)",
            "\u001b[0;32m<ipython-input-86-fc9795eeedd6>\u001b[0m in \u001b[0;36m<module>\u001b[0;34m\u001b[0m\n\u001b[1;32m      1\u001b[0m \u001b[0;32mfor\u001b[0m \u001b[0mtest\u001b[0m \u001b[0;32min\u001b[0m \u001b[0mresult2\u001b[0m\u001b[0;34m.\u001b[0m\u001b[0mindex\u001b[0m\u001b[0;34m:\u001b[0m\u001b[0;34m\u001b[0m\u001b[0;34m\u001b[0m\u001b[0m\n\u001b[0;32m----> 2\u001b[0;31m   \u001b[0mresult2\u001b[0m\u001b[0;34m.\u001b[0m\u001b[0mloc\u001b[0m\u001b[0;34m[\u001b[0m\u001b[0mtest\u001b[0m\u001b[0;34m]\u001b[0m\u001b[0;34m.\u001b[0m\u001b[0mplot\u001b[0m\u001b[0;34m(\u001b[0m\u001b[0mkind\u001b[0m\u001b[0;34m=\u001b[0m\u001b[0;34m'bar'\u001b[0m\u001b[0;34m,\u001b[0m \u001b[0mtitle\u001b[0m\u001b[0;34m=\u001b[0m\u001b[0mtest2\u001b[0m\u001b[0;34m)\u001b[0m\u001b[0;34m\u001b[0m\u001b[0;34m\u001b[0m\u001b[0m\n\u001b[0m\u001b[1;32m      3\u001b[0m   \u001b[0mplt\u001b[0m\u001b[0;34m.\u001b[0m\u001b[0mylabel\u001b[0m\u001b[0;34m(\u001b[0m\u001b[0;34m\"milliseconds\"\u001b[0m\u001b[0;34m)\u001b[0m\u001b[0;34m\u001b[0m\u001b[0;34m\u001b[0m\u001b[0m\n\u001b[1;32m      4\u001b[0m   \u001b[0mplt\u001b[0m\u001b[0;34m.\u001b[0m\u001b[0mshow\u001b[0m\u001b[0;34m(\u001b[0m\u001b[0;34m)\u001b[0m\u001b[0;34m\u001b[0m\u001b[0;34m\u001b[0m\u001b[0m\n",
            "\u001b[0;32m/usr/local/lib/python3.8/dist-packages/pandas/plotting/_core.py\u001b[0m in \u001b[0;36m__call__\u001b[0;34m(self, *args, **kwargs)\u001b[0m\n\u001b[1;32m    970\u001b[0m                     \u001b[0mdata\u001b[0m\u001b[0;34m.\u001b[0m\u001b[0mcolumns\u001b[0m \u001b[0;34m=\u001b[0m \u001b[0mlabel_name\u001b[0m\u001b[0;34m\u001b[0m\u001b[0;34m\u001b[0m\u001b[0m\n\u001b[1;32m    971\u001b[0m \u001b[0;34m\u001b[0m\u001b[0m\n\u001b[0;32m--> 972\u001b[0;31m         \u001b[0;32mreturn\u001b[0m \u001b[0mplot_backend\u001b[0m\u001b[0;34m.\u001b[0m\u001b[0mplot\u001b[0m\u001b[0;34m(\u001b[0m\u001b[0mdata\u001b[0m\u001b[0;34m,\u001b[0m \u001b[0mkind\u001b[0m\u001b[0;34m=\u001b[0m\u001b[0mkind\u001b[0m\u001b[0;34m,\u001b[0m \u001b[0;34m**\u001b[0m\u001b[0mkwargs\u001b[0m\u001b[0;34m)\u001b[0m\u001b[0;34m\u001b[0m\u001b[0;34m\u001b[0m\u001b[0m\n\u001b[0m\u001b[1;32m    973\u001b[0m \u001b[0;34m\u001b[0m\u001b[0m\n\u001b[1;32m    974\u001b[0m     \u001b[0m__call__\u001b[0m\u001b[0;34m.\u001b[0m\u001b[0m__doc__\u001b[0m \u001b[0;34m=\u001b[0m \u001b[0m__doc__\u001b[0m\u001b[0;34m\u001b[0m\u001b[0;34m\u001b[0m\u001b[0m\n",
            "\u001b[0;32m/usr/local/lib/python3.8/dist-packages/pandas/plotting/_matplotlib/__init__.py\u001b[0m in \u001b[0;36mplot\u001b[0;34m(data, kind, **kwargs)\u001b[0m\n\u001b[1;32m     69\u001b[0m             \u001b[0mkwargs\u001b[0m\u001b[0;34m[\u001b[0m\u001b[0;34m\"ax\"\u001b[0m\u001b[0;34m]\u001b[0m \u001b[0;34m=\u001b[0m \u001b[0mgetattr\u001b[0m\u001b[0;34m(\u001b[0m\u001b[0max\u001b[0m\u001b[0;34m,\u001b[0m \u001b[0;34m\"left_ax\"\u001b[0m\u001b[0;34m,\u001b[0m \u001b[0max\u001b[0m\u001b[0;34m)\u001b[0m\u001b[0;34m\u001b[0m\u001b[0;34m\u001b[0m\u001b[0m\n\u001b[1;32m     70\u001b[0m     \u001b[0mplot_obj\u001b[0m \u001b[0;34m=\u001b[0m \u001b[0mPLOT_CLASSES\u001b[0m\u001b[0;34m[\u001b[0m\u001b[0mkind\u001b[0m\u001b[0;34m]\u001b[0m\u001b[0;34m(\u001b[0m\u001b[0mdata\u001b[0m\u001b[0;34m,\u001b[0m \u001b[0;34m**\u001b[0m\u001b[0mkwargs\u001b[0m\u001b[0;34m)\u001b[0m\u001b[0;34m\u001b[0m\u001b[0;34m\u001b[0m\u001b[0m\n\u001b[0;32m---> 71\u001b[0;31m     \u001b[0mplot_obj\u001b[0m\u001b[0;34m.\u001b[0m\u001b[0mgenerate\u001b[0m\u001b[0;34m(\u001b[0m\u001b[0;34m)\u001b[0m\u001b[0;34m\u001b[0m\u001b[0;34m\u001b[0m\u001b[0m\n\u001b[0m\u001b[1;32m     72\u001b[0m     \u001b[0mplot_obj\u001b[0m\u001b[0;34m.\u001b[0m\u001b[0mdraw\u001b[0m\u001b[0;34m(\u001b[0m\u001b[0;34m)\u001b[0m\u001b[0;34m\u001b[0m\u001b[0;34m\u001b[0m\u001b[0m\n\u001b[1;32m     73\u001b[0m     \u001b[0;32mreturn\u001b[0m \u001b[0mplot_obj\u001b[0m\u001b[0;34m.\u001b[0m\u001b[0mresult\u001b[0m\u001b[0;34m\u001b[0m\u001b[0;34m\u001b[0m\u001b[0m\n",
            "\u001b[0;32m/usr/local/lib/python3.8/dist-packages/pandas/plotting/_matplotlib/core.py\u001b[0m in \u001b[0;36mgenerate\u001b[0;34m(self)\u001b[0m\n\u001b[1;32m    289\u001b[0m         \u001b[0mself\u001b[0m\u001b[0;34m.\u001b[0m\u001b[0m_add_table\u001b[0m\u001b[0;34m(\u001b[0m\u001b[0;34m)\u001b[0m\u001b[0;34m\u001b[0m\u001b[0;34m\u001b[0m\u001b[0m\n\u001b[1;32m    290\u001b[0m         \u001b[0mself\u001b[0m\u001b[0;34m.\u001b[0m\u001b[0m_make_legend\u001b[0m\u001b[0;34m(\u001b[0m\u001b[0;34m)\u001b[0m\u001b[0;34m\u001b[0m\u001b[0;34m\u001b[0m\u001b[0m\n\u001b[0;32m--> 291\u001b[0;31m         \u001b[0mself\u001b[0m\u001b[0;34m.\u001b[0m\u001b[0m_adorn_subplots\u001b[0m\u001b[0;34m(\u001b[0m\u001b[0;34m)\u001b[0m\u001b[0;34m\u001b[0m\u001b[0;34m\u001b[0m\u001b[0m\n\u001b[0m\u001b[1;32m    292\u001b[0m \u001b[0;34m\u001b[0m\u001b[0m\n\u001b[1;32m    293\u001b[0m         \u001b[0;32mfor\u001b[0m \u001b[0max\u001b[0m \u001b[0;32min\u001b[0m \u001b[0mself\u001b[0m\u001b[0;34m.\u001b[0m\u001b[0maxes\u001b[0m\u001b[0;34m:\u001b[0m\u001b[0;34m\u001b[0m\u001b[0;34m\u001b[0m\u001b[0m\n",
            "\u001b[0;32m/usr/local/lib/python3.8/dist-packages/pandas/plotting/_matplotlib/core.py\u001b[0m in \u001b[0;36m_adorn_subplots\u001b[0;34m(self)\u001b[0m\n\u001b[1;32m    547\u001b[0m                         \u001b[0;34m\"unless `subplots=True` is passed\"\u001b[0m\u001b[0;34m\u001b[0m\u001b[0;34m\u001b[0m\u001b[0m\n\u001b[1;32m    548\u001b[0m                     )\n\u001b[0;32m--> 549\u001b[0;31m                     \u001b[0;32mraise\u001b[0m \u001b[0mValueError\u001b[0m\u001b[0;34m(\u001b[0m\u001b[0mmsg\u001b[0m\u001b[0;34m)\u001b[0m\u001b[0;34m\u001b[0m\u001b[0;34m\u001b[0m\u001b[0m\n\u001b[0m\u001b[1;32m    550\u001b[0m                 \u001b[0mself\u001b[0m\u001b[0;34m.\u001b[0m\u001b[0maxes\u001b[0m\u001b[0;34m[\u001b[0m\u001b[0;36m0\u001b[0m\u001b[0;34m]\u001b[0m\u001b[0;34m.\u001b[0m\u001b[0mset_title\u001b[0m\u001b[0;34m(\u001b[0m\u001b[0mself\u001b[0m\u001b[0;34m.\u001b[0m\u001b[0mtitle\u001b[0m\u001b[0;34m)\u001b[0m\u001b[0;34m\u001b[0m\u001b[0;34m\u001b[0m\u001b[0m\n\u001b[1;32m    551\u001b[0m \u001b[0;34m\u001b[0m\u001b[0m\n",
            "\u001b[0;31mValueError\u001b[0m: Using `title` of type `list` is not supported unless `subplots=True` is passed"
          ]
        },
        {
          "output_type": "display_data",
          "data": {
            "text/plain": [
              "<Figure size 432x288 with 1 Axes>"
            ],
            "image/png": "[encoded data removed]"
          },
          "metadata": {
            "needs_background": "light"
          }
        }
      ]
    },
    {
      "cell_type": "markdown",
      "source": [
        "### QnA Performance"
      ],
      "metadata": {
        "id": "ezfnzDGUBsNm"
      }
    },
    {
      "cell_type": "code",
      "source": [
        "test3 = ['Question 1', 'Question 2', 'Question 3', 'Question 4', 'Question 5']\n",
        "result3 = pd.DataFrame({'Dask': [74, 70, 104, 100, 76], \n",
        "                        'Pyspark': [32, 28.5, 30, 25.7, 154], \n",
        "                        'Koalas' : [0.458, 0.414, 0.697, 0.413, 0.283]}, \n",
        "                        index = test3)\n",
        "result3"
      ],
      "metadata": {
        "id": "Zq4VS2NdBvvJ"
      },
      "execution_count": null,
      "outputs": []
    },
    {
      "cell_type": "code",
      "source": [
        "for test in result3.index:\n",
        "  result3.loc[test].plot(kind='bar', title=test)\n",
        "  plt.ylabel(\"seconds\")\n",
        "  plt.show()"
      ],
      "metadata": {
        "id": "Y0cRmouVEj8I"
      },
      "execution_count": null,
      "outputs": []
    },
    {
      "cell_type": "markdown",
      "metadata": {
        "id": "md_Am1oeVtTJ"
      },
      "source": [
        "# Inferences and Conclusion\n"
      ]
    },
    {
      "cell_type": "markdown",
      "source": [
        "After conducting Exploratory Data Analysis (EDA) on the NYC parking ticket dataset using Dask, PySpark, and Koalas, it is clear that each library has its own strengths and weaknesses. Dask is a powerful library for parallel processing and is well-suited for large datasets, but it can be challenging to set up and can be less intuitive than other libraries. PySpark is widely used in the big data community and is known for its scalability and ability to handle large datasets, but it can be challenging to use and has a steep learning curve. Koalas, on the other hand, provides a familiar interface to users who are familiar with Pandas, and is relatively easy to use, but its performance may not be as robust as other libraries for larger datasets.\n",
        "\n",
        "Based on the results of our EDA, we found that Dask was the fastest library for processing the dataset, followed by PySpark, and then Koalas. However, it is important to note that performance is just one factor to consider when choosing a library, and other factors such as ease of use, community support, and compatibility with other tools and systems should also be taken into account.\n",
        "\n",
        "In conclusion, each library has its own strengths and weaknesses, and the best library to use will depend on the specific needs of your project and the size and complexity of your dataset. If you are working with large datasets and require parallel processing, Dask may be the best choice, but if you are looking for a more intuitive and user-friendly library, Koalas may be a better option. On the other hand, if you are working in a big data environment and require scalability and compatibility with other big data tools, PySpark may be the best choice."
      ],
      "metadata": {
        "id": "65ntD6OyZEnf"
      }
    },
    {
      "cell_type": "markdown",
      "metadata": {
        "id": "g8UTxyLRV-JU"
      },
      "source": [
        "# References and Future Work\n"
      ]
    },
    {
      "cell_type": "markdown",
      "source": [
        "**References**:\n",
        "\n",
        "1. \"Dask: Parallel Computation with Task Scheduling\" (https://dask.org/)\n",
        "2. \"Apache Spark - Lightning-Fast Cluster Computing\" (https://spark.apache.org/)\n",
        "3. \"Koalas: pandas API on Apache Spark\" (https://koalas.readthedocs.io/en/latest/)\n",
        "\n",
        "**Future Work**\n",
        "\n",
        "1. Evaluate the performance of the libraries for even larger datasets and with more complex operations to better understand their scalability and limitations.\n",
        "2. Compare the libraries on other aspects such as ease of use, community support, and compatibility with other big data tools and systems.\n",
        "3. Extend the analysis to include other libraries such as Pandas, Vaex, and Modin to see how they compare to the three libraries evaluated in this project.\n",
        "4. Apply machine learning algorithms to the dataset to see how the libraries handle modeling and prediction tasks.\n",
        "5. Investigate the possibility of integrating the libraries to leverage their strengths and overcome their limitations.\n",
        "\n",
        "&ensp;This project is just a starting point for evaluating the different big data processing libraries. There is much more that can be done to understand the strengths and limitations of each library and to determine the best fit for different big data processing needs."
      ],
      "metadata": {
        "id": "Y_SAp3YPZcHH"
      }
    }
  ],
  "metadata": {
    "colab": {
      "provenance": [],
      "include_colab_link": true
    },
    "kernelspec": {
      "display_name": "Python 3",
      "name": "python3"
    },
    "language_info": {
      "name": "python"
    }
  },
  "nbformat": 4,
  "nbformat_minor": 0
}